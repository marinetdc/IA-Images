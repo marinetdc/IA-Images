{
 "cells": [
  {
   "cell_type": "markdown",
   "metadata": {},
   "source": [
    "# M2 Mathématiques Appliquées, Statistique, parcours Data Science.\n",
    "## Cours Image et Intelligence Articifielle, \n",
    "## Frédéric Richard, 2021.\n",
    "## TP 1.  Gradient stochastique pour la régression multinomiale.\n"
   ]
  },
  {
   "cell_type": "code",
   "execution_count": 218,
   "metadata": {},
   "outputs": [],
   "source": [
    "# Import \n",
    "import numpy as np\n",
    "import time\n",
    "import random\n",
    "import matplotlib.pyplot as plt\n",
    "import tensorflow as tf\n",
    "from tensorflow import keras\n",
    "from tensorflow.keras import layers\n",
    "from keras.preprocessing import image\n",
    "from keras import models\n",
    "from matplotlib.gridspec import  GridSpec"
   ]
  },
  {
   "cell_type": "markdown",
   "metadata": {},
   "source": [
    "Ce TP porte sur la régression multinomiale. L'objectif est d'étudier la descente de gradient stochastique utilisée pour l'estimation des paramètres de ce modèle. On travaillera sur la classification de chiffres manuscrits à partir de la base de données MNIST.\n"
   ]
  },
  {
   "cell_type": "markdown",
   "metadata": {},
   "source": [
    "## 1. Données MNIST"
   ]
  },
  {
   "cell_type": "markdown",
   "metadata": {},
   "source": [
    "La base de données MNIST est une base de données de chiffres écrits à la main. \n",
    "\n",
    "![MNIST](tp1-figure0.png \"MNIST\")\n",
    " \n",
    "Il s'agit d'une base de référence qui sert notamment à tester et comparer des algorithmes d'apprentissage statistique. L'objectif est de déterminer le chiffre écrit sur chaque image (problème de classification d'images). La base MNIST se compose 60000 images d'apprentissage et 10000 de test. En Python, elle se télécharge facilement avec le package keras:"
   ]
  },
  {
   "cell_type": "code",
   "execution_count": 69,
   "metadata": {},
   "outputs": [],
   "source": [
    "from keras.datasets import mnist\n",
    "(X0, Y0), (X1, Y1) = mnist.load_data()"
   ]
  },
  {
   "cell_type": "markdown",
   "metadata": {},
   "source": [
    "Dans cette importation, X0 et X1 sont des bases d'images d'apprentissage et de test, respectivement. Ce sont des numpy.ndarray de taille n x 28 x 28, où n=60000 pour X0 et n=10000 pour X1. X0(i, :, :) est la ième image de la base d'apprentissage ; elle est de taille 28x28. On peut l'afficher avec la fonction imshow de matplotlib.pyplot. Les variables Y0 et Y1 contiennent les classes des observations dans chacune des bases. Les classes sont étiquetées de 0 à 9. \n",
    "\n",
    "\n",
    "Avant toute analyse, on préparer les données de la manière suivante:"
   ]
  },
  {
   "cell_type": "code",
   "execution_count": 70,
   "metadata": {
    "scrolled": true
   },
   "outputs": [
    {
     "data": {
      "text/plain": [
       "<matplotlib.image.AxesImage at 0x7fcba1425550>"
      ]
     },
     "execution_count": 70,
     "metadata": {},
     "output_type": "execute_result"
    },
    {
     "data": {
      "image/png": "[encoded data removed]",
      "text/plain": [
       "<Figure size 432x288 with 1 Axes>"
      ]
     },
     "metadata": {
      "needs_background": "light"
     },
     "output_type": "display_data"
    }
   ],
   "source": [
    "from matplotlib import pyplot as plt\n",
    "\n",
    "# On met le type des images en float.\n",
    "X0 = X0.astype('float32')\n",
    "X1 = X1.astype('float32')\n",
    "# On met les images sous la forme de vecteur.\n",
    "X0 = X0.reshape(60000, 784)\n",
    "X1 = X1.reshape(10000, 784) \n",
    "# On normalise les images.\n",
    "X0 /= 255\n",
    "X1 /= 255\n",
    "n = 2\n",
    "plt.imshow(X0[n, :].reshape(28, 28), cmap=\"gray\")"
   ]
  },
  {
   "cell_type": "markdown",
   "metadata": {},
   "source": [
    "## 2. Régression multinomiale."
   ]
  },
  {
   "cell_type": "markdown",
   "metadata": {},
   "source": [
    "La régression multinomiale est un modèle de classification qui étend la régression logistique lorsque le nombre de classes possibles est supérieur à 2. Le modèle est le suivant. On décrit la classe d'un individu au moyen d'une variable aléatoire $Y$ à valeurs dans un ensemble discret $\\{1,\\cdots, K\\}$ représentant des étiquettes de classe. Pour chaque individu, on dispose de variables $x$ (dites de régression) dans $\\mathbb{R}^p$. On suppose que la distribution de probabilités de $Y$ dépend de $x$ et d'un ensemble $\\theta = (\\theta^{(k)})_{k=1}^K$ de $K$ vecteurs de paramètres inconnus $\\theta^{(k)}$ dans $\\mathbb{R}^{p+1}$ selon le modèle **\"soft-max\"**\n",
    "\\begin{equation} \\label{eqn:softmax_proba}\n",
    "  \\forall \\: k \\in \\{1,\\cdots, K\\}, \\: \\mathbb{P}(Y = k) = \\frac{\\exp(\\langle \\theta^{(k)}, \\:  \\tilde{x} \\rangle )}{\\sum_{m=1}^K \\exp(\\langle \\theta^{(m)},  \\: \\tilde{x} \\rangle )},\\:\\:\\mathrm{avec}\\:\\: \\tilde{x} =  \\left( \\begin{array}{c} 1 \\\\ x \\end{array} \\right). \\end{equation}\n",
    "\n",
    "Les estimateurs du maximum de vraisemblance de l'échantillon sont les paramètres $\\theta$ qui minimisent le **critère d'entropie croisée**:\n",
    "    \\begin{equation} \\label{eqn:entropiecroisee}\n",
    "       \\mathcal{S}(\\theta) = - \\frac{1}{n} \\sum_{i=1}^n \\sum_{k=1}^K z_i^{(k)} \\log\\left(p_i^{(k)}(\\theta) \\right),\\end{equation}\n",
    "    avec\n",
    "    \\begin{equation} \n",
    "    z_i^{(k)} =  \\mathbf{1}_{y_i = k}\\:\\:\\:\\mathrm{et}\\:\\:\\: p_i^{(k)}(\\theta) = \\frac{\\exp(\\langle \\theta^{(k)},  \\: \\tilde{x}_i \\rangle )}{\\sum_{m=1}^K \\exp(\\langle \\theta^{(m)},  \\: \\tilde{x}_i \\rangle )}. \n",
    "    \\end{equation}   \n",
    "\n",
    " "
   ]
  },
  {
   "cell_type": "markdown",
   "metadata": {},
   "source": [
    "Dans le cadre de ce TP, l'objectif est de classer les images MNIST en K=10 classes $\\{0, \\cdots, 9\\}$. La variable $x_i$ représente la ième image (sous forme vectorielle) de la base d'apprentissage et $y_i$ son étiquette de classe.\n"
   ]
  },
  {
   "cell_type": "markdown",
   "metadata": {},
   "source": [
    "## 3. Descente de gradient."
   ]
  },
  {
   "cell_type": "markdown",
   "metadata": {},
   "source": [
    "Une descente de gradient est un algorithme itératif permettant de minimiser une application différentiable $\\mathcal{S}$ par rapport à un ensemble de variables $\\theta$. Dans la descente de gradient à pas fixe, la mise à jour des variables $\\theta$ s'écrit à chaque itération\n",
    "\\begin{equation} \\label{eqn:miseajour}\n",
    "  \\theta \\longleftarrow \\theta - \\rho \\: \\nabla_{\\theta}  \\mathcal{S}(\\theta),\n",
    "  \\end{equation}\n",
    "o\\`u $\\rho>0$ désigne un pas fixe et $\\nabla_{\\theta} \\mathcal{S}$ le gradient de $\\mathcal{S}$ par rapport à $\\theta$. \n",
    "\n",
    "\n",
    "\\exo  Le gradient de l'entropie croisée $\\mathcal{S}$ par rapport à $\\theta^{(k)}$ en $\\theta$ vaut\n",
    "    $$ \\nabla_{\\theta^{(k)}} \\mathcal{S}(\\theta) = \\frac{1}{n} \\sum_{i=1}^{n} \\left(p_i^{(k)}(\\theta) - z_i^{(k)}\\right) \\tilde{x}_i . $$\n",
    "\n",
    "\n",
    "**Exercice 1.** Écrire une fonction Python qui calcule ce gradient en respectant le modèle suivant."
   ]
  },
  {
   "cell_type": "code",
   "execution_count": 71,
   "metadata": {},
   "outputs": [],
   "source": [
    "def Soft_Max(X, Theta):\n",
    "    \"\"\"\n",
    "    Modèle soft-max de distribution de probabilité.        \n",
    "\n",
    "    Parameters\n",
    "    ----------\n",
    "    X : ndarray (n x p).\n",
    "        Matrice contenant les variables de régression.\n",
    "        La ligne i contient les valeurs des variables de régression \n",
    "        pour la ie observation. \n",
    "    Theta : ndarray (p+1 x K).\n",
    "        Matrice contenant les paramètres de régression pour \n",
    "        chaque classe.\n",
    "        La colonne k contient les paramètres de régression \n",
    "        pour la classe k.\n",
    "\n",
    "    Returns\n",
    "    -------\n",
    "    P : ndarray (n x K)\n",
    "        Matrice contenant les estimations des distributions\n",
    "        de probabilités\n",
    "        des classes de toutes les observations.\n",
    "        Sur la ligne i et la colonne k, P[i, k] donne l'estimation de \n",
    "        la probabilité que la ième observation soit dans la classe k\n",
    "        selon le modèle soft-max.\n",
    "    \"\"\"   \n",
    "    # Transformations linéaires et exponentielles.\n",
    "    P = np.exp(np.dot(X, Theta[1:, :]) + Theta[0, :])\n",
    "    # Normalisation.\n",
    "    P = P / np.sum(P, axis=1).reshape(P.shape[0], 1)\n",
    "\n",
    "    return(P)\n",
    "\n",
    "def Cross_Entropy(C, P):\n",
    "    \"\"\"\n",
    "    Critère d'entropie croisée.\n",
    "\n",
    "    Parameters\n",
    "    ----------\n",
    "    C : ndarray (n x 1)\n",
    "        Vecteur contenant les étiquettes de classe de chaque\n",
    "        observation.\n",
    "    P : ndarray (n x K)\n",
    "        Matrice contenant les estimations des distributions\n",
    "        de probabilités des classes de toutes les observations\n",
    "        (voir Soft_Max).\n",
    "   \n",
    "    Returns\n",
    "    -------\n",
    "    J : scalar.\n",
    "        Valeur de l'entropie croisée.\n",
    "    \"\"\" \n",
    "    V = np.zeros(C.shape)\n",
    "    for i in range(V.shape[0]):\n",
    "        V[i] = np.log(P[i, C[i]])\n",
    "    \n",
    "    return(-np.mean(V, axis=None))"
   ]
  },
  {
   "cell_type": "code",
   "execution_count": 72,
   "metadata": {},
   "outputs": [],
   "source": [
    "def Gradient(C,P,X, Theta):\n",
    "    \"\"\"\n",
    "    Gradient de l'entropie croisée \n",
    "    \n",
    "    Paramètres \n",
    "    ----------\n",
    "    C : ndarray (n x 1)\n",
    "        Vecteur contenant les étiquettes de classe de chaque\n",
    "        observation.\n",
    "    P : ndarray (n x K)\n",
    "        Matrice contenant les estimations des distributions\n",
    "        de probabilités des classes de toutes les observations\n",
    "        (voir Soft_Max).\n",
    "    X : ndarray (n x p).\n",
    "        Matrice contenant les variables de régression.\n",
    "        La ligne i contient les valeurs des variables de régression \n",
    "        pour la ie observation. \n",
    "    Theta : ndarray (p+1 x K).\n",
    "        Matrice contenant les paramètres de régression pour \n",
    "        chaque classe.\n",
    "        La colonne k contient les paramètres de régression \n",
    "        pour la classe k.\n",
    "    \n",
    "    Returns\n",
    "    -------\n",
    "    G : ndarray (p+1 x K). \n",
    "    \"\"\"\n",
    "    X = np.c_[np.ones(X.shape[0]),X]  #Ajoute le vecteur 1 à la matrice de desing \n",
    "    n = X.shape[0]  #Nombre de paramètre \n",
    "    G = np.zeros(Theta.shape)  #Matrice contenant après les gradients des différents paramètres \n",
    "    for k in range(P.shape[1]) :  #Pour chaque paramètre associé à une classe \n",
    "        z = [0 if np.where(P[i] == P[i,:].max())[0][0] != C[i] else 1 for i in range(n) ]  #Vecteur indicateur \n",
    "        G[:,k] = np.sum(1/n*X.T*(P[:,k]-z), axis=1)  #Gradient de tous les paramètres de cette classe \n",
    "    return G "
   ]
  },
  {
   "cell_type": "markdown",
   "metadata": {},
   "source": [
    "**Exercice 2.** Appliquer l'algorithme de descente de gradient sur les données MNIST en prenant 50000 données d'apprentissage et 10000 de validation. A chaque époque (itération), calculer la valeur de l'entropie sur les données d'apprentissage et de validations, ainsi que les scores de classification sur ces deux jeux de données. Relever également le temps d'exécution de chaque époque. Tracer ensuite les valeurs d'entropie et les scores de classification en fonction du temps de calcul (et/ou de l'époque). Pour le calcul du score de classification, on pourra s'aider de la fonction suivante."
   ]
  },
  {
   "cell_type": "code",
   "execution_count": 73,
   "metadata": {},
   "outputs": [],
   "source": [
    "def Classification_Score(C, X, Theta):\n",
    "    \"\"\"\n",
    "    Score de classification obtenu par régression multinomiale.\n",
    "\n",
    "    Parameters\n",
    "    ----------\n",
    "    C : ndarray (n x 1)\n",
    "        Vecteur contenant les étiquettes de classe de chaque\n",
    "        observation.\n",
    "    X : ndarray (n x p)\n",
    "        Matrice contenant les variables de régression.\n",
    "        La ligne i contient les valeurs des variables de régression \n",
    "        pour la ie observation.\n",
    "    Theta : ndarray (p+1 x K).\n",
    "        Matrice contenant les paramètres de régression pour \n",
    "        chaque classe. La colonne k contient les paramètres\n",
    "        de régression pour la classe k.\n",
    "\n",
    "    Returns\n",
    "    -------\n",
    "    score : scalar\n",
    "        Pourcentage d'observations bien classées.\n",
    "    P : ndarray (n, K)\n",
    "        Probabilités d'appartenance aux classes de chaque observation.\n",
    "    \"\"\"\n",
    "    P = Soft_Max(X, Theta)\n",
    "    Cest = np.argmax(P, axis=1)\n",
    "    score = np.nonzero(Cest == C)[0].size / P.shape[0] * 100\n",
    "    \n",
    "    return(score, P)"
   ]
  },
  {
   "cell_type": "code",
   "execution_count": 74,
   "metadata": {},
   "outputs": [],
   "source": [
    "#Création de données de validation \n",
    "\n",
    "X_train = X0[:50000]\n",
    "X_test = X0[50000:]\n",
    "\n",
    "y_train = Y0[:50000]\n",
    "y_test = Y0[50000:]\n",
    "\n",
    "#Jeu de données train et test\n",
    "\n",
    "#X_train = X0\n",
    "#X_test = X1\n",
    "\n",
    "#y_train = Y0\n",
    "#y_test = Y1\n",
    "\n",
    "iteration = 20"
   ]
  },
  {
   "cell_type": "code",
   "execution_count": 75,
   "metadata": {},
   "outputs": [],
   "source": [
    "#Theta = np.random.randint(10, size=(X0.shape[1]+1, 10))\n",
    "random.seed(10)\n",
    "Theta = np.random.rand(X0.shape[1]+1, 10)"
   ]
  },
  {
   "cell_type": "code",
   "execution_count": 76,
   "metadata": {},
   "outputs": [],
   "source": [
    "def DescentGradient(X_train,X_test, y_train, y_test, Theta, iteration, rho=1e-2) :\n",
    "    \n",
    "    \"\"\"\n",
    "    Algorithme de descente de gradient \n",
    "\n",
    "    Parameters\n",
    "    ----------\n",
    "    C : ndarray (n x 1)\n",
    "        Vecteur contenant les étiquettes de classe de chaque\n",
    "        observation.\n",
    "    X : ndarray (n x p)\n",
    "        Matrice contenant les variables de régression.\n",
    "        La ligne i contient les valeurs des variables de régression \n",
    "        pour la ie observation.\n",
    "    Y : ndarray (n x 1)\n",
    "        Vecteur contenant les classes de chaque exemple \n",
    "    Theta : ndarray (p+1 x K).\n",
    "        Matrice contenant les paramètres de régression pour \n",
    "        chaque classe. La colonne k contient les paramètres\n",
    "        de régression pour la classe k.\n",
    "    Iteration : réel \n",
    "        Nombre de fois où le modèle est entrainé sur le jeu de données \n",
    "    rho : nombre décimal \n",
    "        pas fixe \n",
    "\n",
    "    Returns\n",
    "    -------\n",
    "    score : scalar\n",
    "        Pourcentage d'observations bien classées.\n",
    "    P : ndarray (n, K)\n",
    "        Probabilités d'appartenance aux classes de chaque observation.\n",
    "    \"\"\"\n",
    "    \n",
    "    Entropie_Train = [] #liste qui contiendra le loss\n",
    "    score_train = []  \n",
    "    \n",
    "    Entropie_Test = []\n",
    "    score_test = []\n",
    "    \n",
    "    Theta = Theta.astype('float64')\n",
    "    \n",
    "    for i in range(iteration) : \n",
    "        \n",
    "        start_time = time.time()\n",
    "        \n",
    "        P_train =  Soft_Max(X_train, Theta)  #Proba de chaque classe pour le train \n",
    "        P_test = Soft_Max(X_test, Theta)\n",
    "        \n",
    "        Entropie_Train.append(Cross_Entropy(y_train,P_train))  #Erreur train\n",
    "        Entropie_Test.append(Cross_Entropy(y_test, P_test))  #Erreur test \n",
    "        \n",
    "        score_train.append(Classification_Score(y_train, X_train, Theta)[0])  #Score train \n",
    "        score_test.append(Classification_Score(y_test, X_test, Theta)[0])  #Score test\n",
    "    \n",
    "        G = Gradient(y_train,P_train,X_train, Theta)\n",
    "        \n",
    "        Theta -= rho*G  #Mise à jour du gradient \n",
    "        \n",
    "        print(\"--- %s seconds ---\" % (time.time() - start_time))\n",
    "        \n",
    "    return(Entropie_Train,Entropie_Test,score_train,score_test, Theta)\n",
    "        \n",
    "        "
   ]
  },
  {
   "cell_type": "code",
   "execution_count": 77,
   "metadata": {
    "scrolled": true
   },
   "outputs": [
    {
     "name": "stdout",
     "output_type": "stream",
     "text": [
      "--- 8.74510908126831 seconds ---\n",
      "--- 8.390963315963745 seconds ---\n",
      "--- 7.6527769565582275 seconds ---\n",
      "--- 7.53608512878418 seconds ---\n",
      "--- 7.560003042221069 seconds ---\n",
      "--- 7.4124369621276855 seconds ---\n",
      "--- 7.421588897705078 seconds ---\n",
      "--- 7.402545928955078 seconds ---\n",
      "--- 7.445439100265503 seconds ---\n",
      "--- 7.387683868408203 seconds ---\n",
      "--- 7.449540138244629 seconds ---\n",
      "--- 7.446968078613281 seconds ---\n",
      "--- 7.581496000289917 seconds ---\n",
      "--- 7.545357942581177 seconds ---\n",
      "--- 7.976664066314697 seconds ---\n",
      "--- 7.40339994430542 seconds ---\n",
      "--- 7.581864833831787 seconds ---\n",
      "--- 7.297775745391846 seconds ---\n",
      "--- 7.376529932022095 seconds ---\n",
      "--- 7.376080751419067 seconds ---\n"
     ]
    }
   ],
   "source": [
    "(Entropie_Train,Entropie_Test,score_train,score_test, Theta_DG) = DescentGradient(X_train,X_test, y_train, y_test, Theta, iteration)"
   ]
  },
  {
   "cell_type": "code",
   "execution_count": 78,
   "metadata": {
    "scrolled": true
   },
   "outputs": [
    {
     "data": {
      "image/png": "[encoded data removed]",
      "text/plain": [
       "<Figure size 432x288 with 1 Axes>"
      ]
     },
     "metadata": {
      "needs_background": "light"
     },
     "output_type": "display_data"
    }
   ],
   "source": [
    "x = np.array([i for i in range(iteration)])\n",
    "y = np.array(Entropie_Train)\n",
    "w = np.array(Entropie_Test)\n",
    "plt.plot(x, y, label='Train')\n",
    "plt.plot(x, w, label='Test')\n",
    "plt.legend()\n",
    "plt.title(\"Entropie\")\n",
    "\n",
    "plt.show()"
   ]
  },
  {
   "cell_type": "markdown",
   "metadata": {},
   "source": [
    "Les deux courbes décroissent à la même vitesse, ce qui est un marqueur d'un bon fonctionnement de l'agorithme. En effet, nous observons ni over ou under fitting. "
   ]
  },
  {
   "cell_type": "code",
   "execution_count": 79,
   "metadata": {
    "scrolled": true
   },
   "outputs": [
    {
     "data": {
      "image/png": "[encoded data removed]",
      "text/plain": [
       "<Figure size 432x288 with 1 Axes>"
      ]
     },
     "metadata": {
      "needs_background": "light"
     },
     "output_type": "display_data"
    }
   ],
   "source": [
    "x = np.array([i for i in range(iteration)])\n",
    "y = np.array(score_train)\n",
    "w = np.array(score_test)\n",
    "plt.plot(x, y, label='Train')\n",
    "plt.plot(x, w, label='Test')\n",
    "plt.legend()\n",
    "plt.title(\"Scores\")\n",
    "\n",
    "plt.show()"
   ]
  },
  {
   "cell_type": "markdown",
   "metadata": {},
   "source": [
    "---\n",
    "Les scores plafonent à 10, ce qui n'est pas incoryable .. La régression logistique appliquée comme ici ne prend pas en compte l'emplacement des informations de l'image. Cette dernière est traité comme un ensemble lisse de données, or l'emplacement des informaitons est importante ! Nous pouvons regarder plus précisément ce que notre modèle prédit. \n",
    "\n",
    "---"
   ]
  },
  {
   "cell_type": "markdown",
   "metadata": {},
   "source": [
    "**Fonction de prédition**"
   ]
  },
  {
   "cell_type": "code",
   "execution_count": 210,
   "metadata": {},
   "outputs": [
    {
     "data": {
      "text/plain": [
       "<matplotlib.image.AxesImage at 0x7fcba36b8610>"
      ]
     },
     "execution_count": 210,
     "metadata": {},
     "output_type": "execute_result"
    },
    {
     "data": {
      "image/png": "[encoded data removed]",
      "text/plain": [
       "<Figure size 432x288 with 1 Axes>"
      ]
     },
     "metadata": {
      "needs_background": "light"
     },
     "output_type": "display_data"
    }
   ],
   "source": [
    "plt.imshow(X_test[1, :].reshape(28, 28), cmap=\"gray\")"
   ]
  },
  {
   "cell_type": "code",
   "execution_count": 211,
   "metadata": {},
   "outputs": [],
   "source": [
    "def prediction(X, Theta) : \n",
    "    P = Soft_Max(X, Theta)\n",
    "    #print(P[0])\n",
    "    pred = []\n",
    "    for i in P : \n",
    "        pred.append(np.argmax(i))\n",
    "    return pred"
   ]
  },
  {
   "cell_type": "code",
   "execution_count": 212,
   "metadata": {},
   "outputs": [],
   "source": [
    "y_pred = prediction(X_test, Theta_DG)"
   ]
  },
  {
   "cell_type": "code",
   "execution_count": 213,
   "metadata": {},
   "outputs": [
    {
     "data": {
      "text/plain": [
       "9"
      ]
     },
     "execution_count": 213,
     "metadata": {},
     "output_type": "execute_result"
    }
   ],
   "source": [
    "y_pred[1]"
   ]
  },
  {
   "cell_type": "markdown",
   "metadata": {},
   "source": [
    "## 4. Descente de gradient stochastique par mini-lots."
   ]
  },
  {
   "cell_type": "markdown",
   "metadata": {},
   "source": [
    "L'algorithme de gradient stochastique est une modification de l'algorithme du gradient qui consiste à prendre un seul exemple d'apprentissage au hasard pour mettre à jour le paramètre $\\theta$ à chaque époque. On s'intéresse ici à une variante de l'algorithme de gradient stochastique qui fait ces mises à jour en prenant une série de mini-lots (batchs) d'exemples d'apprentissage tiré au hasard. Pour cet algorithme, le gradient de l'entropie croisée $\\mathcal{S}$ s'écrira\n",
    "$$ \\nabla_{\\theta^{(k)}} \\mathcal{S}(\\theta) = \\frac{1}{m} \\sum_{i \\in B_j} \\left(p_i^{(k)}(\\theta) - z_i^{(k)}\\right) \\tilde{x}_i, $$\n",
    "o\\`u $B_j$ est un ensemble qui regroupe $m$ indices d'un jème lot d'observations pris au hasard. Une époque de l'algorithme consistera en une série de plusieurs mises à jour faisant intervenir différents lots. Le nombre de mises à jour pour une époque pourra par exemple être fixé à $\\lfloor n / m \\rfloor$. La descente de gradient ordinaire est un cas particulier de la descente de gradient stochastique lorsque l'on fixe $m=n$. "
   ]
  },
  {
   "cell_type": "markdown",
   "metadata": {},
   "source": [
    "**Exercice 3.** Modifier le programme de la section précédente pour inclure des mises à jour sur mini-lots. Appliquer le programme aux données MNIST. Comparer les convergences des algorithmes de gradient et gradient stochastique par mini-lots. Discuter.\n",
    "\n"
   ]
  },
  {
   "cell_type": "code",
   "execution_count": 85,
   "metadata": {},
   "outputs": [],
   "source": [
    "def DescentGradientStochastique(X_train,X_test, y_train, y_test, Theta, iteration, batch=1,rho=1e-2) :\n",
    "    \n",
    "    \"\"\"\n",
    "    Algorithme de descente de gradient \n",
    "\n",
    "    Parameters\n",
    "    ----------\n",
    "    C : ndarray (n x 1)\n",
    "        Vecteur contenant les étiquettes de classe de chaque\n",
    "        observation.\n",
    "    X : ndarray (n x p)\n",
    "        Matrice contenant les variables de régression.\n",
    "        La ligne i contient les valeurs des variables de régression \n",
    "        pour la ie observation.\n",
    "    Y : ndarray (n x 1)\n",
    "        Vecteur contenant les classes de chaque exemple \n",
    "    Theta : ndarray (p+1 x K).\n",
    "        Matrice contenant les paramètres de régression pour \n",
    "        chaque classe. La colonne k contient les paramètres\n",
    "        de régression pour la classe k.\n",
    "    Iteration : réel \n",
    "        Nombre de fois où le modèle est entrainé sur le jeu de données \n",
    "    rho : nombre décimal \n",
    "        pas fixe \n",
    "    batch : réel \n",
    "        Nombre de mini-lots\n",
    "\n",
    "    Returns\n",
    "    -------\n",
    "    score : scalar\n",
    "        Pourcentage d'observations bien classées.\n",
    "    P : ndarray (n, K)\n",
    "        Probabilités d'appartenance aux classes de chaque observation.\n",
    "    \"\"\"\n",
    "    \n",
    "    Entropie_Train = []\n",
    "    score_train = []\n",
    "    \n",
    "    Entropie_Test = []\n",
    "    score_test = []\n",
    "    \n",
    "    Theta = Theta.astype('float64')\n",
    "    \n",
    "    pas = X_train.shape[0] // batch  #Division en mini lot \n",
    "    \n",
    "    for i in range(iteration) :  #Pour chaque itération \n",
    "        \n",
    "        ind = 0\n",
    "        \n",
    "        for b in range(batch) :  #Pour chaque mini-lot \n",
    "        \n",
    "            start_time = time.time()\n",
    "\n",
    "            P_train =  Soft_Max(X_train[ind:ind+pas], Theta)          \n",
    "\n",
    "            G = Gradient(y_train[ind:ind+pas],P_train,X_train[ind:ind+pas], Theta)\n",
    "\n",
    "            Theta -= rho*G\n",
    "            \n",
    "            ind += pas \n",
    "            \n",
    "            print(\"--- %s seconds ---\" % (time.time() - start_time))\n",
    "            \n",
    "        P_train =  Soft_Max(X_train, Theta)\n",
    "        P_test = Soft_Max(X_test, Theta)\n",
    "        \n",
    "        Entropie_Train.append(Cross_Entropy(y_train,P_train))\n",
    "        Entropie_Test.append(Cross_Entropy(y_test, P_test))\n",
    "        \n",
    "        score_train.append(Classification_Score(y_train, X_train, Theta)[0])\n",
    "        score_test.append(Classification_Score(y_test, X_test, Theta)[0])\n",
    "        \n",
    "    return(Entropie_Train,Entropie_Test,score_train,score_test)"
   ]
  },
  {
   "cell_type": "code",
   "execution_count": 86,
   "metadata": {},
   "outputs": [],
   "source": [
    "random.seed(10)\n",
    "Theta = np.random.rand(X0.shape[1]+1, 10)"
   ]
  },
  {
   "cell_type": "code",
   "execution_count": 87,
   "metadata": {},
   "outputs": [
    {
     "name": "stdout",
     "output_type": "stream",
     "text": [
      "--- 0.4993271827697754 seconds ---\n",
      "--- 0.5005753040313721 seconds ---\n",
      "--- 0.5054230690002441 seconds ---\n",
      "--- 0.49059128761291504 seconds ---\n",
      "--- 0.4940180778503418 seconds ---\n",
      "--- 0.4969649314880371 seconds ---\n",
      "--- 0.48940205574035645 seconds ---\n",
      "--- 0.5000147819519043 seconds ---\n",
      "--- 0.49350404739379883 seconds ---\n",
      "--- 0.48565196990966797 seconds ---\n",
      "--- 0.4960319995880127 seconds ---\n",
      "--- 0.6036639213562012 seconds ---\n",
      "--- 0.6112940311431885 seconds ---\n",
      "--- 0.6123497486114502 seconds ---\n",
      "--- 0.6136689186096191 seconds ---\n",
      "--- 0.582550048828125 seconds ---\n",
      "--- 0.630202054977417 seconds ---\n",
      "--- 0.4986560344696045 seconds ---\n",
      "--- 0.6213870048522949 seconds ---\n",
      "--- 0.5666990280151367 seconds ---\n",
      "--- 0.48432302474975586 seconds ---\n",
      "--- 0.4938507080078125 seconds ---\n",
      "--- 0.4831380844116211 seconds ---\n",
      "--- 0.5029017925262451 seconds ---\n",
      "--- 0.4882469177246094 seconds ---\n",
      "--- 0.5878040790557861 seconds ---\n",
      "--- 0.492600679397583 seconds ---\n",
      "--- 0.5082778930664062 seconds ---\n",
      "--- 0.49464917182922363 seconds ---\n",
      "--- 0.6215918064117432 seconds ---\n",
      "--- 0.4706151485443115 seconds ---\n",
      "--- 0.5991559028625488 seconds ---\n",
      "--- 0.6725213527679443 seconds ---\n",
      "--- 0.6316289901733398 seconds ---\n",
      "--- 0.6624007225036621 seconds ---\n",
      "--- 0.6493570804595947 seconds ---\n",
      "--- 0.6194970607757568 seconds ---\n",
      "--- 0.600135326385498 seconds ---\n",
      "--- 0.5749781131744385 seconds ---\n",
      "--- 0.6253559589385986 seconds ---\n",
      "--- 0.532562255859375 seconds ---\n",
      "--- 0.5329670906066895 seconds ---\n",
      "--- 0.5508551597595215 seconds ---\n",
      "--- 0.5127811431884766 seconds ---\n",
      "--- 0.515089750289917 seconds ---\n",
      "--- 0.5125079154968262 seconds ---\n",
      "--- 0.5063297748565674 seconds ---\n",
      "--- 0.5060069561004639 seconds ---\n",
      "--- 0.4992868900299072 seconds ---\n",
      "--- 0.49175095558166504 seconds ---\n",
      "--- 0.49675607681274414 seconds ---\n",
      "--- 0.48531293869018555 seconds ---\n",
      "--- 0.5104899406433105 seconds ---\n",
      "--- 0.544802188873291 seconds ---\n",
      "--- 0.5003249645233154 seconds ---\n",
      "--- 0.5168509483337402 seconds ---\n",
      "--- 0.6521708965301514 seconds ---\n",
      "--- 0.5256571769714355 seconds ---\n",
      "--- 0.579697847366333 seconds ---\n",
      "--- 0.569382905960083 seconds ---\n",
      "--- 0.5226249694824219 seconds ---\n",
      "--- 0.5402958393096924 seconds ---\n",
      "--- 0.5363621711730957 seconds ---\n",
      "--- 0.5275859832763672 seconds ---\n",
      "--- 0.5011389255523682 seconds ---\n",
      "--- 0.4986228942871094 seconds ---\n",
      "--- 0.4941389560699463 seconds ---\n",
      "--- 0.5117659568786621 seconds ---\n",
      "--- 0.522183895111084 seconds ---\n",
      "--- 0.5163838863372803 seconds ---\n",
      "--- 0.5166428089141846 seconds ---\n",
      "--- 0.5144557952880859 seconds ---\n",
      "--- 0.5317320823669434 seconds ---\n",
      "--- 0.560772180557251 seconds ---\n",
      "--- 0.6769402027130127 seconds ---\n",
      "--- 0.5303699970245361 seconds ---\n",
      "--- 0.5095767974853516 seconds ---\n",
      "--- 0.5392823219299316 seconds ---\n",
      "--- 0.5379903316497803 seconds ---\n",
      "--- 0.5307929515838623 seconds ---\n",
      "--- 0.5830321311950684 seconds ---\n",
      "--- 0.5741047859191895 seconds ---\n",
      "--- 0.531365156173706 seconds ---\n",
      "--- 0.5354509353637695 seconds ---\n",
      "--- 0.5288147926330566 seconds ---\n",
      "--- 0.5213110446929932 seconds ---\n",
      "--- 0.5631349086761475 seconds ---\n",
      "--- 0.5506560802459717 seconds ---\n",
      "--- 0.5428822040557861 seconds ---\n",
      "--- 0.5528309345245361 seconds ---\n",
      "--- 0.5564360618591309 seconds ---\n",
      "--- 0.5012707710266113 seconds ---\n",
      "--- 0.4980287551879883 seconds ---\n",
      "--- 0.4988882541656494 seconds ---\n",
      "--- 0.4908170700073242 seconds ---\n",
      "--- 0.47893500328063965 seconds ---\n",
      "--- 0.4905219078063965 seconds ---\n",
      "--- 0.49991893768310547 seconds ---\n",
      "--- 0.4827840328216553 seconds ---\n",
      "--- 0.4983677864074707 seconds ---\n",
      "--- 0.48007702827453613 seconds ---\n",
      "--- 0.4849879741668701 seconds ---\n",
      "--- 0.4978480339050293 seconds ---\n",
      "--- 0.48388099670410156 seconds ---\n",
      "--- 0.48809385299682617 seconds ---\n",
      "--- 0.5016229152679443 seconds ---\n",
      "--- 0.5027239322662354 seconds ---\n",
      "--- 0.5011928081512451 seconds ---\n",
      "--- 0.5010402202606201 seconds ---\n",
      "--- 0.5046792030334473 seconds ---\n",
      "--- 0.49116992950439453 seconds ---\n",
      "--- 0.5048229694366455 seconds ---\n",
      "--- 0.4985368251800537 seconds ---\n",
      "--- 0.5124349594116211 seconds ---\n",
      "--- 0.5077419281005859 seconds ---\n",
      "--- 0.5024368762969971 seconds ---\n",
      "--- 0.4898202419281006 seconds ---\n",
      "--- 0.49433398246765137 seconds ---\n",
      "--- 0.4993429183959961 seconds ---\n",
      "--- 0.5035707950592041 seconds ---\n",
      "--- 0.477855920791626 seconds ---\n",
      "--- 0.5091409683227539 seconds ---\n",
      "--- 0.5636427402496338 seconds ---\n",
      "--- 0.5274257659912109 seconds ---\n",
      "--- 0.48523402214050293 seconds ---\n",
      "--- 0.5185227394104004 seconds ---\n",
      "--- 0.5104761123657227 seconds ---\n",
      "--- 0.49394702911376953 seconds ---\n",
      "--- 0.5312137603759766 seconds ---\n",
      "--- 0.5047469139099121 seconds ---\n",
      "--- 0.5161900520324707 seconds ---\n",
      "--- 0.5312511920928955 seconds ---\n",
      "--- 0.5943107604980469 seconds ---\n",
      "--- 0.6030001640319824 seconds ---\n",
      "--- 0.6667933464050293 seconds ---\n",
      "--- 0.5603787899017334 seconds ---\n",
      "--- 0.5829041004180908 seconds ---\n",
      "--- 0.5552561283111572 seconds ---\n",
      "--- 0.54864501953125 seconds ---\n",
      "--- 0.5403618812561035 seconds ---\n",
      "--- 0.5146441459655762 seconds ---\n",
      "--- 0.501450777053833 seconds ---\n",
      "--- 0.5962960720062256 seconds ---\n",
      "--- 0.5577418804168701 seconds ---\n",
      "--- 0.6087968349456787 seconds ---\n",
      "--- 0.5463879108428955 seconds ---\n",
      "--- 0.5737431049346924 seconds ---\n",
      "--- 0.6049888134002686 seconds ---\n",
      "--- 0.5405092239379883 seconds ---\n",
      "--- 0.5186169147491455 seconds ---\n",
      "--- 0.5132622718811035 seconds ---\n",
      "--- 0.5121870040893555 seconds ---\n",
      "--- 0.48588991165161133 seconds ---\n",
      "--- 0.49999094009399414 seconds ---\n",
      "--- 0.4950978755950928 seconds ---\n",
      "--- 0.5043032169342041 seconds ---\n",
      "--- 0.484281063079834 seconds ---\n",
      "--- 0.4949910640716553 seconds ---\n",
      "--- 0.5177531242370605 seconds ---\n",
      "--- 0.4931471347808838 seconds ---\n",
      "--- 0.48746585845947266 seconds ---\n",
      "--- 0.49487996101379395 seconds ---\n",
      "--- 0.4915928840637207 seconds ---\n",
      "--- 0.48711705207824707 seconds ---\n",
      "--- 0.48770999908447266 seconds ---\n",
      "--- 0.49279212951660156 seconds ---\n",
      "--- 0.5057048797607422 seconds ---\n",
      "--- 0.4975600242614746 seconds ---\n",
      "--- 0.49779486656188965 seconds ---\n",
      "--- 0.5043551921844482 seconds ---\n",
      "--- 0.5296721458435059 seconds ---\n",
      "--- 0.5295450687408447 seconds ---\n",
      "--- 0.584226131439209 seconds ---\n",
      "--- 0.5856149196624756 seconds ---\n",
      "--- 0.5812559127807617 seconds ---\n",
      "--- 0.6365020275115967 seconds ---\n",
      "--- 0.5500490665435791 seconds ---\n",
      "--- 0.5574171543121338 seconds ---\n",
      "--- 0.5501980781555176 seconds ---\n",
      "--- 0.5999650955200195 seconds ---\n",
      "--- 0.7422041893005371 seconds ---\n",
      "--- 0.6264920234680176 seconds ---\n",
      "--- 0.6396210193634033 seconds ---\n",
      "--- 0.620373010635376 seconds ---\n",
      "--- 0.5517899990081787 seconds ---\n",
      "--- 0.5357668399810791 seconds ---\n",
      "--- 0.5319080352783203 seconds ---\n",
      "--- 0.5351071357727051 seconds ---\n",
      "--- 0.5244240760803223 seconds ---\n",
      "--- 0.4837191104888916 seconds ---\n",
      "--- 0.5170779228210449 seconds ---\n",
      "--- 0.5031859874725342 seconds ---\n",
      "--- 0.5220668315887451 seconds ---\n",
      "--- 0.4917867183685303 seconds ---\n",
      "--- 0.4927051067352295 seconds ---\n",
      "--- 0.49138402938842773 seconds ---\n",
      "--- 0.5307972431182861 seconds ---\n",
      "--- 0.5105531215667725 seconds ---\n",
      "--- 0.4915287494659424 seconds ---\n",
      "--- 0.4811062812805176 seconds ---\n"
     ]
    }
   ],
   "source": [
    "(Entropie_Train,Entropie_Test,score_train,score_test) = DescentGradientStochastique(X_train,X_test, y_train, y_test, Theta, iteration, batch=10)"
   ]
  },
  {
   "cell_type": "code",
   "execution_count": 88,
   "metadata": {
    "scrolled": true
   },
   "outputs": [
    {
     "data": {
      "image/png": "[encoded data removed]",
      "text/plain": [
       "<Figure size 432x288 with 1 Axes>"
      ]
     },
     "metadata": {
      "needs_background": "light"
     },
     "output_type": "display_data"
    }
   ],
   "source": [
    "x = np.array([i for i in range(iteration)])\n",
    "y = np.array(Entropie_Train)\n",
    "w = np.array(Entropie_Test)\n",
    "plt.plot(x, y, label='Train')\n",
    "plt.plot(x, w, label='Test')\n",
    "plt.legend()\n",
    "plt.title(\"Entropie\")\n",
    "\n",
    "plt.show()"
   ]
  },
  {
   "cell_type": "markdown",
   "metadata": {},
   "source": [
    "Ce graphique nous montre ni under ni over fitting. "
   ]
  },
  {
   "cell_type": "code",
   "execution_count": 89,
   "metadata": {
    "scrolled": true
   },
   "outputs": [
    {
     "data": {
      "image/png": "[encoded data removed]",
      "text/plain": [
       "<Figure size 432x288 with 1 Axes>"
      ]
     },
     "metadata": {
      "needs_background": "light"
     },
     "output_type": "display_data"
    }
   ],
   "source": [
    "x = np.array([i for i in range(iteration)])\n",
    "y = np.array(score_train)\n",
    "w = np.array(score_test)\n",
    "plt.plot(x, y, label='Train')\n",
    "plt.plot(x, w, label='Test')\n",
    "plt.legend()\n",
    "plt.title(\"Scores\")\n",
    "\n",
    "plt.show()"
   ]
  },
  {
   "cell_type": "markdown",
   "metadata": {},
   "source": [
    "---\n",
    "Ici nous pouvons constater que les courbes sont encore très basses le modèle sous apprend toujours. \n",
    "\n",
    "---"
   ]
  },
  {
   "cell_type": "markdown",
   "metadata": {},
   "source": [
    "**Exercice 4.** On réduit le nombre d'exemples d'apprentissage à 1000. Comparer et discuter les convergences des algorithmes appliqués dans ce cas et dans celui o\\`u le nombre d'exemple est fixé à 50000.\n",
    "\n"
   ]
  },
  {
   "cell_type": "code",
   "execution_count": 90,
   "metadata": {},
   "outputs": [],
   "source": [
    "X_train = X0[:1000]\n",
    "y_train = Y0[:1000]"
   ]
  },
  {
   "cell_type": "code",
   "execution_count": 91,
   "metadata": {},
   "outputs": [],
   "source": [
    "#random.seed(10)\n",
    "#Theta = np.random.rand(X_train.shape[1]+1, 10)"
   ]
  },
  {
   "cell_type": "code",
   "execution_count": 92,
   "metadata": {},
   "outputs": [
    {
     "name": "stdout",
     "output_type": "stream",
     "text": [
      "--- 0.20257806777954102 seconds ---\n",
      "--- 0.16872715950012207 seconds ---\n",
      "--- 0.19095206260681152 seconds ---\n",
      "--- 0.16723084449768066 seconds ---\n",
      "--- 0.1850886344909668 seconds ---\n",
      "--- 0.16458988189697266 seconds ---\n",
      "--- 0.1766672134399414 seconds ---\n",
      "--- 0.17423295974731445 seconds ---\n",
      "--- 0.17209982872009277 seconds ---\n",
      "--- 0.16817212104797363 seconds ---\n",
      "--- 0.17767024040222168 seconds ---\n",
      "--- 0.16666007041931152 seconds ---\n",
      "--- 0.1781597137451172 seconds ---\n",
      "--- 0.17509078979492188 seconds ---\n",
      "--- 0.20590901374816895 seconds ---\n",
      "--- 0.16993999481201172 seconds ---\n",
      "--- 0.1928720474243164 seconds ---\n",
      "--- 0.23728609085083008 seconds ---\n",
      "--- 0.19723105430603027 seconds ---\n",
      "--- 0.19350004196166992 seconds ---\n",
      "--- 0.010001897811889648 seconds ---\n",
      "--- 0.008753299713134766 seconds ---\n",
      "--- 0.008959054946899414 seconds ---\n",
      "--- 0.008858919143676758 seconds ---\n",
      "--- 0.008467912673950195 seconds ---\n",
      "--- 0.00845789909362793 seconds ---\n",
      "--- 0.008583307266235352 seconds ---\n",
      "--- 0.00855565071105957 seconds ---\n",
      "--- 0.009096860885620117 seconds ---\n",
      "--- 0.008569002151489258 seconds ---\n",
      "--- 0.00896596908569336 seconds ---\n",
      "--- 0.008622884750366211 seconds ---\n",
      "--- 0.008695125579833984 seconds ---\n",
      "--- 0.008812189102172852 seconds ---\n",
      "--- 0.009768962860107422 seconds ---\n",
      "--- 0.011626005172729492 seconds ---\n",
      "--- 0.008669137954711914 seconds ---\n",
      "--- 0.008766889572143555 seconds ---\n",
      "--- 0.00857996940612793 seconds ---\n",
      "--- 0.008605003356933594 seconds ---\n",
      "--- 0.008874893188476562 seconds ---\n",
      "--- 0.008939027786254883 seconds ---\n",
      "--- 0.011501073837280273 seconds ---\n",
      "--- 0.009813070297241211 seconds ---\n",
      "--- 0.00882411003112793 seconds ---\n",
      "--- 0.008661031723022461 seconds ---\n",
      "--- 0.00884103775024414 seconds ---\n",
      "--- 0.009788990020751953 seconds ---\n",
      "--- 0.015216827392578125 seconds ---\n",
      "--- 0.013794898986816406 seconds ---\n",
      "--- 0.00980997085571289 seconds ---\n",
      "--- 0.011484861373901367 seconds ---\n",
      "--- 0.014201879501342773 seconds ---\n",
      "--- 0.010461807250976562 seconds ---\n",
      "--- 0.011223077774047852 seconds ---\n",
      "--- 0.009486913681030273 seconds ---\n",
      "--- 0.009585142135620117 seconds ---\n",
      "--- 0.008796215057373047 seconds ---\n",
      "--- 0.009254932403564453 seconds ---\n",
      "--- 0.00946187973022461 seconds ---\n",
      "--- 0.014529228210449219 seconds ---\n",
      "--- 0.01252126693725586 seconds ---\n",
      "--- 0.010738134384155273 seconds ---\n",
      "--- 0.009779930114746094 seconds ---\n",
      "--- 0.010827064514160156 seconds ---\n",
      "--- 0.011775016784667969 seconds ---\n",
      "--- 0.011983871459960938 seconds ---\n",
      "--- 0.010570049285888672 seconds ---\n",
      "--- 0.009727954864501953 seconds ---\n",
      "--- 0.010587930679321289 seconds ---\n",
      "--- 0.010584115982055664 seconds ---\n",
      "--- 0.010874032974243164 seconds ---\n",
      "--- 0.01148533821105957 seconds ---\n",
      "--- 0.010014772415161133 seconds ---\n",
      "--- 0.010463953018188477 seconds ---\n",
      "--- 0.011497974395751953 seconds ---\n",
      "--- 0.010608196258544922 seconds ---\n",
      "--- 0.010293006896972656 seconds ---\n",
      "--- 0.009824991226196289 seconds ---\n",
      "--- 0.011513948440551758 seconds ---\n",
      "--- 0.010167121887207031 seconds ---\n",
      "--- 0.010557889938354492 seconds ---\n",
      "--- 0.01228189468383789 seconds ---\n",
      "--- 0.010565042495727539 seconds ---\n",
      "--- 0.009985923767089844 seconds ---\n",
      "--- 0.009696006774902344 seconds ---\n",
      "--- 0.011132955551147461 seconds ---\n",
      "--- 0.009708166122436523 seconds ---\n",
      "--- 0.008999109268188477 seconds ---\n",
      "--- 0.009490251541137695 seconds ---\n",
      "--- 0.010999917984008789 seconds ---\n",
      "--- 0.010890007019042969 seconds ---\n",
      "--- 0.00994420051574707 seconds ---\n",
      "--- 0.00974583625793457 seconds ---\n",
      "--- 0.011408090591430664 seconds ---\n",
      "--- 0.010529756546020508 seconds ---\n",
      "--- 0.010148048400878906 seconds ---\n",
      "--- 0.011268854141235352 seconds ---\n",
      "--- 0.01118612289428711 seconds ---\n",
      "--- 0.009974002838134766 seconds ---\n",
      "--- 0.012223005294799805 seconds ---\n",
      "--- 0.012735128402709961 seconds ---\n",
      "--- 0.010102987289428711 seconds ---\n",
      "--- 0.011865854263305664 seconds ---\n",
      "--- 0.01242685317993164 seconds ---\n",
      "--- 0.011665105819702148 seconds ---\n",
      "--- 0.010274171829223633 seconds ---\n",
      "--- 0.011795282363891602 seconds ---\n",
      "--- 0.011690139770507812 seconds ---\n",
      "--- 0.009603023529052734 seconds ---\n",
      "--- 0.01109004020690918 seconds ---\n",
      "--- 0.010061025619506836 seconds ---\n",
      "--- 0.011465072631835938 seconds ---\n",
      "--- 0.010286092758178711 seconds ---\n",
      "--- 0.011147022247314453 seconds ---\n",
      "--- 0.012295961380004883 seconds ---\n",
      "--- 0.013415098190307617 seconds ---\n",
      "--- 0.012043952941894531 seconds ---\n",
      "--- 0.015770912170410156 seconds ---\n",
      "--- 0.01398468017578125 seconds ---\n",
      "--- 0.009778976440429688 seconds ---\n",
      "--- 0.009799957275390625 seconds ---\n",
      "--- 0.00923919677734375 seconds ---\n",
      "--- 0.009692907333374023 seconds ---\n",
      "--- 0.009739875793457031 seconds ---\n",
      "--- 0.009114742279052734 seconds ---\n",
      "--- 0.010023355484008789 seconds ---\n",
      "--- 0.010238170623779297 seconds ---\n",
      "--- 0.01049494743347168 seconds ---\n",
      "--- 0.010766029357910156 seconds ---\n",
      "--- 0.009251832962036133 seconds ---\n",
      "--- 0.009474039077758789 seconds ---\n",
      "--- 0.009379148483276367 seconds ---\n",
      "--- 0.009402036666870117 seconds ---\n",
      "--- 0.009637117385864258 seconds ---\n",
      "--- 0.011269092559814453 seconds ---\n",
      "--- 0.010977983474731445 seconds ---\n",
      "--- 0.009384870529174805 seconds ---\n",
      "--- 0.009200096130371094 seconds ---\n",
      "--- 0.009168863296508789 seconds ---\n",
      "--- 0.00915980339050293 seconds ---\n",
      "--- 0.01028585433959961 seconds ---\n",
      "--- 0.009238958358764648 seconds ---\n",
      "--- 0.009187698364257812 seconds ---\n",
      "--- 0.010109186172485352 seconds ---\n",
      "--- 0.009484052658081055 seconds ---\n",
      "--- 0.009295940399169922 seconds ---\n",
      "--- 0.009279012680053711 seconds ---\n",
      "--- 0.009615182876586914 seconds ---\n",
      "--- 0.010052680969238281 seconds ---\n",
      "--- 0.010419845581054688 seconds ---\n",
      "--- 0.009333133697509766 seconds ---\n",
      "--- 0.009573221206665039 seconds ---\n",
      "--- 0.009994983673095703 seconds ---\n",
      "--- 0.011206865310668945 seconds ---\n",
      "--- 0.009803056716918945 seconds ---\n",
      "--- 0.009173870086669922 seconds ---\n",
      "--- 0.00945281982421875 seconds ---\n",
      "--- 0.010585784912109375 seconds ---\n",
      "--- 0.009434223175048828 seconds ---\n",
      "--- 0.009160995483398438 seconds ---\n",
      "--- 0.009279012680053711 seconds ---\n",
      "--- 0.010601043701171875 seconds ---\n",
      "--- 0.021419048309326172 seconds ---\n",
      "--- 0.017550230026245117 seconds ---\n",
      "--- 0.015507936477661133 seconds ---\n",
      "--- 0.010828971862792969 seconds ---\n",
      "--- 0.012457847595214844 seconds ---\n",
      "--- 0.013946056365966797 seconds ---\n",
      "--- 0.011576175689697266 seconds ---\n",
      "--- 0.012111186981201172 seconds ---\n",
      "--- 0.015133142471313477 seconds ---\n",
      "--- 0.012250185012817383 seconds ---\n",
      "--- 0.01415395736694336 seconds ---\n",
      "--- 0.01137685775756836 seconds ---\n",
      "--- 0.010577201843261719 seconds ---\n",
      "--- 0.01206517219543457 seconds ---\n",
      "--- 0.012980937957763672 seconds ---\n",
      "--- 0.013464689254760742 seconds ---\n",
      "--- 0.012174844741821289 seconds ---\n",
      "--- 0.016815900802612305 seconds ---\n",
      "--- 0.014759063720703125 seconds ---\n",
      "--- 0.01252293586730957 seconds ---\n",
      "--- 0.015047311782836914 seconds ---\n",
      "--- 0.013054132461547852 seconds ---\n",
      "--- 0.01597905158996582 seconds ---\n",
      "--- 0.015807151794433594 seconds ---\n",
      "--- 0.024169921875 seconds ---\n",
      "--- 0.027108192443847656 seconds ---\n",
      "--- 0.016890764236450195 seconds ---\n",
      "--- 0.013028144836425781 seconds ---\n",
      "--- 0.01164698600769043 seconds ---\n",
      "--- 0.011517047882080078 seconds ---\n",
      "--- 0.014568328857421875 seconds ---\n",
      "--- 0.013910770416259766 seconds ---\n",
      "--- 0.01356816291809082 seconds ---\n",
      "--- 0.013323068618774414 seconds ---\n",
      "--- 0.01453399658203125 seconds ---\n",
      "--- 0.014397859573364258 seconds ---\n",
      "--- 0.014014005661010742 seconds ---\n",
      "--- 0.01663994789123535 seconds ---\n",
      "--- 0.014949798583984375 seconds ---\n",
      "--- 0.02301311492919922 seconds ---\n",
      "--- 0.016887903213500977 seconds ---\n",
      "--- 0.021776199340820312 seconds ---\n",
      "--- 0.0157470703125 seconds ---\n",
      "--- 0.015648841857910156 seconds ---\n",
      "--- 0.015677928924560547 seconds ---\n",
      "--- 0.02050042152404785 seconds ---\n",
      "--- 0.01926398277282715 seconds ---\n",
      "--- 0.012710809707641602 seconds ---\n",
      "--- 0.011832952499389648 seconds ---\n",
      "--- 0.012087106704711914 seconds ---\n",
      "--- 0.011788129806518555 seconds ---\n",
      "--- 0.012620687484741211 seconds ---\n",
      "--- 0.012732982635498047 seconds ---\n",
      "--- 0.014003992080688477 seconds ---\n",
      "--- 0.011924028396606445 seconds ---\n",
      "--- 0.013292789459228516 seconds ---\n",
      "--- 0.015321969985961914 seconds ---\n"
     ]
    }
   ],
   "source": [
    "(Entropie_Train,Entropie_Test,score_train,score_test, Theta_DG) = DescentGradient(X_train,X_test, y_train, y_test, Theta, iteration)\n",
    "(Entropie_Train_St,Entropie_Test_St,score_train_St,score_test_St) = DescentGradientStochastique(X_train,X_test, y_train, y_test, Theta, iteration, batch=10)"
   ]
  },
  {
   "cell_type": "code",
   "execution_count": 93,
   "metadata": {
    "scrolled": true
   },
   "outputs": [
    {
     "data": {
      "image/png": "[encoded data removed]",
      "text/plain": [
       "<Figure size 1080x720 with 4 Axes>"
      ]
     },
     "metadata": {
      "needs_background": "light"
     },
     "output_type": "display_data"
    }
   ],
   "source": [
    "plt.figure(figsize = (15, 10))\n",
    "\n",
    "plt.subplot(221)\n",
    "\n",
    "x = np.array([i for i in range(iteration)])\n",
    "y = np.array(Entropie_Train)\n",
    "w = np.array(Entropie_Test)\n",
    "plt.plot(x, y, label='Train')\n",
    "plt.plot(x, w, label='Test')\n",
    "plt.legend()\n",
    "plt.title(\"Entropie\")\n",
    "\n",
    "plt.subplot(222)\n",
    "\n",
    "y = np.array(Entropie_Train_St)\n",
    "w = np.array(Entropie_Test_St)\n",
    "plt.plot(x, y, label='Train')\n",
    "plt.plot(x, w, label='Test')\n",
    "plt.legend()\n",
    "plt.title(\"Entropie Stochastique\")\n",
    "\n",
    "plt.subplot(223)\n",
    "\n",
    "y = np.array(score_train)\n",
    "w = np.array(score_test)\n",
    "plt.plot(x, y, label='Train')\n",
    "plt.plot(x, w, label='Test')\n",
    "plt.legend()\n",
    "plt.title(\"Scores\")\n",
    "\n",
    "plt.subplot(224)\n",
    "\n",
    "y = np.array(score_train_St)\n",
    "w = np.array(score_test_St)\n",
    "plt.plot(x, y, label='Train')\n",
    "plt.plot(x, w, label='Test')\n",
    "plt.legend()\n",
    "plt.title(\"Scores Stochastique\")\n",
    "\n",
    "\n",
    "\n",
    "plt.show()\n"
   ]
  },
  {
   "cell_type": "markdown",
   "metadata": {},
   "source": [
    "---\n",
    "On peut observer que la fonction de perte diminue plus rapidement dans le cas d'un gradient stochastique (mini-batch) avec peu de données. En revanche, les scores sont comparables entre eux. De plus, les scores sont comparables à ceux obtenus avec 6 fois plus de données. Cela prouve qu'un nombre plus important de données n'infuence pas la performance de l'algoritme mais bien son efficacité en terme de vitesse. \n",
    "\n",
    "---"
   ]
  },
  {
   "cell_type": "markdown",
   "metadata": {},
   "source": [
    "## 6. Régression multinomiale en keras."
   ]
  },
  {
   "cell_type": "markdown",
   "metadata": {},
   "source": [
    "**Exercice 5.** Mettre en oeuvre en keras le modèle de régression multinomiale. L'appliquer aux données MNIST. Tracer et commenter l'historique de l'apprentissage.\n"
   ]
  },
  {
   "cell_type": "code",
   "execution_count": 26,
   "metadata": {},
   "outputs": [],
   "source": [
    "import numpy as np\n",
    "from tensorflow import keras\n",
    "from tensorflow.keras import layers"
   ]
  },
  {
   "cell_type": "code",
   "execution_count": 27,
   "metadata": {},
   "outputs": [],
   "source": [
    "num_classes = 10\n",
    "input_shape = (784,1)"
   ]
  },
  {
   "cell_type": "code",
   "execution_count": 28,
   "metadata": {},
   "outputs": [],
   "source": [
    "y_train = keras.utils.to_categorical(Y0, num_classes) #Le vecteur labels est transformé en matrice (n x k) \n",
    "#où y_nk = 1 quand y_n = k, 0 sinon \n",
    "y_test = keras.utils.to_categorical(Y1, num_classes)"
   ]
  },
  {
   "cell_type": "code",
   "execution_count": 29,
   "metadata": {},
   "outputs": [
    {
     "data": {
      "text/plain": [
       "(60000, 10)"
      ]
     },
     "execution_count": 29,
     "metadata": {},
     "output_type": "execute_result"
    }
   ],
   "source": [
    "y_train.shape"
   ]
  },
  {
   "cell_type": "code",
   "execution_count": 30,
   "metadata": {},
   "outputs": [
    {
     "name": "stdout",
     "output_type": "stream",
     "text": [
      "Model: \"sequential\"\n",
      "_________________________________________________________________\n",
      "Layer (type)                 Output Shape              Param #   \n",
      "=================================================================\n",
      "flatten (Flatten)            (None, 784)               0         \n",
      "_________________________________________________________________\n",
      "dense (Dense)                (None, 10)                7850      \n",
      "=================================================================\n",
      "Total params: 7,850\n",
      "Trainable params: 7,850\n",
      "Non-trainable params: 0\n",
      "_________________________________________________________________\n"
     ]
    }
   ],
   "source": [
    "model = keras.Sequential(\n",
    "    [\n",
    "        keras.Input(shape=(784,1)), #shape de chaque vecteur d'entrée \n",
    "        layers.Flatten(), # Applatissement de la matrice (784 x 10) \n",
    "        layers.Dense(num_classes, activation=\"softmax\"), #Couche dense applicant la fonction d'acitivation softmax\n",
    "    ]\n",
    ")\n",
    "\n",
    "model.summary()"
   ]
  },
  {
   "cell_type": "code",
   "execution_count": 31,
   "metadata": {},
   "outputs": [],
   "source": [
    "model.compile(loss=\"categorical_crossentropy\", metrics=[\"accuracy\"]) #  Fonction de perte cossentropy et score \n"
   ]
  },
  {
   "cell_type": "code",
   "execution_count": 32,
   "metadata": {},
   "outputs": [
    {
     "name": "stdout",
     "output_type": "stream",
     "text": [
      "Epoch 1/20\n",
      "1500/1500 [==============================] - 2s 969us/step - loss: 0.7393 - accuracy: 0.8037 - val_loss: 0.3072 - val_accuracy: 0.9123\n",
      "Epoch 2/20\n",
      "1500/1500 [==============================] - 1s 611us/step - loss: 0.3189 - accuracy: 0.9090 - val_loss: 0.2828 - val_accuracy: 0.9227\n",
      "Epoch 3/20\n",
      "1500/1500 [==============================] - 1s 612us/step - loss: 0.2955 - accuracy: 0.9162 - val_loss: 0.2794 - val_accuracy: 0.9243\n",
      "Epoch 4/20\n",
      "1500/1500 [==============================] - 1s 607us/step - loss: 0.2854 - accuracy: 0.9228 - val_loss: 0.2785 - val_accuracy: 0.9237\n",
      "Epoch 5/20\n",
      "1500/1500 [==============================] - 1s 611us/step - loss: 0.2835 - accuracy: 0.9225 - val_loss: 0.2780 - val_accuracy: 0.9256\n",
      "Epoch 6/20\n",
      "1500/1500 [==============================] - 1s 610us/step - loss: 0.2769 - accuracy: 0.9255 - val_loss: 0.2744 - val_accuracy: 0.9278\n",
      "Epoch 7/20\n",
      "1500/1500 [==============================] - 1s 606us/step - loss: 0.2734 - accuracy: 0.9261 - val_loss: 0.2756 - val_accuracy: 0.9279\n",
      "Epoch 8/20\n",
      "1500/1500 [==============================] - 1s 618us/step - loss: 0.2799 - accuracy: 0.9260 - val_loss: 0.2776 - val_accuracy: 0.9298\n",
      "Epoch 9/20\n",
      "1500/1500 [==============================] - 1s 615us/step - loss: 0.2806 - accuracy: 0.9279 - val_loss: 0.2771 - val_accuracy: 0.9294\n",
      "Epoch 10/20\n",
      "1500/1500 [==============================] - 1s 618us/step - loss: 0.2780 - accuracy: 0.9280 - val_loss: 0.2781 - val_accuracy: 0.9313\n",
      "Epoch 11/20\n",
      "1500/1500 [==============================] - 1s 615us/step - loss: 0.2766 - accuracy: 0.9288 - val_loss: 0.2859 - val_accuracy: 0.9280\n",
      "Epoch 12/20\n",
      "1500/1500 [==============================] - 1s 613us/step - loss: 0.2836 - accuracy: 0.9254 - val_loss: 0.2827 - val_accuracy: 0.9286\n",
      "Epoch 13/20\n",
      "1500/1500 [==============================] - 1s 607us/step - loss: 0.2902 - accuracy: 0.9270 - val_loss: 0.2849 - val_accuracy: 0.9293\n",
      "Epoch 14/20\n",
      "1500/1500 [==============================] - 1s 616us/step - loss: 0.2727 - accuracy: 0.9293 - val_loss: 0.2853 - val_accuracy: 0.9307\n",
      "Epoch 15/20\n",
      "1500/1500 [==============================] - 1s 614us/step - loss: 0.2718 - accuracy: 0.9308 - val_loss: 0.2856 - val_accuracy: 0.9304\n",
      "Epoch 16/20\n",
      "1500/1500 [==============================] - 1s 613us/step - loss: 0.2795 - accuracy: 0.9285 - val_loss: 0.2861 - val_accuracy: 0.9313\n",
      "Epoch 17/20\n",
      "1500/1500 [==============================] - 1s 610us/step - loss: 0.2764 - accuracy: 0.9303 - val_loss: 0.2874 - val_accuracy: 0.9316\n",
      "Epoch 18/20\n",
      "1500/1500 [==============================] - 1s 610us/step - loss: 0.2781 - accuracy: 0.9303 - val_loss: 0.2923 - val_accuracy: 0.9284\n",
      "Epoch 19/20\n",
      "1500/1500 [==============================] - 1s 607us/step - loss: 0.2791 - accuracy: 0.9312 - val_loss: 0.2950 - val_accuracy: 0.9293\n",
      "Epoch 20/20\n",
      "1500/1500 [==============================] - 1s 614us/step - loss: 0.2732 - accuracy: 0.9319 - val_loss: 0.2912 - val_accuracy: 0.9302\n"
     ]
    }
   ],
   "source": [
    "history = model.fit(X0, y_train, epochs=iteration, validation_split=0.2)"
   ]
  },
  {
   "cell_type": "code",
   "execution_count": 33,
   "metadata": {
    "scrolled": true
   },
   "outputs": [
    {
     "name": "stdout",
     "output_type": "stream",
     "text": [
      "Test loss: 0.30853426456451416\n",
      "Test accuracy: 0.9264000058174133\n"
     ]
    }
   ],
   "source": [
    "score = model.evaluate(X1, y_test, verbose=0)\n",
    "print(\"Test loss:\", score[0])\n",
    "print(\"Test accuracy:\", score[1])"
   ]
  },
  {
   "cell_type": "code",
   "execution_count": 34,
   "metadata": {},
   "outputs": [
    {
     "data": {
      "image/png": "[encoded data removed]",
      "text/plain": [
       "<Figure size 1080x720 with 2 Axes>"
      ]
     },
     "metadata": {
      "needs_background": "light"
     },
     "output_type": "display_data"
    }
   ],
   "source": [
    "plt.figure(figsize = (15, 10))\n",
    "\n",
    "plt.subplot(221)\n",
    "\n",
    "x = np.array([i for i in range(iteration)])\n",
    "y = np.array(history.history['loss'])\n",
    "w = np.array(history.history['val_loss'])\n",
    "plt.plot(x, y, label='Train')\n",
    "plt.plot(x, w, label='Test')\n",
    "plt.legend()\n",
    "plt.title(\"Loss\")\n",
    "\n",
    "plt.subplot(222)\n",
    "\n",
    "y = np.array(history.history['accuracy'])\n",
    "w = np.array(history.history['val_accuracy'])\n",
    "plt.plot(x, y, label='Train')\n",
    "plt.plot(x, w, label='Test')\n",
    "plt.legend()\n",
    "plt.title(\"Accuracy\")\n",
    "\n",
    "plt.show()"
   ]
  },
  {
   "cell_type": "markdown",
   "metadata": {},
   "source": [
    "--- \n",
    "Ici on observe un bon entrainement sur les données. Ici le classifieur est entrainé sur 6000 données où 1200 sevent de cross validation. Il est tout de même testé à chaque tour sur 1000 données séparées. Malgrès que le jeu de données ne soit pas équivalent à celui précédent (5000<6000), le score est si différent que de modifier cela ne ferait pas de différence. \n",
    "\n",
    "La fonction de perte commence à augmenter à partir de 10 epochs, cela nous renseigne sur le moment où nous aurions pu arrêter l'entrainement. \n",
    "\n",
    "---"
   ]
  },
  {
   "cell_type": "markdown",
   "metadata": {},
   "source": [
    "**Exercice 6.** Mettre en oeuvre en Keras le réseau de neurones convolutionnel inspiré de LeNet-5 dont les couches sont décrites dans le tableau ci-dessous:\n",
    "\n",
    "| Type | Cartes | Noyau | Pas | Activation |\n",
    "|------|--------|-------|-----|-------|\n",
    "| Conv.| 6      | 5x5   | 1   | tanh  |\n",
    "| Av. Pooling | 6 | 2x2 | 2 | - | \n",
    "|Conv. | 12 | 5x5 | 1 | tanh |\n",
    "| Av. Pooling | 12 | 2x2 | 4 | - | \n",
    "| Dense | - | 10 | - | softmax|\n",
    "\n",
    "1. Indiquer la dimension des images et le nombre de paramètres à chaque couche. Comparer avec le modèle dense de la régression multinomiale.\n",
    "\n",
    "2. Appliquer le modèle aux données MNIST. Comparer les résultats avec ceux de la régression multinomiale.\n",
    "\n",
    "3. Visualiser les noyaux de convolution et apporter quelques éléments d'interprétation.\n",
    "\n",
    "4. Faire l'apprentissage du réseau sur 6000 exemples. Comparer ses performances avec le réseau dense appris dans les mêmes conditions. Discuter.\n",
    "\n"
   ]
  },
  {
   "cell_type": "markdown",
   "metadata": {},
   "source": [
    "### Vecteur"
   ]
  },
  {
   "cell_type": "code",
   "execution_count": 35,
   "metadata": {},
   "outputs": [],
   "source": [
    "keras.backend.clear_session()"
   ]
  },
  {
   "cell_type": "code",
   "execution_count": 36,
   "metadata": {
    "scrolled": true
   },
   "outputs": [
    {
     "name": "stdout",
     "output_type": "stream",
     "text": [
      "x_train shape: (60000, 784, 1)\n",
      "60000 train samples\n",
      "10000 test samples\n"
     ]
    }
   ],
   "source": [
    "x_train = np.expand_dims(X0, -1)\n",
    "x_test = np.expand_dims(X1, -1)\n",
    "print(\"x_train shape:\", x_train.shape)\n",
    "print(x_train.shape[0], \"train samples\")\n",
    "print(x_test.shape[0], \"test samples\")"
   ]
  },
  {
   "cell_type": "code",
   "execution_count": 37,
   "metadata": {},
   "outputs": [],
   "source": [
    "iteration = 20\n",
    "input_shape = (784, 1)\n",
    "num_classes = 10"
   ]
  },
  {
   "cell_type": "code",
   "execution_count": 38,
   "metadata": {},
   "outputs": [],
   "source": [
    "y_train = keras.utils.to_categorical(Y0, num_classes)\n",
    "y_test = keras.utils.to_categorical(Y1, num_classes)"
   ]
  },
  {
   "cell_type": "code",
   "execution_count": 39,
   "metadata": {
    "scrolled": true
   },
   "outputs": [
    {
     "name": "stdout",
     "output_type": "stream",
     "text": [
      "Model: \"sequential\"\n",
      "_________________________________________________________________\n",
      "Layer (type)                 Output Shape              Param #   \n",
      "=================================================================\n",
      "conv1d (Conv1D)              (None, 780, 6)            36        \n",
      "_________________________________________________________________\n",
      "average_pooling1d (AveragePo (None, 389, 6)            0         \n",
      "_________________________________________________________________\n",
      "conv1d_1 (Conv1D)            (None, 385, 12)           372       \n",
      "_________________________________________________________________\n",
      "average_pooling1d_1 (Average (None, 96, 12)            0         \n",
      "_________________________________________________________________\n",
      "flatten (Flatten)            (None, 1152)              0         \n",
      "_________________________________________________________________\n",
      "dense (Dense)                (None, 10)                11530     \n",
      "=================================================================\n",
      "Total params: 11,938\n",
      "Trainable params: 11,938\n",
      "Non-trainable params: 0\n",
      "_________________________________________________________________\n"
     ]
    }
   ],
   "source": [
    "model = keras.Sequential(\n",
    "    [\n",
    "        keras.Input(shape=input_shape), \n",
    "        keras.layers.Conv1D(filters=6, kernel_size=5, strides=1, activation=\"tanh\"),\n",
    "        keras.layers.AveragePooling1D(2*2, strides=2),\n",
    "        keras.layers.Conv1D(filters=12, kernel_size=5, strides=1, activation=\"tanh\"),\n",
    "        keras.layers.AveragePooling1D(2*2, strides=4),\n",
    "        keras.layers.Flatten(),\n",
    "        keras.layers.Dense(units=num_classes, activation=\"softmax\"),\n",
    "    ]\n",
    ")\n",
    "\n",
    "model.summary()"
   ]
  },
  {
   "cell_type": "code",
   "execution_count": 40,
   "metadata": {},
   "outputs": [
    {
     "name": "stdout",
     "output_type": "stream",
     "text": [
      "Epoch 1/20\n",
      "1500/1500 [==============================] - 8s 5ms/step - loss: 0.6583 - accuracy: 0.8161 - val_loss: 0.2474 - val_accuracy: 0.9273\n",
      "Epoch 2/20\n",
      "1500/1500 [==============================] - 8s 5ms/step - loss: 0.2610 - accuracy: 0.9211 - val_loss: 0.2060 - val_accuracy: 0.9405\n",
      "Epoch 3/20\n",
      "1500/1500 [==============================] - 8s 6ms/step - loss: 0.2140 - accuracy: 0.9366 - val_loss: 0.1790 - val_accuracy: 0.9484\n",
      "Epoch 4/20\n",
      "1500/1500 [==============================] - 8s 6ms/step - loss: 0.1811 - accuracy: 0.9454 - val_loss: 0.1739 - val_accuracy: 0.9511\n",
      "Epoch 5/20\n",
      "1500/1500 [==============================] - 10s 7ms/step - loss: 0.1704 - accuracy: 0.9484 - val_loss: 0.1654 - val_accuracy: 0.9528\n",
      "Epoch 6/20\n",
      "1500/1500 [==============================] - 10s 6ms/step - loss: 0.1591 - accuracy: 0.9516 - val_loss: 0.1623 - val_accuracy: 0.9522\n",
      "Epoch 7/20\n",
      "1500/1500 [==============================] - 9s 6ms/step - loss: 0.1536 - accuracy: 0.9526 - val_loss: 0.1637 - val_accuracy: 0.9516\n",
      "Epoch 8/20\n",
      "1500/1500 [==============================] - 8s 5ms/step - loss: 0.1492 - accuracy: 0.9549 - val_loss: 0.1523 - val_accuracy: 0.9563\n",
      "Epoch 9/20\n",
      "1500/1500 [==============================] - 9s 6ms/step - loss: 0.1458 - accuracy: 0.9562 - val_loss: 0.1481 - val_accuracy: 0.9574\n",
      "Epoch 10/20\n",
      "1500/1500 [==============================] - 8s 6ms/step - loss: 0.1452 - accuracy: 0.9577 - val_loss: 0.1476 - val_accuracy: 0.9584\n",
      "Epoch 11/20\n",
      "1500/1500 [==============================] - 9s 6ms/step - loss: 0.1357 - accuracy: 0.9585 - val_loss: 0.1453 - val_accuracy: 0.9592\n",
      "Epoch 12/20\n",
      "1500/1500 [==============================] - 8s 5ms/step - loss: 0.1333 - accuracy: 0.9595 - val_loss: 0.1469 - val_accuracy: 0.9579\n",
      "Epoch 13/20\n",
      "1500/1500 [==============================] - 9s 6ms/step - loss: 0.1294 - accuracy: 0.9604 - val_loss: 0.1401 - val_accuracy: 0.9590\n",
      "Epoch 14/20\n",
      "1500/1500 [==============================] - 8s 6ms/step - loss: 0.1272 - accuracy: 0.9631 - val_loss: 0.1482 - val_accuracy: 0.9577\n",
      "Epoch 15/20\n",
      "1500/1500 [==============================] - 10s 6ms/step - loss: 0.1233 - accuracy: 0.9631 - val_loss: 0.1405 - val_accuracy: 0.9612\n",
      "Epoch 16/20\n",
      "1500/1500 [==============================] - 9s 6ms/step - loss: 0.1219 - accuracy: 0.9631 - val_loss: 0.1471 - val_accuracy: 0.9577\n",
      "Epoch 17/20\n",
      "1500/1500 [==============================] - 9s 6ms/step - loss: 0.1213 - accuracy: 0.9634 - val_loss: 0.1337 - val_accuracy: 0.9622\n",
      "Epoch 18/20\n",
      "1500/1500 [==============================] - 8s 6ms/step - loss: 0.1142 - accuracy: 0.9637 - val_loss: 0.1409 - val_accuracy: 0.9582\n",
      "Epoch 19/20\n",
      "1500/1500 [==============================] - 9s 6ms/step - loss: 0.1192 - accuracy: 0.9637 - val_loss: 0.1334 - val_accuracy: 0.9629\n",
      "Epoch 20/20\n",
      "1500/1500 [==============================] - 9s 6ms/step - loss: 0.1115 - accuracy: 0.9667 - val_loss: 0.1318 - val_accuracy: 0.9638\n"
     ]
    }
   ],
   "source": [
    "model.compile(loss=\"categorical_crossentropy\", metrics=[\"accuracy\"])\n",
    "\n",
    "history = model.fit(x_train, y_train, epochs=iteration, validation_split=0.2)"
   ]
  },
  {
   "cell_type": "code",
   "execution_count": 41,
   "metadata": {},
   "outputs": [
    {
     "name": "stdout",
     "output_type": "stream",
     "text": [
      "Test loss: 0.1254134476184845\n",
      "Test accuracy: 0.9614999890327454\n"
     ]
    }
   ],
   "source": [
    "score = model.evaluate(x_test, y_test, verbose=0)\n",
    "print(\"Test loss:\", score[0])\n",
    "print(\"Test accuracy:\", score[1])"
   ]
  },
  {
   "cell_type": "code",
   "execution_count": 42,
   "metadata": {
    "scrolled": true
   },
   "outputs": [
    {
     "data": {
      "image/png": "[encoded data removed]",
      "text/plain": [
       "<Figure size 1080x720 with 2 Axes>"
      ]
     },
     "metadata": {
      "needs_background": "light"
     },
     "output_type": "display_data"
    }
   ],
   "source": [
    "plt.figure(figsize = (15, 10))\n",
    "\n",
    "plt.subplot(221)\n",
    "\n",
    "x = np.array([i for i in range(iteration)])\n",
    "y = np.array(history.history['loss'])\n",
    "w = np.array(history.history['val_loss'])\n",
    "plt.plot(x, y, label='Train')\n",
    "plt.plot(x, w, label='Test')\n",
    "plt.legend()\n",
    "plt.title(\"Loss\")\n",
    "\n",
    "plt.subplot(222)\n",
    "\n",
    "y = np.array(history.history['accuracy'])\n",
    "w = np.array(history.history['val_accuracy'])\n",
    "plt.plot(x, y, label='Train')\n",
    "plt.plot(x, w, label='Test')\n",
    "plt.legend()\n",
    "plt.title(\"Accuracy\")\n",
    "\n",
    "plt.show()"
   ]
  },
  {
   "cell_type": "markdown",
   "metadata": {},
   "source": [
    "--- \n",
    "Ici le modèle en 1D est assez efficace mais les courbes varient ce qui évoque une instabilité de l'apprentissage. En effet, les images étant en 2D, l'apprentissage en 1D n'est pas naturelle. L'information spatiale est perdue. \n",
    "\n",
    "---"
   ]
  },
  {
   "cell_type": "markdown",
   "metadata": {},
   "source": [
    "### Matrice"
   ]
  },
  {
   "cell_type": "code",
   "execution_count": 238,
   "metadata": {},
   "outputs": [],
   "source": [
    "keras.backend.clear_session()"
   ]
  },
  {
   "cell_type": "code",
   "execution_count": 239,
   "metadata": {},
   "outputs": [
    {
     "name": "stdout",
     "output_type": "stream",
     "text": [
      "x_train shape: (60000, 28, 28, 1)\n",
      "60000 train samples\n",
      "10000 test samples\n"
     ]
    }
   ],
   "source": [
    "X0 = X0.reshape(60000, 28, 28)\n",
    "X1 = X1.reshape(10000, 28, 28)\n",
    "# Make sure images have shape (28, 28, 1)\n",
    "x_train = np.expand_dims(X0, -1)\n",
    "x_test = np.expand_dims(X1, -1)\n",
    "print(\"x_train shape:\", x_train.shape)\n",
    "print(x_train.shape[0], \"train samples\")\n",
    "print(x_test.shape[0], \"test samples\")"
   ]
  },
  {
   "cell_type": "code",
   "execution_count": 240,
   "metadata": {},
   "outputs": [],
   "source": [
    "iteration = 20\n",
    "num_classes = 10"
   ]
  },
  {
   "cell_type": "code",
   "execution_count": 241,
   "metadata": {},
   "outputs": [],
   "source": [
    "y_train = keras.utils.to_categorical(Y0, num_classes)\n",
    "y_test = keras.utils.to_categorical(Y1, num_classes)"
   ]
  },
  {
   "cell_type": "code",
   "execution_count": 242,
   "metadata": {},
   "outputs": [],
   "source": [
    "input_shape = (28, 28,1)\n",
    "num_classes = 10"
   ]
  },
  {
   "cell_type": "code",
   "execution_count": 48,
   "metadata": {
    "scrolled": false
   },
   "outputs": [
    {
     "name": "stdout",
     "output_type": "stream",
     "text": [
      "Model: \"sequential\"\n",
      "_________________________________________________________________\n",
      "Layer (type)                 Output Shape              Param #   \n",
      "=================================================================\n",
      "conv2d (Conv2D)              (None, 24, 24, 6)         156       \n",
      "_________________________________________________________________\n",
      "average_pooling2d (AveragePo (None, 11, 11, 6)         0         \n",
      "_________________________________________________________________\n",
      "conv2d_1 (Conv2D)            (None, 7, 7, 12)          1812      \n",
      "_________________________________________________________________\n",
      "average_pooling2d_1 (Average (None, 3, 3, 12)          0         \n",
      "_________________________________________________________________\n",
      "flatten (Flatten)            (None, 108)               0         \n",
      "_________________________________________________________________\n",
      "dense (Dense)                (None, 10)                1090      \n",
      "=================================================================\n",
      "Total params: 3,058\n",
      "Trainable params: 3,058\n",
      "Non-trainable params: 0\n",
      "_________________________________________________________________\n"
     ]
    }
   ],
   "source": [
    "model = keras.Sequential(\n",
    "    [\n",
    "        keras.Input(shape=input_shape),\n",
    "        keras.layers.Conv2D(filters=6, kernel_size=(5, 5), strides=1, activation=\"tanh\"),\n",
    "        keras.layers.AveragePooling2D(2*2, strides=2),\n",
    "        keras.layers.Conv2D(filters=12, kernel_size=(5, 5), strides=1, activation=\"tanh\"),\n",
    "        keras.layers.AveragePooling2D(),\n",
    "        keras.layers.Flatten(),\n",
    "        keras.layers.Dense(num_classes, activation=\"softmax\"),\n",
    "    ]\n",
    ")\n",
    "\n",
    "model.summary()"
   ]
  },
  {
   "cell_type": "code",
   "execution_count": 49,
   "metadata": {
    "scrolled": true
   },
   "outputs": [
    {
     "name": "stdout",
     "output_type": "stream",
     "text": [
      "Epoch 1/20\n",
      "1500/1500 [==============================] - 9s 5ms/step - loss: 0.8381 - accuracy: 0.7717 - val_loss: 0.2472 - val_accuracy: 0.9287\n",
      "Epoch 2/20\n",
      "1500/1500 [==============================] - 8s 5ms/step - loss: 0.2315 - accuracy: 0.9321 - val_loss: 0.1611 - val_accuracy: 0.9524\n",
      "Epoch 3/20\n",
      "1500/1500 [==============================] - 8s 6ms/step - loss: 0.1496 - accuracy: 0.9554 - val_loss: 0.1145 - val_accuracy: 0.9669\n",
      "Epoch 4/20\n",
      "1500/1500 [==============================] - 8s 5ms/step - loss: 0.1177 - accuracy: 0.9656 - val_loss: 0.0966 - val_accuracy: 0.9717\n",
      "Epoch 5/20\n",
      "1500/1500 [==============================] - 8s 5ms/step - loss: 0.0934 - accuracy: 0.9734 - val_loss: 0.0863 - val_accuracy: 0.9757\n",
      "Epoch 6/20\n",
      "1500/1500 [==============================] - 8s 5ms/step - loss: 0.0834 - accuracy: 0.9760 - val_loss: 0.0754 - val_accuracy: 0.9784\n",
      "Epoch 7/20\n",
      "1500/1500 [==============================] - 8s 6ms/step - loss: 0.0743 - accuracy: 0.9776 - val_loss: 0.0764 - val_accuracy: 0.9778\n",
      "Epoch 8/20\n",
      "1500/1500 [==============================] - 7s 5ms/step - loss: 0.0661 - accuracy: 0.9805 - val_loss: 0.0696 - val_accuracy: 0.9791\n",
      "Epoch 9/20\n",
      "1500/1500 [==============================] - 8s 5ms/step - loss: 0.0599 - accuracy: 0.9824 - val_loss: 0.0653 - val_accuracy: 0.9814\n",
      "Epoch 10/20\n",
      "1500/1500 [==============================] - 7s 5ms/step - loss: 0.0609 - accuracy: 0.9818 - val_loss: 0.0624 - val_accuracy: 0.9822\n",
      "Epoch 11/20\n",
      "1500/1500 [==============================] - 8s 5ms/step - loss: 0.0543 - accuracy: 0.9838 - val_loss: 0.0616 - val_accuracy: 0.9818\n",
      "Epoch 12/20\n",
      "1500/1500 [==============================] - 8s 6ms/step - loss: 0.0502 - accuracy: 0.9853 - val_loss: 0.0615 - val_accuracy: 0.9818\n",
      "Epoch 13/20\n",
      "1500/1500 [==============================] - 8s 5ms/step - loss: 0.0488 - accuracy: 0.9856 - val_loss: 0.0596 - val_accuracy: 0.9818\n",
      "Epoch 14/20\n",
      "1500/1500 [==============================] - 8s 5ms/step - loss: 0.0479 - accuracy: 0.9857 - val_loss: 0.0590 - val_accuracy: 0.9818\n",
      "Epoch 15/20\n",
      "1500/1500 [==============================] - 8s 5ms/step - loss: 0.0458 - accuracy: 0.9859 - val_loss: 0.0595 - val_accuracy: 0.9817\n",
      "Epoch 16/20\n",
      "1500/1500 [==============================] - 8s 5ms/step - loss: 0.0445 - accuracy: 0.9871 - val_loss: 0.0577 - val_accuracy: 0.9839\n",
      "Epoch 17/20\n",
      "1500/1500 [==============================] - 8s 5ms/step - loss: 0.0433 - accuracy: 0.9875 - val_loss: 0.0569 - val_accuracy: 0.9839\n",
      "Epoch 18/20\n",
      "1500/1500 [==============================] - 8s 5ms/step - loss: 0.0408 - accuracy: 0.9874 - val_loss: 0.0543 - val_accuracy: 0.9833\n",
      "Epoch 19/20\n",
      "1500/1500 [==============================] - 8s 5ms/step - loss: 0.0435 - accuracy: 0.9873 - val_loss: 0.0538 - val_accuracy: 0.9837\n",
      "Epoch 20/20\n",
      "1500/1500 [==============================] - 8s 6ms/step - loss: 0.0395 - accuracy: 0.9872 - val_loss: 0.0545 - val_accuracy: 0.9841\n"
     ]
    }
   ],
   "source": [
    "model.compile(loss=\"categorical_crossentropy\", metrics=[\"accuracy\"])\n",
    "\n",
    "history = model.fit(x_train, y_train, epochs=iteration, validation_split=0.2)"
   ]
  },
  {
   "cell_type": "code",
   "execution_count": 50,
   "metadata": {},
   "outputs": [
    {
     "name": "stdout",
     "output_type": "stream",
     "text": [
      "Test loss: 0.040535926818847656\n",
      "Test accuracy: 0.9871000051498413\n"
     ]
    }
   ],
   "source": [
    "score = model.evaluate(x_test, y_test, verbose=0)\n",
    "print(\"Test loss:\", score[0])\n",
    "print(\"Test accuracy:\", score[1])"
   ]
  },
  {
   "cell_type": "code",
   "execution_count": 51,
   "metadata": {
    "scrolled": false
   },
   "outputs": [
    {
     "data": {
      "image/png": "[encoded data removed]",
      "text/plain": [
       "<Figure size 1080x720 with 2 Axes>"
      ]
     },
     "metadata": {
      "needs_background": "light"
     },
     "output_type": "display_data"
    }
   ],
   "source": [
    "plt.figure(figsize = (15, 10))\n",
    "\n",
    "plt.subplot(221)\n",
    "\n",
    "x = np.array([i for i in range(iteration)])\n",
    "y = np.array(history.history['loss'])\n",
    "w = np.array(history.history['val_loss'])\n",
    "plt.plot(x, y, label='Train')\n",
    "plt.plot(x, w, label='Test')\n",
    "plt.legend()\n",
    "plt.title(\"Loss\")\n",
    "\n",
    "plt.subplot(222)\n",
    "\n",
    "y = np.array(history.history['accuracy'])\n",
    "w = np.array(history.history['val_accuracy'])\n",
    "plt.plot(x, y, label='Train')\n",
    "plt.plot(x, w, label='Test')\n",
    "plt.legend()\n",
    "plt.title(\"Accuracy\")\n",
    "\n",
    "plt.show()"
   ]
  },
  {
   "cell_type": "markdown",
   "metadata": {},
   "source": [
    "--- \n",
    "Nous pouvons observer que les résultats du mdèles en 2D est meilleur qu'en une seule dimension. Nous puvons aussi voir que l'entrainement pourrait s'arreter au bout de 5 epochs. \n",
    "\n",
    "---"
   ]
  },
  {
   "cell_type": "markdown",
   "metadata": {},
   "source": [
    "### Visualisation des couches "
   ]
  },
  {
   "cell_type": "code",
   "execution_count": 243,
   "metadata": {},
   "outputs": [],
   "source": [
    "keras.backend.clear_session()"
   ]
  },
  {
   "cell_type": "code",
   "execution_count": 244,
   "metadata": {
    "scrolled": true
   },
   "outputs": [
    {
     "name": "stdout",
     "output_type": "stream",
     "text": [
      "Model: \"sequential\"\n",
      "_________________________________________________________________\n",
      "Layer (type)                 Output Shape              Param #   \n",
      "=================================================================\n",
      "conv2d (Conv2D)              (None, 24, 24, 6)         156       \n",
      "_________________________________________________________________\n",
      "average_pooling2d (AveragePo (None, 11, 11, 6)         0         \n",
      "_________________________________________________________________\n",
      "conv2d_1 (Conv2D)            (None, 7, 7, 12)          1812      \n",
      "_________________________________________________________________\n",
      "average_pooling2d_1 (Average (None, 3, 3, 12)          0         \n",
      "_________________________________________________________________\n",
      "flatten (Flatten)            (None, 108)               0         \n",
      "_________________________________________________________________\n",
      "dense (Dense)                (None, 10)                1090      \n",
      "=================================================================\n",
      "Total params: 3,058\n",
      "Trainable params: 3,058\n",
      "Non-trainable params: 0\n",
      "_________________________________________________________________\n"
     ]
    }
   ],
   "source": [
    "model = keras.Sequential()\n",
    "model.add(keras.Input(shape=input_shape))\n",
    "model.add(keras.layers.Conv2D(filters=6, kernel_size=(5, 5), strides=1, activation=\"tanh\"))\n",
    "model.add(keras.layers.AveragePooling2D(2*2, strides=2))\n",
    "model.add(keras.layers.Conv2D(filters=12, kernel_size=(5, 5), strides=1, activation=\"tanh\"))\n",
    "model.add(keras.layers.AveragePooling2D())\n",
    "model.add(keras.layers.Flatten())\n",
    "model.add(keras.layers.Dense(num_classes, activation=\"softmax\"))\n",
    "\n",
    "\n",
    "model.summary()"
   ]
  },
  {
   "cell_type": "code",
   "execution_count": 245,
   "metadata": {},
   "outputs": [
    {
     "name": "stdout",
     "output_type": "stream",
     "text": [
      "Epoch 1/20\n",
      "1500/1500 [==============================] - 9s 5ms/step - loss: 0.8457 - accuracy: 0.7595 - val_loss: 0.2071 - val_accuracy: 0.9424\n",
      "Epoch 2/20\n",
      "1500/1500 [==============================] - 8s 5ms/step - loss: 0.1970 - accuracy: 0.9441 - val_loss: 0.1344 - val_accuracy: 0.9617\n",
      "Epoch 3/20\n",
      "1500/1500 [==============================] - 7s 5ms/step - loss: 0.1309 - accuracy: 0.9626 - val_loss: 0.1080 - val_accuracy: 0.9689\n",
      "Epoch 4/20\n",
      "1500/1500 [==============================] - 7s 5ms/step - loss: 0.1053 - accuracy: 0.9687 - val_loss: 0.0893 - val_accuracy: 0.9742\n",
      "Epoch 5/20\n",
      "1500/1500 [==============================] - 8s 5ms/step - loss: 0.0867 - accuracy: 0.9730 - val_loss: 0.0851 - val_accuracy: 0.9765\n",
      "Epoch 6/20\n",
      "1500/1500 [==============================] - 8s 5ms/step - loss: 0.0773 - accuracy: 0.9778 - val_loss: 0.0732 - val_accuracy: 0.9792\n",
      "Epoch 7/20\n",
      "1500/1500 [==============================] - 8s 5ms/step - loss: 0.0724 - accuracy: 0.9786 - val_loss: 0.0717 - val_accuracy: 0.9791\n",
      "Epoch 8/20\n",
      "1500/1500 [==============================] - 8s 5ms/step - loss: 0.0646 - accuracy: 0.9806 - val_loss: 0.0661 - val_accuracy: 0.9811\n",
      "Epoch 9/20\n",
      "1500/1500 [==============================] - 8s 5ms/step - loss: 0.0611 - accuracy: 0.9819 - val_loss: 0.0623 - val_accuracy: 0.9816\n",
      "Epoch 10/20\n",
      "1500/1500 [==============================] - 8s 5ms/step - loss: 0.0578 - accuracy: 0.9829 - val_loss: 0.0587 - val_accuracy: 0.9823\n",
      "Epoch 11/20\n",
      "1500/1500 [==============================] - 8s 5ms/step - loss: 0.0517 - accuracy: 0.9845 - val_loss: 0.0578 - val_accuracy: 0.9828\n",
      "Epoch 12/20\n",
      "1500/1500 [==============================] - 8s 5ms/step - loss: 0.0527 - accuracy: 0.9836 - val_loss: 0.0599 - val_accuracy: 0.9819\n",
      "Epoch 13/20\n",
      "1500/1500 [==============================] - 8s 5ms/step - loss: 0.0496 - accuracy: 0.9852 - val_loss: 0.0542 - val_accuracy: 0.9839\n",
      "Epoch 14/20\n",
      "1500/1500 [==============================] - 8s 5ms/step - loss: 0.0470 - accuracy: 0.9855 - val_loss: 0.0536 - val_accuracy: 0.9842\n",
      "Epoch 15/20\n",
      "1500/1500 [==============================] - 8s 5ms/step - loss: 0.0496 - accuracy: 0.9852 - val_loss: 0.0522 - val_accuracy: 0.9841\n",
      "Epoch 16/20\n",
      "1500/1500 [==============================] - 8s 5ms/step - loss: 0.0414 - accuracy: 0.9873 - val_loss: 0.0604 - val_accuracy: 0.9814\n",
      "Epoch 17/20\n",
      "1500/1500 [==============================] - 8s 5ms/step - loss: 0.0428 - accuracy: 0.9867 - val_loss: 0.0530 - val_accuracy: 0.9846\n",
      "Epoch 18/20\n",
      "1500/1500 [==============================] - 8s 5ms/step - loss: 0.0412 - accuracy: 0.9873 - val_loss: 0.0509 - val_accuracy: 0.9847\n",
      "Epoch 19/20\n",
      "1500/1500 [==============================] - 8s 5ms/step - loss: 0.0416 - accuracy: 0.9862 - val_loss: 0.0494 - val_accuracy: 0.9863\n",
      "Epoch 20/20\n",
      "1500/1500 [==============================] - 8s 5ms/step - loss: 0.0370 - accuracy: 0.9885 - val_loss: 0.0506 - val_accuracy: 0.9862\n"
     ]
    }
   ],
   "source": [
    "model.compile(loss=\"categorical_crossentropy\", metrics=[\"accuracy\"])\n",
    "\n",
    "history = model.fit(x_train, y_train, epochs=iteration, validation_split=0.2)"
   ]
  },
  {
   "cell_type": "code",
   "execution_count": 246,
   "metadata": {},
   "outputs": [
    {
     "name": "stdout",
     "output_type": "stream",
     "text": [
      "Test loss: 0.04113612323999405\n",
      "Test accuracy: 0.9864000082015991\n"
     ]
    }
   ],
   "source": [
    "score = model.evaluate(x_test, y_test, verbose=0)\n",
    "print(\"Test loss:\", score[0])\n",
    "print(\"Test accuracy:\", score[1])"
   ]
  },
  {
   "cell_type": "code",
   "execution_count": 247,
   "metadata": {},
   "outputs": [
    {
     "name": "stdout",
     "output_type": "stream",
     "text": [
      "(28, 28)\n",
      "(28, 28, 1)\n",
      "(1, 28, 28, 1)\n",
      "(1, 28, 28, 1)\n"
     ]
    }
   ],
   "source": [
    "img_tensor = X1[1].reshape(28, 28)\n",
    "print(img_tensor.shape)\n",
    "img_tensor = image.img_to_array(img_tensor)\n",
    "print(img_tensor.shape)\n",
    "img_tensor = np.expand_dims(img_tensor, axis=0)\n",
    "img_tensor /= 255.\n",
    "print(img_tensor.shape)\n",
    "#plt.imshow(img_tensor)\n",
    "#plt.show()\n",
    "print(img_tensor.shape)"
   ]
  },
  {
   "cell_type": "code",
   "execution_count": 248,
   "metadata": {},
   "outputs": [],
   "source": [
    "layer_outputs = [layer.output for layer in model.layers[:7]] \n",
    "# Extracts the outputs of the top 12 layers\n",
    "activation_model = models.Model(inputs=model.input, outputs=layer_outputs) \n",
    "# Creates a model that will return these outputs, given the model input"
   ]
  },
  {
   "cell_type": "code",
   "execution_count": 249,
   "metadata": {},
   "outputs": [],
   "source": [
    "activations = activation_model.predict(img_tensor) \n",
    "# Returns a list of five Numpy arrays: one array per layer activation"
   ]
  },
  {
   "cell_type": "markdown",
   "metadata": {},
   "source": [
    "**Image d'entrée**"
   ]
  },
  {
   "cell_type": "code",
   "execution_count": 250,
   "metadata": {},
   "outputs": [
    {
     "data": {
      "image/png": "[encoded data removed]",
      "text/plain": [
       "<Figure size 432x288 with 1 Axes>"
      ]
     },
     "metadata": {
      "needs_background": "light"
     },
     "output_type": "display_data"
    }
   ],
   "source": [
    "plt.imshow(X1[1, :].reshape(28, 28), cmap=\"gray\")\n",
    "plt.show()"
   ]
  },
  {
   "cell_type": "markdown",
   "metadata": {},
   "source": [
    "**1ere couche de convolution** "
   ]
  },
  {
   "cell_type": "code",
   "execution_count": 251,
   "metadata": {},
   "outputs": [
    {
     "name": "stdout",
     "output_type": "stream",
     "text": [
      "(1, 24, 24, 6)\n"
     ]
    }
   ],
   "source": [
    "first_layer_activation = activations[0]\n",
    "print(first_layer_activation.shape)"
   ]
  },
  {
   "cell_type": "code",
   "execution_count": 252,
   "metadata": {},
   "outputs": [
    {
     "data": {
      "image/png": "[encoded data removed]",
      "text/plain": [
       "<Figure size 432x288 with 6 Axes>"
      ]
     },
     "metadata": {
      "needs_background": "light"
     },
     "output_type": "display_data"
    }
   ],
   "source": [
    "ncols = 6\n",
    "nrows = 1\n",
    "grid = GridSpec(nrows, ncols,left=0.1, bottom=0.05, right=10, top=10)\n",
    "fig = plt.figure(0)\n",
    "fig.clf()\n",
    "\n",
    "\n",
    "ax = []\n",
    "for i in range(ncols) : \n",
    "    ax.append(fig.add_subplot(grid[0, i]))\n",
    "for i in range(ncols) : \n",
    "    ax[i].matshow(first_layer_activation[0, :, :, i], cmap='viridis')\n",
    "    \n",
    "plt.show()"
   ]
  },
  {
   "cell_type": "markdown",
   "metadata": {},
   "source": [
    "**2eme couche**"
   ]
  },
  {
   "cell_type": "code",
   "execution_count": 253,
   "metadata": {},
   "outputs": [
    {
     "name": "stdout",
     "output_type": "stream",
     "text": [
      "(1, 11, 11, 6)\n"
     ]
    }
   ],
   "source": [
    "first_layer_activation = activations[1]\n",
    "print(first_layer_activation.shape)"
   ]
  },
  {
   "cell_type": "code",
   "execution_count": 254,
   "metadata": {
    "scrolled": true
   },
   "outputs": [
    {
     "data": {
      "image/png": "[encoded data removed]",
      "text/plain": [
       "<Figure size 432x288 with 6 Axes>"
      ]
     },
     "metadata": {
      "needs_background": "light"
     },
     "output_type": "display_data"
    }
   ],
   "source": [
    "ncols = 6\n",
    "nrows = 1\n",
    "grid = GridSpec(nrows, ncols,left=0.1, bottom=0.05, right=10, top=10)\n",
    "fig = plt.figure(0)\n",
    "fig.clf()\n",
    "\n",
    "\n",
    "ax = []\n",
    "for i in range(ncols) : \n",
    "    ax.append(fig.add_subplot(grid[0, i]))\n",
    "for i in range(ncols) : \n",
    "    ax[i].matshow(first_layer_activation[0, :, :, i], cmap='viridis')\n",
    "    \n",
    "plt.show()"
   ]
  },
  {
   "cell_type": "markdown",
   "metadata": {},
   "source": [
    "**3eme couche**"
   ]
  },
  {
   "cell_type": "code",
   "execution_count": 255,
   "metadata": {},
   "outputs": [
    {
     "name": "stdout",
     "output_type": "stream",
     "text": [
      "(1, 7, 7, 12)\n"
     ]
    }
   ],
   "source": [
    "first_layer_activation = activations[2]\n",
    "print(first_layer_activation.shape)"
   ]
  },
  {
   "cell_type": "code",
   "execution_count": 256,
   "metadata": {},
   "outputs": [
    {
     "data": {
      "image/png": "[encoded data removed]",
      "text/plain": [
       "<Figure size 432x288 with 12 Axes>"
      ]
     },
     "metadata": {
      "needs_background": "light"
     },
     "output_type": "display_data"
    }
   ],
   "source": [
    "ncols = 12\n",
    "nrows = 1\n",
    "grid = GridSpec(nrows, ncols,left=0.1, bottom=0.05, right=10, top=10)\n",
    "fig = plt.figure(0)\n",
    "fig.clf()\n",
    "\n",
    "\n",
    "ax = []\n",
    "for i in range(ncols) : \n",
    "    ax.append(fig.add_subplot(grid[0, i]))\n",
    "for i in range(ncols) : \n",
    "    ax[i].matshow(first_layer_activation[0, :, :, i], cmap='viridis')\n",
    "    \n",
    "plt.show()"
   ]
  },
  {
   "cell_type": "markdown",
   "metadata": {},
   "source": [
    "**4eme couche**"
   ]
  },
  {
   "cell_type": "code",
   "execution_count": 257,
   "metadata": {},
   "outputs": [
    {
     "name": "stdout",
     "output_type": "stream",
     "text": [
      "(1, 3, 3, 12)\n"
     ]
    }
   ],
   "source": [
    "first_layer_activation = activations[3]\n",
    "print(first_layer_activation.shape)"
   ]
  },
  {
   "cell_type": "code",
   "execution_count": 258,
   "metadata": {
    "scrolled": true
   },
   "outputs": [
    {
     "data": {
      "image/png": "[encoded data removed]",
      "text/plain": [
       "<Figure size 432x288 with 12 Axes>"
      ]
     },
     "metadata": {
      "needs_background": "light"
     },
     "output_type": "display_data"
    }
   ],
   "source": [
    "ncols = 12\n",
    "nrows = 1\n",
    "grid = GridSpec(nrows, ncols,left=0.1, bottom=0.05, right=10, top=10)\n",
    "fig = plt.figure(0)\n",
    "fig.clf()\n",
    "\n",
    "\n",
    "ax = []\n",
    "for i in range(ncols) : \n",
    "    ax.append(fig.add_subplot(grid[0, i]))\n",
    "for i in range(ncols) : \n",
    "    ax[i].matshow(first_layer_activation[0, :, :, i], cmap='viridis')\n",
    "    \n",
    "plt.show()"
   ]
  },
  {
   "cell_type": "markdown",
   "metadata": {},
   "source": [
    "Visualisation d'un réseau de neurones sur les données MNIST : https://www.cs.ryerson.ca/~aharley/vis/conv/"
   ]
  }
 ],
 "metadata": {
  "kernelspec": {
   "display_name": "Python 3",
   "language": "python",
   "name": "python3"
  },
  "language_info": {
   "codemirror_mode": {
    "name": "ipython",
    "version": 3
   },
   "file_extension": ".py",
   "mimetype": "text/x-python",
   "name": "python",
   "nbconvert_exporter": "python",
   "pygments_lexer": "ipython3",
   "version": "3.8.3"
  }
 },
 "nbformat": 4,
 "nbformat_minor": 4
}
