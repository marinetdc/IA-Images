{
 "cells": [
  {
   "cell_type": "markdown",
   "metadata": {},
   "source": [
    "# M2 Mathématiques Appliquées, Statistique, parcours Data Science.\n",
    "## Cours Image et Intelligence Articifielle, \n",
    "## Enoncé construit par Frédéric Richard, 2021 et complété par Marine Troadec, 2021.\n",
    "## TP 1.  Gradient stochastique pour la régression multinomiale.\n"
   ]
  },
  {
   "cell_type": "code",
   "execution_count": 1,
   "metadata": {},
   "outputs": [],
   "source": [
    "# Import \n",
    "import numpy as np\n",
    "import time\n",
    "import random\n",
    "import matplotlib.pyplot as plt\n",
    "import tensorflow as tf\n",
    "from tensorflow import keras\n",
    "from tensorflow.keras import layers\n",
    "from keras.preprocessing import image\n",
    "from keras import models\n",
    "from matplotlib.gridspec import  GridSpec"
   ]
  },
  {
   "cell_type": "markdown",
   "metadata": {},
   "source": [
    "Ce TP porte sur la régression multinomiale. L'objectif est d'étudier la descente de gradient stochastique utilisée pour l'estimation des paramètres de ce modèle. On travaillera sur la classification de chiffres manuscrits à partir de la base de données MNIST.\n"
   ]
  },
  {
   "cell_type": "markdown",
   "metadata": {},
   "source": [
    "## 1. Données MNIST"
   ]
  },
  {
   "cell_type": "markdown",
   "metadata": {},
   "source": [
    "La base de données MNIST est une base de données de chiffres écrits à la main. \n",
    "\n",
    "![MNIST](tp1-figure0.png \"MNIST\")\n",
    " \n",
    "Il s'agit d'une base de référence qui sert notamment à tester et comparer des algorithmes d'apprentissage statistique. L'objectif est de déterminer le chiffre écrit sur chaque image (problème de classification d'images). La base MNIST se compose 60000 images d'apprentissage et 10000 de test. En Python, elle se télécharge facilement avec le package keras:"
   ]
  },
  {
   "cell_type": "code",
   "execution_count": 2,
   "metadata": {},
   "outputs": [],
   "source": [
    "from keras.datasets import mnist\n",
    "(X0, Y0), (X1, Y1) = mnist.load_data()"
   ]
  },
  {
   "cell_type": "markdown",
   "metadata": {},
   "source": [
    "Dans cette importation, X0 et X1 sont des bases d'images d'apprentissage et de test, respectivement. Ce sont des numpy.ndarray de taille n x 28 x 28, où n=60000 pour X0 et n=10000 pour X1. X0(i, :, :) est la ième image de la base d'apprentissage ; elle est de taille 28x28. On peut l'afficher avec la fonction imshow de matplotlib.pyplot. Les variables Y0 et Y1 contiennent les classes des observations dans chacune des bases. Les classes sont étiquetées de 0 à 9. \n",
    "\n",
    "\n",
    "Avant toute analyse, on préparer les données de la manière suivante:"
   ]
  },
  {
   "cell_type": "code",
   "execution_count": 3,
   "metadata": {
    "scrolled": true
   },
   "outputs": [
    {
     "data": {
      "text/plain": [
       "<matplotlib.image.AxesImage at 0x7fc7c993ef70>"
      ]
     },
     "execution_count": 3,
     "metadata": {},
     "output_type": "execute_result"
    },
    {
     "data": {
      "image/png": "[encoded data removed]",
      "text/plain": [
       "<Figure size 432x288 with 1 Axes>"
      ]
     },
     "metadata": {
      "needs_background": "light"
     },
     "output_type": "display_data"
    }
   ],
   "source": [
    "from matplotlib import pyplot as plt\n",
    "\n",
    "# On met le type des images en float.\n",
    "X0 = X0.astype('float32')\n",
    "X1 = X1.astype('float32')\n",
    "# On met les images sous la forme de vecteur.\n",
    "X0 = X0.reshape(60000, 784)\n",
    "X1 = X1.reshape(10000, 784) \n",
    "# On normalise les images.\n",
    "X0 /= 255\n",
    "X1 /= 255\n",
    "n = 2\n",
    "plt.imshow(X0[n, :].reshape(28, 28), cmap=\"gray\")"
   ]
  },
  {
   "cell_type": "markdown",
   "metadata": {},
   "source": [
    "## 2. Régression multinomiale."
   ]
  },
  {
   "cell_type": "markdown",
   "metadata": {},
   "source": [
    "La régression multinomiale est un modèle de classification qui étend la régression logistique lorsque le nombre de classes possibles est supérieur à 2. Le modèle est le suivant. On décrit la classe d'un individu au moyen d'une variable aléatoire $Y$ à valeurs dans un ensemble discret $\\{1,\\cdots, K\\}$ représentant des étiquettes de classe. Pour chaque individu, on dispose de variables $x$ (dites de régression) dans $\\mathbb{R}^p$. On suppose que la distribution de probabilités de $Y$ dépend de $x$ et d'un ensemble $\\theta = (\\theta^{(k)})_{k=1}^K$ de $K$ vecteurs de paramètres inconnus $\\theta^{(k)}$ dans $\\mathbb{R}^{p+1}$ selon le modèle **\"soft-max\"**\n",
    "\\begin{equation} \\label{eqn:softmax_proba}\n",
    "  \\forall \\: k \\in \\{1,\\cdots, K\\}, \\: \\mathbb{P}(Y = k) = \\frac{\\exp(\\langle \\theta^{(k)}, \\:  \\tilde{x} \\rangle )}{\\sum_{m=1}^K \\exp(\\langle \\theta^{(m)},  \\: \\tilde{x} \\rangle )},\\:\\:\\mathrm{avec}\\:\\: \\tilde{x} =  \\left( \\begin{array}{c} 1 \\\\ x \\end{array} \\right). \\end{equation}\n",
    "\n",
    "Les estimateurs du maximum de vraisemblance de l'échantillon sont les paramètres $\\theta$ qui minimisent le **critère d'entropie croisée**:\n",
    "    \\begin{equation} \\label{eqn:entropiecroisee}\n",
    "       \\mathcal{S}(\\theta) = - \\frac{1}{n} \\sum_{i=1}^n \\sum_{k=1}^K z_i^{(k)} \\log\\left(p_i^{(k)}(\\theta) \\right),\\end{equation}\n",
    "    avec\n",
    "    \\begin{equation} \n",
    "    z_i^{(k)} =  \\mathbf{1}_{y_i = k}\\:\\:\\:\\mathrm{et}\\:\\:\\: p_i^{(k)}(\\theta) = \\frac{\\exp(\\langle \\theta^{(k)},  \\: \\tilde{x}_i \\rangle )}{\\sum_{m=1}^K \\exp(\\langle \\theta^{(m)},  \\: \\tilde{x}_i \\rangle )}. \n",
    "    \\end{equation}   \n",
    "\n",
    " "
   ]
  },
  {
   "cell_type": "markdown",
   "metadata": {},
   "source": [
    "Dans le cadre de ce TP, l'objectif est de classer les images MNIST en K=10 classes $\\{0, \\cdots, 9\\}$. La variable $x_i$ représente la ième image (sous forme vectorielle) de la base d'apprentissage et $y_i$ son étiquette de classe.\n"
   ]
  },
  {
   "cell_type": "markdown",
   "metadata": {},
   "source": [
    "## 3. Descente de gradient."
   ]
  },
  {
   "cell_type": "markdown",
   "metadata": {},
   "source": [
    "Une descente de gradient est un algorithme itératif permettant de minimiser une application différentiable $\\mathcal{S}$ par rapport à un ensemble de variables $\\theta$. Dans la descente de gradient à pas fixe, la mise à jour des variables $\\theta$ s'écrit à chaque itération\n",
    "\\begin{equation} \\label{eqn:miseajour}\n",
    "  \\theta \\longleftarrow \\theta - \\rho \\: \\nabla_{\\theta}  \\mathcal{S}(\\theta),\n",
    "  \\end{equation}\n",
    "o\\`u $\\rho>0$ désigne un pas fixe et $\\nabla_{\\theta} \\mathcal{S}$ le gradient de $\\mathcal{S}$ par rapport à $\\theta$. \n",
    "\n",
    "\n",
    "\\exo  Le gradient de l'entropie croisée $\\mathcal{S}$ par rapport à $\\theta^{(k)}$ en $\\theta$ vaut\n",
    "    $$ \\nabla_{\\theta^{(k)}} \\mathcal{S}(\\theta) = \\frac{1}{n} \\sum_{i=1}^{n} \\left(p_i^{(k)}(\\theta) - z_i^{(k)}\\right) \\tilde{x}_i . $$\n",
    "\n",
    "\n",
    "**Exercice 1.** Écrire une fonction Python qui calcule ce gradient en respectant le modèle suivant."
   ]
  },
  {
   "cell_type": "code",
   "execution_count": 4,
   "metadata": {},
   "outputs": [],
   "source": [
    "def Soft_Max(X, Theta):\n",
    "    \"\"\"\n",
    "    Modèle soft-max de distribution de probabilité.        \n",
    "\n",
    "    Parameters\n",
    "    ----------\n",
    "    X : ndarray (n x p).\n",
    "        Matrice contenant les variables de régression.\n",
    "        La ligne i contient les valeurs des variables de régression \n",
    "        pour la ie observation. \n",
    "    Theta : ndarray (p+1 x K).\n",
    "        Matrice contenant les paramètres de régression pour \n",
    "        chaque classe.\n",
    "        La colonne k contient les paramètres de régression \n",
    "        pour la classe k.\n",
    "\n",
    "    Returns\n",
    "    -------\n",
    "    P : ndarray (n x K)\n",
    "        Matrice contenant les estimations des distributions\n",
    "        de probabilités\n",
    "        des classes de toutes les observations.\n",
    "        Sur la ligne i et la colonne k, P[i, k] donne l'estimation de \n",
    "        la probabilité que la ième observation soit dans la classe k\n",
    "        selon le modèle soft-max.\n",
    "    \"\"\"   \n",
    "    # Transformations linéaires et exponentielles.\n",
    "    P = np.exp(np.dot(X, Theta[1:, :]) + Theta[0, :])\n",
    "    # Normalisation.\n",
    "    P = P / np.sum(P, axis=1).reshape(P.shape[0], 1)\n",
    "\n",
    "    return(P)\n",
    "\n",
    "def Cross_Entropy(C, P):\n",
    "    \"\"\"\n",
    "    Critère d'entropie croisée.\n",
    "\n",
    "    Parameters\n",
    "    ----------\n",
    "    C : ndarray (n x 1)\n",
    "        Vecteur contenant les étiquettes de classe de chaque\n",
    "        observation.\n",
    "    P : ndarray (n x K)\n",
    "        Matrice contenant les estimations des distributions\n",
    "        de probabilités des classes de toutes les observations\n",
    "        (voir Soft_Max).\n",
    "   \n",
    "    Returns\n",
    "    -------\n",
    "    J : scalar.\n",
    "        Valeur de l'entropie croisée.\n",
    "    \"\"\" \n",
    "    V = np.zeros(C.shape)\n",
    "    for i in range(V.shape[0]):\n",
    "        V[i] = np.log(P[i, C[i]])\n",
    "    \n",
    "    return(-np.mean(V, axis=None))"
   ]
  },
  {
   "cell_type": "code",
   "execution_count": 5,
   "metadata": {},
   "outputs": [],
   "source": [
    "def Gradient(C,P,X, Theta):\n",
    "    \"\"\"\n",
    "    Gradient de l'entropie croisée \n",
    "    \n",
    "    Paramètres \n",
    "    ----------\n",
    "    C : ndarray (n x 1)\n",
    "        Vecteur contenant les étiquettes de classe de chaque\n",
    "        observation.\n",
    "    P : ndarray (n x K)\n",
    "        Matrice contenant les estimations des distributions\n",
    "        de probabilités des classes de toutes les observations\n",
    "        (voir Soft_Max).\n",
    "    X : ndarray (n x p).\n",
    "        Matrice contenant les variables de régression.\n",
    "        La ligne i contient les valeurs des variables de régression \n",
    "        pour la ie observation. \n",
    "    Theta : ndarray (p+1 x K).\n",
    "        Matrice contenant les paramètres de régression pour \n",
    "        chaque classe.\n",
    "        La colonne k contient les paramètres de régression \n",
    "        pour la classe k.\n",
    "    \n",
    "    Returns\n",
    "    -------\n",
    "    G : ndarray (p+1 x K). \n",
    "    \"\"\"\n",
    "    X = np.c_[np.ones(X.shape[0]),X]  #Ajoute le vecteur 1 à la matrice de desing \n",
    "    n = X.shape[0] \n",
    "    G = np.zeros(Theta.shape)  #Matrice contenant après les gradients des différents paramètres \n",
    "    \n",
    "    for k in range(P.shape[1]) :  #Pour chaque paramètre associé à une classe    \n",
    "        z = [0 if np.where(P[i] == P[i,:].max())[0][0] != C[i] and C[i] != k else 1 for i in range(n)]  #Vecteur indicateur \n",
    "        G[:,k] = np.sum(1/n*(X.T*(P[:,k]-z)), axis=1)  #Gradient de tous les paramètres de cette classe \n",
    "    return G "
   ]
  },
  {
   "cell_type": "code",
   "execution_count": 6,
   "metadata": {},
   "outputs": [],
   "source": [
    "# Variation du code pour tester l'efficacité. N'est pas plus rapide et meme plus long que l'autre version.\n",
    "\n",
    "#def Gradient(C,P,X, Theta):\n",
    "   \n",
    "#    X = np.c_[np.ones(X.shape[0]),X]  #Ajoute le vecteur 1 à la matrice de desing \n",
    "#    n = X.shape[0] \n",
    "#    G = np.zeros(Theta.shape)  #Matrice contenant après les gradients des différents paramètres \n",
    "#    z = np.array([[0 if np.where(P[i] == P[i,:].max())[0][0] != C[i] and C[i] != k else 1 for i in range(n)] for k in range(P.shape[1])])\n",
    "    \n",
    "#    for k in range(P.shape[1]) : \n",
    "        \n",
    "#        G[:,k] = np.sum(1/n*(X.T*(P[:,k]-z[k,:].T)), axis = 1) \n",
    "    \n",
    "#    return G "
   ]
  },
  {
   "cell_type": "markdown",
   "metadata": {},
   "source": [
    "**Exercice 2.** Appliquer l'algorithme de descente de gradient sur les données MNIST en prenant 50000 données d'apprentissage et 10000 de validation. A chaque époque (itération), calculer la valeur de l'entropie sur les données d'apprentissage et de validations, ainsi que les scores de classification sur ces deux jeux de données. Relever également le temps d'exécution de chaque époque. Tracer ensuite les valeurs d'entropie et les scores de classification en fonction du temps de calcul (et/ou de l'époque). Pour le calcul du score de classification, on pourra s'aider de la fonction suivante."
   ]
  },
  {
   "cell_type": "code",
   "execution_count": 7,
   "metadata": {},
   "outputs": [],
   "source": [
    "def Classification_Score(C, X, Theta):\n",
    "    \"\"\"\n",
    "    Score de classification obtenu par régression multinomiale.\n",
    "\n",
    "    Parameters\n",
    "    ----------\n",
    "    C : ndarray (n x 1)\n",
    "        Vecteur contenant les étiquettes de classe de chaque\n",
    "        observation.\n",
    "    X : ndarray (n x p)\n",
    "        Matrice contenant les variables de régression.\n",
    "        La ligne i contient les valeurs des variables de régression \n",
    "        pour la ie observation.\n",
    "    Theta : ndarray (p+1 x K).\n",
    "        Matrice contenant les paramètres de régression pour \n",
    "        chaque classe. La colonne k contient les paramètres\n",
    "        de régression pour la classe k.\n",
    "\n",
    "    Returns\n",
    "    -------\n",
    "    score : scalar\n",
    "        Pourcentage d'observations bien classées.\n",
    "    P : ndarray (n, K)\n",
    "        Probabilités d'appartenance aux classes de chaque observation.\n",
    "    \"\"\"\n",
    "    P = Soft_Max(X, Theta)\n",
    "    Cest = np.argmax(P, axis=1)\n",
    "    score = np.nonzero(Cest == C)[0].size / P.shape[0] * 100\n",
    "    \n",
    "    return(score, P)"
   ]
  },
  {
   "cell_type": "code",
   "execution_count": 8,
   "metadata": {},
   "outputs": [],
   "source": [
    "#Création de données de validation \n",
    "\n",
    "#X_train = X0[:50000]\n",
    "#X_test = X0[50000:]\n",
    "\n",
    "#y_train = Y0[:50000]\n",
    "#y_test = Y0[50000:]\n",
    "\n",
    "#Jeu de données train et test\n",
    "\n",
    "X_train = X0\n",
    "X_test = X1\n",
    "\n",
    "y_train = Y0\n",
    "y_test = Y1\n",
    "\n",
    "#iteration = 800\n",
    "\n",
    "iteration = 150"
   ]
  },
  {
   "cell_type": "code",
   "execution_count": 9,
   "metadata": {},
   "outputs": [],
   "source": [
    "random.seed(10)\n",
    "Theta = np.random.rand(X0.shape[1]+1, 10)"
   ]
  },
  {
   "cell_type": "code",
   "execution_count": 10,
   "metadata": {},
   "outputs": [],
   "source": [
    "def DescentGradient(X_train,X_test, y_train, y_test, Theta, iteration, rho=1e-1) :\n",
    "    \n",
    "    \"\"\"\n",
    "    Algorithme de descente de gradient \n",
    "\n",
    "    Parameters\n",
    "    ----------\n",
    "    C : ndarray (n x 1)\n",
    "        Vecteur contenant les étiquettes de classe de chaque\n",
    "        observation.\n",
    "    X : ndarray (n x p)\n",
    "        Matrice contenant les variables de régression.\n",
    "        La ligne i contient les valeurs des variables de régression \n",
    "        pour la ie observation.\n",
    "    Y : ndarray (n x 1)\n",
    "        Vecteur contenant les classes de chaque exemple \n",
    "    Theta : ndarray (p+1 x K).\n",
    "        Matrice contenant les paramètres de régression pour \n",
    "        chaque classe. La colonne k contient les paramètres\n",
    "        de régression pour la classe k.\n",
    "    Iteration : réel \n",
    "        Nombre de fois où le modèle est entrainé sur le jeu de données \n",
    "    rho : nombre décimal \n",
    "        pas fixe \n",
    "\n",
    "    Returns\n",
    "    -------\n",
    "    score : scalar\n",
    "        Pourcentage d'observations bien classées.\n",
    "    P : ndarray (n, K)\n",
    "        Probabilités d'appartenance aux classes de chaque observation.\n",
    "    \"\"\"\n",
    "    \n",
    "    Entropie_Train = [] #liste qui contiendra le loss\n",
    "    score_train = []  \n",
    "    \n",
    "    Entropie_Test = []\n",
    "    score_test = []\n",
    "    \n",
    "    Theta = Theta.astype('float64')\n",
    "    \n",
    "    for i in range(iteration) : \n",
    "        \n",
    "        start_time = time.time()\n",
    "        \n",
    "        P_train =  Soft_Max(X_train, Theta)  #Proba de chaque classe pour le train \n",
    "        P_test = Soft_Max(X_test, Theta)\n",
    "        \n",
    "        Entropie_Train.append(Cross_Entropy(y_train,P_train))  #Erreur train\n",
    "        Entropie_Test.append(Cross_Entropy(y_test, P_test))  #Erreur test \n",
    "        \n",
    "        score_train.append(Classification_Score(y_train, X_train, Theta)[0])  #Score train \n",
    "        score_test.append(Classification_Score(y_test, X_test, Theta)[0])  #Score test\n",
    "    \n",
    "        G = Gradient(y_train,P_train,X_train, Theta)\n",
    "        \n",
    "        Theta -= rho*G  #Mise à jour du gradient \n",
    "        \n",
    "        print(\"--- %s seconds ---\" % (time.time() - start_time))\n",
    "        \n",
    "    return(Entropie_Train,Entropie_Test,score_train,score_test, Theta)\n",
    "        \n",
    "        "
   ]
  },
  {
   "cell_type": "code",
   "execution_count": 11,
   "metadata": {
    "scrolled": true
   },
   "outputs": [
    {
     "name": "stdout",
     "output_type": "stream",
     "text": [
      "--- 9.38464879989624 seconds ---\n",
      "--- 10.391215085983276 seconds ---\n",
      "--- 9.254638195037842 seconds ---\n",
      "--- 8.691478967666626 seconds ---\n",
      "--- 8.883113861083984 seconds ---\n",
      "--- 8.805779933929443 seconds ---\n",
      "--- 8.945041179656982 seconds ---\n",
      "--- 9.032530069351196 seconds ---\n",
      "--- 8.72620701789856 seconds ---\n",
      "--- 8.823044776916504 seconds ---\n",
      "--- 8.537524938583374 seconds ---\n",
      "--- 8.579976797103882 seconds ---\n",
      "--- 8.740776062011719 seconds ---\n",
      "--- 8.688063859939575 seconds ---\n",
      "--- 9.050540208816528 seconds ---\n",
      "--- 8.681586980819702 seconds ---\n",
      "--- 8.908906936645508 seconds ---\n",
      "--- 8.713773250579834 seconds ---\n",
      "--- 8.485625982284546 seconds ---\n",
      "--- 8.660274982452393 seconds ---\n",
      "--- 8.774489164352417 seconds ---\n",
      "--- 8.571286678314209 seconds ---\n",
      "--- 8.50779414176941 seconds ---\n",
      "--- 8.452661991119385 seconds ---\n",
      "--- 8.359086275100708 seconds ---\n",
      "--- 8.266335010528564 seconds ---\n",
      "--- 8.409608125686646 seconds ---\n",
      "--- 8.39441728591919 seconds ---\n",
      "--- 8.420417070388794 seconds ---\n",
      "--- 8.317867040634155 seconds ---\n",
      "--- 8.297376871109009 seconds ---\n",
      "--- 8.521941900253296 seconds ---\n",
      "--- 8.535024881362915 seconds ---\n",
      "--- 8.411509037017822 seconds ---\n",
      "--- 8.33163595199585 seconds ---\n",
      "--- 8.460272073745728 seconds ---\n",
      "--- 8.59492015838623 seconds ---\n",
      "--- 8.495038986206055 seconds ---\n",
      "--- 8.46350908279419 seconds ---\n",
      "--- 8.271919965744019 seconds ---\n",
      "--- 8.349484920501709 seconds ---\n",
      "--- 8.351057291030884 seconds ---\n",
      "--- 8.352555751800537 seconds ---\n",
      "--- 8.430968761444092 seconds ---\n",
      "--- 8.258028030395508 seconds ---\n",
      "--- 8.344084978103638 seconds ---\n",
      "--- 8.416596174240112 seconds ---\n",
      "--- 8.14678406715393 seconds ---\n",
      "--- 8.383373022079468 seconds ---\n",
      "--- 8.178286790847778 seconds ---\n",
      "--- 8.334782838821411 seconds ---\n",
      "--- 8.113909006118774 seconds ---\n",
      "--- 8.261430025100708 seconds ---\n",
      "--- 8.510790824890137 seconds ---\n",
      "--- 8.295164823532104 seconds ---\n",
      "--- 8.269053936004639 seconds ---\n",
      "--- 8.704907178878784 seconds ---\n",
      "--- 8.092735052108765 seconds ---\n",
      "--- 8.188857793807983 seconds ---\n",
      "--- 8.260460138320923 seconds ---\n",
      "--- 8.501286029815674 seconds ---\n",
      "--- 8.276392936706543 seconds ---\n",
      "--- 9.878561973571777 seconds ---\n",
      "--- 16.320574045181274 seconds ---\n",
      "--- 8.340290069580078 seconds ---\n",
      "--- 8.256195068359375 seconds ---\n",
      "--- 8.321912050247192 seconds ---\n",
      "--- 20.453669786453247 seconds ---\n",
      "--- 9.14549970626831 seconds ---\n",
      "--- 8.48435926437378 seconds ---\n",
      "--- 16.402854919433594 seconds ---\n",
      "--- 9.601274967193604 seconds ---\n",
      "--- 8.714314937591553 seconds ---\n",
      "--- 8.77249813079834 seconds ---\n",
      "--- 8.58473014831543 seconds ---\n",
      "--- 8.269185066223145 seconds ---\n",
      "--- 8.254393815994263 seconds ---\n",
      "--- 8.256846904754639 seconds ---\n",
      "--- 8.425250768661499 seconds ---\n",
      "--- 9.451672077178955 seconds ---\n",
      "--- 8.816866874694824 seconds ---\n",
      "--- 8.213579177856445 seconds ---\n",
      "--- 8.23702597618103 seconds ---\n",
      "--- 8.481130123138428 seconds ---\n",
      "--- 8.577166080474854 seconds ---\n",
      "--- 8.554293870925903 seconds ---\n",
      "--- 8.332965850830078 seconds ---\n",
      "--- 8.367707967758179 seconds ---\n",
      "--- 9.002079010009766 seconds ---\n",
      "--- 9.695274114608765 seconds ---\n",
      "--- 17.391481161117554 seconds ---\n",
      "--- 9.261143207550049 seconds ---\n",
      "--- 8.742305040359497 seconds ---\n",
      "--- 8.88368010520935 seconds ---\n",
      "--- 9.06567907333374 seconds ---\n",
      "--- 8.381990194320679 seconds ---\n",
      "--- 8.7585129737854 seconds ---\n",
      "--- 9.142485857009888 seconds ---\n",
      "--- 8.58168077468872 seconds ---\n",
      "--- 8.6217520236969 seconds ---\n",
      "--- 8.406182765960693 seconds ---\n",
      "--- 8.778143167495728 seconds ---\n",
      "--- 8.851393938064575 seconds ---\n",
      "--- 8.771572828292847 seconds ---\n",
      "--- 8.642538070678711 seconds ---\n",
      "--- 8.355363845825195 seconds ---\n",
      "--- 8.416249990463257 seconds ---\n",
      "--- 8.364278793334961 seconds ---\n",
      "--- 8.412012100219727 seconds ---\n",
      "--- 8.447388887405396 seconds ---\n",
      "--- 8.24167013168335 seconds ---\n",
      "--- 8.29808497428894 seconds ---\n",
      "--- 8.279736757278442 seconds ---\n",
      "--- 8.732794761657715 seconds ---\n",
      "--- 8.259219884872437 seconds ---\n",
      "--- 8.264963150024414 seconds ---\n",
      "--- 8.294198751449585 seconds ---\n",
      "--- 8.229708194732666 seconds ---\n",
      "--- 8.259842872619629 seconds ---\n",
      "--- 8.299721956253052 seconds ---\n",
      "--- 8.213511943817139 seconds ---\n",
      "--- 8.252724409103394 seconds ---\n",
      "--- 8.301345825195312 seconds ---\n",
      "--- 8.339129209518433 seconds ---\n",
      "--- 8.878772020339966 seconds ---\n",
      "--- 8.515048265457153 seconds ---\n",
      "--- 8.323110103607178 seconds ---\n",
      "--- 8.333800792694092 seconds ---\n",
      "--- 8.28453516960144 seconds ---\n",
      "--- 8.35408091545105 seconds ---\n",
      "--- 8.339387893676758 seconds ---\n",
      "--- 8.329803943634033 seconds ---\n",
      "--- 8.24952507019043 seconds ---\n",
      "--- 8.217390060424805 seconds ---\n",
      "--- 8.342154026031494 seconds ---\n",
      "--- 8.238732099533081 seconds ---\n",
      "--- 8.185708045959473 seconds ---\n",
      "--- 8.292524099349976 seconds ---\n",
      "--- 8.340240240097046 seconds ---\n",
      "--- 8.30209493637085 seconds ---\n",
      "--- 8.243664026260376 seconds ---\n",
      "--- 8.275420188903809 seconds ---\n",
      "--- 8.301565170288086 seconds ---\n",
      "--- 8.355618000030518 seconds ---\n",
      "--- 8.35778284072876 seconds ---\n",
      "--- 8.363226175308228 seconds ---\n",
      "--- 8.381603717803955 seconds ---\n",
      "--- 8.330066919326782 seconds ---\n",
      "--- 8.27085018157959 seconds ---\n",
      "--- 8.188100099563599 seconds ---\n"
     ]
    }
   ],
   "source": [
    "(Entropie_Train,Entropie_Test,score_train,score_test, Theta_DG) = DescentGradient(X_train,X_test, y_train, y_test, Theta, iteration)"
   ]
  },
  {
   "cell_type": "code",
   "execution_count": 12,
   "metadata": {
    "scrolled": true
   },
   "outputs": [
    {
     "data": {
      "image/png": "[encoded data removed]",
      "text/plain": [
       "<Figure size 432x288 with 1 Axes>"
      ]
     },
     "metadata": {
      "needs_background": "light"
     },
     "output_type": "display_data"
    }
   ],
   "source": [
    "x = np.array([i for i in range(iteration)])\n",
    "y = np.array(Entropie_Train)\n",
    "w = np.array(Entropie_Test)\n",
    "plt.plot(x, y, label='Train')\n",
    "plt.plot(x, w, label='Test')\n",
    "plt.legend()\n",
    "plt.title(\"Entropie\")\n",
    "\n",
    "plt.show()"
   ]
  },
  {
   "cell_type": "markdown",
   "metadata": {},
   "source": [
    "Les deux courbes décroissent à la même vitesse, ce qui est un marqueur d'un bon fonctionnement de l'agorithme. En effet, nous observons ni over ou under fitting. "
   ]
  },
  {
   "cell_type": "code",
   "execution_count": 13,
   "metadata": {
    "scrolled": true
   },
   "outputs": [
    {
     "data": {
      "image/png": "[encoded data removed]",
      "text/plain": [
       "<Figure size 432x288 with 1 Axes>"
      ]
     },
     "metadata": {
      "needs_background": "light"
     },
     "output_type": "display_data"
    }
   ],
   "source": [
    "x = np.array([i for i in range(iteration)])\n",
    "y = np.array(score_train)\n",
    "w = np.array(score_test)\n",
    "plt.plot(x, y, label='Train')\n",
    "plt.plot(x, w, label='Test')\n",
    "plt.legend()\n",
    "plt.title(\"Scores\")\n",
    "\n",
    "plt.show()"
   ]
  },
  {
   "cell_type": "markdown",
   "metadata": {},
   "source": [
    "---\n",
    "Les scores plafonnent à 55, ce qui n'est pas incoryable .. La régression logistique appliquée comme ici ne prend pas en compte l'emplacement des informations de l'image. Cette dernière est traitée comme un ensemble lisse de données, or l'emplacement des informaitons est importante ! Nous pourions regarder plus précisément ce que notre modèle prédit pour essayer de comprendre ce qui est appris.\n",
    "\n",
    "---"
   ]
  },
  {
   "cell_type": "markdown",
   "metadata": {},
   "source": [
    "**Fonction de prédition**"
   ]
  },
  {
   "cell_type": "code",
   "execution_count": 14,
   "metadata": {},
   "outputs": [
    {
     "data": {
      "text/plain": [
       "<matplotlib.image.AxesImage at 0x7fc7462ea250>"
      ]
     },
     "execution_count": 14,
     "metadata": {},
     "output_type": "execute_result"
    },
    {
     "data": {
      "image/png": "[encoded data removed]",
      "text/plain": [
       "<Figure size 432x288 with 1 Axes>"
      ]
     },
     "metadata": {
      "needs_background": "light"
     },
     "output_type": "display_data"
    }
   ],
   "source": [
    "plt.imshow(X_test[1, :].reshape(28, 28), cmap=\"gray\")"
   ]
  },
  {
   "cell_type": "code",
   "execution_count": 15,
   "metadata": {},
   "outputs": [],
   "source": [
    "def prediction(X, Theta) : \n",
    "    P = Soft_Max(X, Theta)\n",
    "    #print(P[0])\n",
    "    pred = []\n",
    "    for i in P : \n",
    "        pred.append(np.argmax(i))\n",
    "    return pred"
   ]
  },
  {
   "cell_type": "code",
   "execution_count": 16,
   "metadata": {},
   "outputs": [],
   "source": [
    "y_pred = prediction(X_test, Theta_DG)"
   ]
  },
  {
   "cell_type": "code",
   "execution_count": 17,
   "metadata": {},
   "outputs": [
    {
     "data": {
      "text/plain": [
       "2"
      ]
     },
     "execution_count": 17,
     "metadata": {},
     "output_type": "execute_result"
    }
   ],
   "source": [
    "y_pred[1]"
   ]
  },
  {
   "cell_type": "markdown",
   "metadata": {},
   "source": [
    "## 4. Descente de gradient stochastique par mini-lots."
   ]
  },
  {
   "cell_type": "markdown",
   "metadata": {},
   "source": [
    "L'algorithme de gradient stochastique est une modification de l'algorithme du gradient qui consiste à prendre un seul exemple d'apprentissage au hasard pour mettre à jour le paramètre $\\theta$ à chaque époque. On s'intéresse ici à une variante de l'algorithme de gradient stochastique qui fait ces mises à jour en prenant une série de mini-lots (batchs) d'exemples d'apprentissage tiré au hasard. Pour cet algorithme, le gradient de l'entropie croisée $\\mathcal{S}$ s'écrira\n",
    "$$ \\nabla_{\\theta^{(k)}} \\mathcal{S}(\\theta) = \\frac{1}{m} \\sum_{i \\in B_j} \\left(p_i^{(k)}(\\theta) - z_i^{(k)}\\right) \\tilde{x}_i, $$\n",
    "o\\`u $B_j$ est un ensemble qui regroupe $m$ indices d'un jème lot d'observations pris au hasard. Une époque de l'algorithme consistera en une série de plusieurs mises à jour faisant intervenir différents lots. Le nombre de mises à jour pour une époque pourra par exemple être fixé à $\\lfloor n / m \\rfloor$. La descente de gradient ordinaire est un cas particulier de la descente de gradient stochastique lorsque l'on fixe $m=n$. "
   ]
  },
  {
   "cell_type": "markdown",
   "metadata": {},
   "source": [
    "**Exercice 3.** Modifier le programme de la section précédente pour inclure des mises à jour sur mini-lots. Appliquer le programme aux données MNIST. Comparer les convergences des algorithmes de gradient et gradient stochastique par mini-lots. Discuter.\n",
    "\n"
   ]
  },
  {
   "cell_type": "code",
   "execution_count": 18,
   "metadata": {},
   "outputs": [],
   "source": [
    "def DescentGradientStochastique(X_train,X_test, y_train, y_test, Theta, iteration, batch=1,rho=1e-1) :\n",
    "    \n",
    "    \"\"\"\n",
    "    Algorithme de descente de gradient \n",
    "\n",
    "    Parameters\n",
    "    ----------\n",
    "    C : ndarray (n x 1)\n",
    "        Vecteur contenant les étiquettes de classe de chaque\n",
    "        observation.\n",
    "    X : ndarray (n x p)\n",
    "        Matrice contenant les variables de régression.\n",
    "        La ligne i contient les valeurs des variables de régression \n",
    "        pour la ie observation.\n",
    "    Y : ndarray (n x 1)\n",
    "        Vecteur contenant les classes de chaque exemple \n",
    "    Theta : ndarray (p+1 x K).\n",
    "        Matrice contenant les paramètres de régression pour \n",
    "        chaque classe. La colonne k contient les paramètres\n",
    "        de régression pour la classe k.\n",
    "    Iteration : réel \n",
    "        Nombre de fois où le modèle est entrainé sur le jeu de données \n",
    "    rho : nombre décimal \n",
    "        pas fixe \n",
    "    batch : réel \n",
    "        Nombre de mini-lots\n",
    "\n",
    "    Returns\n",
    "    -------\n",
    "    score : scalar\n",
    "        Pourcentage d'observations bien classées.\n",
    "    P : ndarray (n, K)\n",
    "        Probabilités d'appartenance aux classes de chaque observation.\n",
    "    \"\"\"\n",
    "    \n",
    "    Entropie_Train = []\n",
    "    score_train = []\n",
    "    \n",
    "    Entropie_Test = []\n",
    "    score_test = []\n",
    "    \n",
    "    Theta = Theta.astype('float64')\n",
    "    \n",
    "    pas = X_train.shape[0] // batch  #Division en mini lot \n",
    "    \n",
    "    for i in range(iteration) :  #Pour chaque itération \n",
    "        \n",
    "        ind = 0\n",
    "        \n",
    "        for b in range(batch) :  #Pour chaque mini-lot \n",
    "        \n",
    "            start_time = time.time()\n",
    "\n",
    "            P_train =  Soft_Max(X_train[ind:ind+pas], Theta)          \n",
    "\n",
    "            G = Gradient(y_train[ind:ind+pas],P_train,X_train[ind:ind+pas], Theta)\n",
    "\n",
    "            Theta -= rho*G\n",
    "            \n",
    "            ind += pas \n",
    "            \n",
    "            print(\"--- %s seconds ---\" % (time.time() - start_time))\n",
    "            \n",
    "        P_train =  Soft_Max(X_train, Theta)\n",
    "        P_test = Soft_Max(X_test, Theta)\n",
    "        \n",
    "        Entropie_Train.append(Cross_Entropy(y_train,P_train))\n",
    "        Entropie_Test.append(Cross_Entropy(y_test, P_test))\n",
    "        \n",
    "        score_train.append(Classification_Score(y_train, X_train, Theta)[0])\n",
    "        score_test.append(Classification_Score(y_test, X_test, Theta)[0])\n",
    "        \n",
    "    return(Entropie_Train,Entropie_Test,score_train,score_test)"
   ]
  },
  {
   "cell_type": "code",
   "execution_count": 19,
   "metadata": {},
   "outputs": [],
   "source": [
    "random.seed(10)\n",
    "Theta = np.random.rand(X0.shape[1]+1, 10)\n",
    "iteration = 15 #Plus bas car trop long pour cette version du code "
   ]
  },
  {
   "cell_type": "code",
   "execution_count": 20,
   "metadata": {},
   "outputs": [
    {
     "name": "stdout",
     "output_type": "stream",
     "text": [
      "--- 0.6600949764251709 seconds ---\n",
      "--- 0.6688051223754883 seconds ---\n",
      "--- 0.6765000820159912 seconds ---\n",
      "--- 0.6630580425262451 seconds ---\n",
      "--- 0.6502211093902588 seconds ---\n",
      "--- 0.6890840530395508 seconds ---\n",
      "--- 0.6667129993438721 seconds ---\n",
      "--- 0.652454137802124 seconds ---\n",
      "--- 0.6468009948730469 seconds ---\n",
      "--- 0.6643881797790527 seconds ---\n",
      "--- 0.6544229984283447 seconds ---\n",
      "--- 0.6798028945922852 seconds ---\n",
      "--- 0.6608138084411621 seconds ---\n",
      "--- 0.6507580280303955 seconds ---\n",
      "--- 0.6539590358734131 seconds ---\n",
      "--- 0.6528329849243164 seconds ---\n",
      "--- 0.669806957244873 seconds ---\n",
      "--- 0.6416058540344238 seconds ---\n",
      "--- 0.6515669822692871 seconds ---\n",
      "--- 0.6371550559997559 seconds ---\n",
      "--- 0.6282339096069336 seconds ---\n",
      "--- 0.6532750129699707 seconds ---\n",
      "--- 0.663830041885376 seconds ---\n",
      "--- 0.6417911052703857 seconds ---\n",
      "--- 0.6313588619232178 seconds ---\n",
      "--- 0.6473052501678467 seconds ---\n",
      "--- 0.6380782127380371 seconds ---\n",
      "--- 0.6436507701873779 seconds ---\n",
      "--- 0.641463041305542 seconds ---\n",
      "--- 0.6397950649261475 seconds ---\n",
      "--- 0.6161620616912842 seconds ---\n",
      "--- 0.6419260501861572 seconds ---\n",
      "--- 0.64418625831604 seconds ---\n",
      "--- 0.6425740718841553 seconds ---\n",
      "--- 0.6220080852508545 seconds ---\n",
      "--- 0.6355831623077393 seconds ---\n",
      "--- 0.6328921318054199 seconds ---\n",
      "--- 0.6309812068939209 seconds ---\n",
      "--- 0.6231727600097656 seconds ---\n",
      "--- 0.6395671367645264 seconds ---\n",
      "--- 0.6097300052642822 seconds ---\n",
      "--- 0.6497180461883545 seconds ---\n",
      "--- 0.637988805770874 seconds ---\n",
      "--- 0.6145820617675781 seconds ---\n",
      "--- 0.6382632255554199 seconds ---\n",
      "--- 0.6623318195343018 seconds ---\n",
      "--- 0.618671178817749 seconds ---\n",
      "--- 0.6239829063415527 seconds ---\n",
      "--- 0.648360013961792 seconds ---\n",
      "--- 0.6331021785736084 seconds ---\n",
      "--- 0.6207077503204346 seconds ---\n",
      "--- 0.6418533325195312 seconds ---\n",
      "--- 0.6373538970947266 seconds ---\n",
      "--- 0.6194188594818115 seconds ---\n",
      "--- 0.614145040512085 seconds ---\n",
      "--- 0.6211252212524414 seconds ---\n",
      "--- 0.62680983543396 seconds ---\n",
      "--- 0.6308608055114746 seconds ---\n",
      "--- 0.6170918941497803 seconds ---\n",
      "--- 0.6224429607391357 seconds ---\n",
      "--- 0.5991621017456055 seconds ---\n",
      "--- 0.6377038955688477 seconds ---\n",
      "--- 0.6403450965881348 seconds ---\n",
      "--- 0.6155736446380615 seconds ---\n",
      "--- 0.6146888732910156 seconds ---\n",
      "--- 0.6247532367706299 seconds ---\n",
      "--- 0.6199758052825928 seconds ---\n",
      "--- 0.6196351051330566 seconds ---\n",
      "--- 0.6118159294128418 seconds ---\n",
      "--- 0.6297180652618408 seconds ---\n",
      "--- 0.6050269603729248 seconds ---\n",
      "--- 0.6321711540222168 seconds ---\n",
      "--- 0.6191880702972412 seconds ---\n",
      "--- 0.63224196434021 seconds ---\n",
      "--- 0.6277141571044922 seconds ---\n",
      "--- 0.6295790672302246 seconds ---\n",
      "--- 0.6141979694366455 seconds ---\n",
      "--- 0.6177117824554443 seconds ---\n",
      "--- 0.636436939239502 seconds ---\n",
      "--- 0.6199700832366943 seconds ---\n",
      "--- 0.6371419429779053 seconds ---\n",
      "--- 0.6337878704071045 seconds ---\n",
      "--- 0.6206598281860352 seconds ---\n",
      "--- 0.606374979019165 seconds ---\n",
      "--- 0.6127290725708008 seconds ---\n",
      "--- 0.6473770141601562 seconds ---\n",
      "--- 0.6282527446746826 seconds ---\n",
      "--- 0.6338019371032715 seconds ---\n",
      "--- 0.6335606575012207 seconds ---\n",
      "--- 0.6101429462432861 seconds ---\n",
      "--- 0.6013791561126709 seconds ---\n",
      "--- 0.644615888595581 seconds ---\n",
      "--- 0.6302227973937988 seconds ---\n",
      "--- 0.6111927032470703 seconds ---\n",
      "--- 0.6044950485229492 seconds ---\n",
      "--- 0.6211941242218018 seconds ---\n",
      "--- 0.6110327243804932 seconds ---\n",
      "--- 0.6286468505859375 seconds ---\n",
      "--- 0.6276018619537354 seconds ---\n",
      "--- 0.607471227645874 seconds ---\n",
      "--- 0.6023597717285156 seconds ---\n",
      "--- 0.6156129837036133 seconds ---\n",
      "--- 0.6222648620605469 seconds ---\n",
      "--- 0.6206281185150146 seconds ---\n",
      "--- 0.6219508647918701 seconds ---\n",
      "--- 0.6390399932861328 seconds ---\n",
      "--- 0.612616777420044 seconds ---\n",
      "--- 0.6120100021362305 seconds ---\n",
      "--- 0.6152679920196533 seconds ---\n",
      "--- 0.6205010414123535 seconds ---\n",
      "--- 0.6149158477783203 seconds ---\n",
      "--- 0.6096639633178711 seconds ---\n",
      "--- 0.6205301284790039 seconds ---\n",
      "--- 0.5955839157104492 seconds ---\n",
      "--- 0.6279788017272949 seconds ---\n",
      "--- 0.6263589859008789 seconds ---\n",
      "--- 0.6052541732788086 seconds ---\n",
      "--- 0.6076548099517822 seconds ---\n",
      "--- 0.6027431488037109 seconds ---\n",
      "--- 0.6108870506286621 seconds ---\n",
      "--- 0.6053371429443359 seconds ---\n",
      "--- 0.6131100654602051 seconds ---\n",
      "--- 0.6256020069122314 seconds ---\n",
      "--- 0.6226668357849121 seconds ---\n",
      "--- 0.6266050338745117 seconds ---\n",
      "--- 0.6105389595031738 seconds ---\n",
      "--- 0.6001608371734619 seconds ---\n",
      "--- 0.6197030544281006 seconds ---\n",
      "--- 0.6079480648040771 seconds ---\n",
      "--- 0.6152091026306152 seconds ---\n",
      "--- 0.5946910381317139 seconds ---\n",
      "--- 0.6066188812255859 seconds ---\n",
      "--- 0.6276547908782959 seconds ---\n",
      "--- 0.63907790184021 seconds ---\n",
      "--- 0.6141440868377686 seconds ---\n",
      "--- 0.6141760349273682 seconds ---\n",
      "--- 0.6074049472808838 seconds ---\n",
      "--- 0.6176877021789551 seconds ---\n",
      "--- 0.6124060153961182 seconds ---\n",
      "--- 0.6275038719177246 seconds ---\n",
      "--- 0.6005377769470215 seconds ---\n",
      "--- 0.6096079349517822 seconds ---\n",
      "--- 0.6147809028625488 seconds ---\n",
      "--- 0.611868143081665 seconds ---\n",
      "--- 0.630234956741333 seconds ---\n",
      "--- 0.6122801303863525 seconds ---\n",
      "--- 0.5949921607971191 seconds ---\n",
      "--- 0.6060287952423096 seconds ---\n",
      "--- 0.6125650405883789 seconds ---\n",
      "--- 0.6096997261047363 seconds ---\n"
     ]
    }
   ],
   "source": [
    "(Entropie_Train,Entropie_Test,score_train,score_test) = DescentGradientStochastique(X_train,X_test, y_train, y_test, Theta, iteration, batch=10)"
   ]
  },
  {
   "cell_type": "code",
   "execution_count": 21,
   "metadata": {
    "scrolled": true
   },
   "outputs": [
    {
     "data": {
      "image/png": "[encoded data removed]",
      "text/plain": [
       "<Figure size 432x288 with 1 Axes>"
      ]
     },
     "metadata": {
      "needs_background": "light"
     },
     "output_type": "display_data"
    }
   ],
   "source": [
    "x = np.array([i for i in range(iteration)])\n",
    "y = np.array(Entropie_Train)\n",
    "w = np.array(Entropie_Test)\n",
    "plt.plot(x, y, label='Train')\n",
    "plt.plot(x, w, label='Test')\n",
    "plt.legend()\n",
    "plt.title(\"Entropie\")\n",
    "\n",
    "plt.show()"
   ]
  },
  {
   "cell_type": "markdown",
   "metadata": {},
   "source": [
    "---\n",
    "Ce graphique nous montre ni under ni over fitting. \n",
    "\n",
    "---"
   ]
  },
  {
   "cell_type": "code",
   "execution_count": 22,
   "metadata": {
    "scrolled": true
   },
   "outputs": [
    {
     "data": {
      "image/png": "[encoded data removed]",
      "text/plain": [
       "<Figure size 432x288 with 1 Axes>"
      ]
     },
     "metadata": {
      "needs_background": "light"
     },
     "output_type": "display_data"
    }
   ],
   "source": [
    "x = np.array([i for i in range(iteration)])\n",
    "y = np.array(score_train)\n",
    "w = np.array(score_test)\n",
    "plt.plot(x, y, label='Train')\n",
    "plt.plot(x, w, label='Test')\n",
    "plt.legend()\n",
    "plt.title(\"Scores\")\n",
    "\n",
    "plt.show()"
   ]
  },
  {
   "cell_type": "markdown",
   "metadata": {},
   "source": [
    "---\n",
    "Le score atteint 55% de réussite avec 15 fois moins d'itérations que pour le gradient non stochastique.\n",
    "\n",
    "Lorsque rho est fixé à 1e-2, le nombre d'itération devait être à 100 pour atteindre 50 de score. Nous pouvons aussi voir un début de gap entre le test et le train dont il faut être attentif car il peut souligner un début d'overfitting.\n",
    "\n",
    "---"
   ]
  },
  {
   "cell_type": "markdown",
   "metadata": {},
   "source": [
    "**Exercice 4.** On réduit le nombre d'exemples d'apprentissage à 1000. Comparer et discuter les convergences des algorithmes appliqués dans ce cas et dans celui o\\`u le nombre d'exemple est fixé à 50000.\n",
    "\n"
   ]
  },
  {
   "cell_type": "code",
   "execution_count": 23,
   "metadata": {},
   "outputs": [],
   "source": [
    "X_train = X0[:1000]\n",
    "y_train = Y0[:1000]"
   ]
  },
  {
   "cell_type": "code",
   "execution_count": 24,
   "metadata": {},
   "outputs": [],
   "source": [
    "#random.seed(10)\n",
    "#Theta = np.random.rand(X_train.shape[1]+1, 10)"
   ]
  },
  {
   "cell_type": "code",
   "execution_count": 25,
   "metadata": {},
   "outputs": [
    {
     "name": "stdout",
     "output_type": "stream",
     "text": [
      "--- 0.1808609962463379 seconds ---\n",
      "--- 0.17665910720825195 seconds ---\n",
      "--- 0.17472004890441895 seconds ---\n",
      "--- 0.16695809364318848 seconds ---\n",
      "--- 0.1672508716583252 seconds ---\n",
      "--- 0.1604011058807373 seconds ---\n",
      "--- 0.16713690757751465 seconds ---\n",
      "--- 0.16806316375732422 seconds ---\n",
      "--- 0.16853594779968262 seconds ---\n",
      "--- 0.16606521606445312 seconds ---\n",
      "--- 0.16706490516662598 seconds ---\n",
      "--- 0.16236495971679688 seconds ---\n",
      "--- 0.1731562614440918 seconds ---\n",
      "--- 0.15606307983398438 seconds ---\n",
      "--- 0.16271114349365234 seconds ---\n",
      "--- 0.05779600143432617 seconds ---\n",
      "--- 0.010014057159423828 seconds ---\n",
      "--- 0.00979304313659668 seconds ---\n",
      "--- 0.009992837905883789 seconds ---\n",
      "--- 0.00975179672241211 seconds ---\n",
      "--- 0.00981903076171875 seconds ---\n",
      "--- 0.009767770767211914 seconds ---\n",
      "--- 0.010339975357055664 seconds ---\n",
      "--- 0.010777950286865234 seconds ---\n",
      "--- 0.010522127151489258 seconds ---\n",
      "--- 0.011094808578491211 seconds ---\n",
      "--- 0.014406919479370117 seconds ---\n",
      "--- 0.012143850326538086 seconds ---\n",
      "--- 0.011703014373779297 seconds ---\n",
      "--- 0.00962209701538086 seconds ---\n",
      "--- 0.010588884353637695 seconds ---\n",
      "--- 0.013830900192260742 seconds ---\n",
      "--- 0.010786056518554688 seconds ---\n",
      "--- 0.01001596450805664 seconds ---\n",
      "--- 0.009539127349853516 seconds ---\n",
      "--- 0.009261131286621094 seconds ---\n",
      "--- 0.009061098098754883 seconds ---\n",
      "--- 0.009896993637084961 seconds ---\n",
      "--- 0.009434223175048828 seconds ---\n",
      "--- 0.011434078216552734 seconds ---\n",
      "--- 0.011499166488647461 seconds ---\n",
      "--- 0.011365175247192383 seconds ---\n",
      "--- 0.010464191436767578 seconds ---\n",
      "--- 0.01080012321472168 seconds ---\n",
      "--- 0.009480953216552734 seconds ---\n",
      "--- 0.009388923645019531 seconds ---\n",
      "--- 0.010316133499145508 seconds ---\n",
      "--- 0.008826971054077148 seconds ---\n",
      "--- 0.009010076522827148 seconds ---\n",
      "--- 0.009492874145507812 seconds ---\n",
      "--- 0.010387897491455078 seconds ---\n",
      "--- 0.00928807258605957 seconds ---\n",
      "--- 0.009422779083251953 seconds ---\n",
      "--- 0.009338855743408203 seconds ---\n",
      "--- 0.01162099838256836 seconds ---\n",
      "--- 0.009360313415527344 seconds ---\n",
      "--- 0.009359121322631836 seconds ---\n",
      "--- 0.00944209098815918 seconds ---\n",
      "--- 0.009147882461547852 seconds ---\n",
      "--- 0.009456872940063477 seconds ---\n",
      "--- 0.009524106979370117 seconds ---\n",
      "--- 0.009592056274414062 seconds ---\n",
      "--- 0.009288787841796875 seconds ---\n",
      "--- 0.009447813034057617 seconds ---\n",
      "--- 0.009036064147949219 seconds ---\n",
      "--- 0.010050773620605469 seconds ---\n",
      "--- 0.010350942611694336 seconds ---\n",
      "--- 0.010982990264892578 seconds ---\n",
      "--- 0.010824918746948242 seconds ---\n",
      "--- 0.010268211364746094 seconds ---\n",
      "--- 0.009624242782592773 seconds ---\n",
      "--- 0.009158849716186523 seconds ---\n",
      "--- 0.009243965148925781 seconds ---\n",
      "--- 0.00975799560546875 seconds ---\n",
      "--- 0.008795022964477539 seconds ---\n",
      "--- 0.009156227111816406 seconds ---\n",
      "--- 0.009189128875732422 seconds ---\n",
      "--- 0.008427143096923828 seconds ---\n",
      "--- 0.008774757385253906 seconds ---\n",
      "--- 0.009499788284301758 seconds ---\n",
      "--- 0.010003089904785156 seconds ---\n",
      "--- 0.011545896530151367 seconds ---\n",
      "--- 0.012538909912109375 seconds ---\n",
      "--- 0.009046792984008789 seconds ---\n",
      "--- 0.010185956954956055 seconds ---\n",
      "--- 0.00904083251953125 seconds ---\n",
      "--- 0.008749961853027344 seconds ---\n",
      "--- 0.009068965911865234 seconds ---\n",
      "--- 0.008887052536010742 seconds ---\n",
      "--- 0.00875091552734375 seconds ---\n",
      "--- 0.009571075439453125 seconds ---\n",
      "--- 0.009318113327026367 seconds ---\n",
      "--- 0.009495973587036133 seconds ---\n",
      "--- 0.009241104125976562 seconds ---\n",
      "--- 0.008651018142700195 seconds ---\n",
      "--- 0.012323141098022461 seconds ---\n",
      "--- 0.00961923599243164 seconds ---\n",
      "--- 0.009425878524780273 seconds ---\n",
      "--- 0.010391950607299805 seconds ---\n",
      "--- 0.009279012680053711 seconds ---\n",
      "--- 0.009749174118041992 seconds ---\n",
      "--- 0.009313821792602539 seconds ---\n",
      "--- 0.009567022323608398 seconds ---\n",
      "--- 0.010179996490478516 seconds ---\n",
      "--- 0.009894847869873047 seconds ---\n",
      "--- 0.009921073913574219 seconds ---\n",
      "--- 0.01146388053894043 seconds ---\n",
      "--- 0.010853767395019531 seconds ---\n",
      "--- 0.010598182678222656 seconds ---\n",
      "--- 0.01238393783569336 seconds ---\n",
      "--- 0.013050317764282227 seconds ---\n",
      "--- 0.015089273452758789 seconds ---\n",
      "--- 0.012835979461669922 seconds ---\n",
      "--- 0.012682914733886719 seconds ---\n",
      "--- 0.008665800094604492 seconds ---\n",
      "--- 0.01138925552368164 seconds ---\n",
      "--- 0.012018203735351562 seconds ---\n",
      "--- 0.009433984756469727 seconds ---\n",
      "--- 0.008736848831176758 seconds ---\n",
      "--- 0.008814811706542969 seconds ---\n",
      "--- 0.009120941162109375 seconds ---\n",
      "--- 0.009660959243774414 seconds ---\n",
      "--- 0.010326862335205078 seconds ---\n",
      "--- 0.010867834091186523 seconds ---\n",
      "--- 0.008852958679199219 seconds ---\n",
      "--- 0.008706092834472656 seconds ---\n",
      "--- 0.00960397720336914 seconds ---\n",
      "--- 0.009224891662597656 seconds ---\n",
      "--- 0.009763240814208984 seconds ---\n",
      "--- 0.008975028991699219 seconds ---\n",
      "--- 0.009409904479980469 seconds ---\n",
      "--- 0.009179830551147461 seconds ---\n",
      "--- 0.008769035339355469 seconds ---\n",
      "--- 0.010082244873046875 seconds ---\n",
      "--- 0.009280681610107422 seconds ---\n",
      "--- 0.008615970611572266 seconds ---\n",
      "--- 0.009615182876586914 seconds ---\n",
      "--- 0.008849859237670898 seconds ---\n",
      "--- 0.008835077285766602 seconds ---\n",
      "--- 0.008700132369995117 seconds ---\n",
      "--- 0.010097980499267578 seconds ---\n",
      "--- 0.011961936950683594 seconds ---\n",
      "--- 0.009496212005615234 seconds ---\n",
      "--- 0.00894308090209961 seconds ---\n",
      "--- 0.008848190307617188 seconds ---\n",
      "--- 0.008473873138427734 seconds ---\n",
      "--- 0.008907079696655273 seconds ---\n",
      "--- 0.008810043334960938 seconds ---\n",
      "--- 0.008943796157836914 seconds ---\n",
      "--- 0.009443044662475586 seconds ---\n",
      "--- 0.013432025909423828 seconds ---\n",
      "--- 0.012966156005859375 seconds ---\n",
      "--- 0.012084007263183594 seconds ---\n",
      "--- 0.009110212326049805 seconds ---\n",
      "--- 0.008585929870605469 seconds ---\n",
      "--- 0.009471893310546875 seconds ---\n",
      "--- 0.010098934173583984 seconds ---\n",
      "--- 0.009036779403686523 seconds ---\n",
      "--- 0.008546829223632812 seconds ---\n",
      "--- 0.008802175521850586 seconds ---\n",
      "--- 0.009003639221191406 seconds ---\n",
      "--- 0.009082794189453125 seconds ---\n",
      "--- 0.009443998336791992 seconds ---\n",
      "--- 0.009035110473632812 seconds ---\n",
      "--- 0.008777141571044922 seconds ---\n"
     ]
    }
   ],
   "source": [
    "(Entropie_Train,Entropie_Test,score_train,score_test, Theta_DG) = DescentGradient(X_train,X_test, y_train, y_test, Theta, iteration)\n",
    "(Entropie_Train_St,Entropie_Test_St,score_train_St,score_test_St) = DescentGradientStochastique(X_train,X_test, y_train, y_test, Theta, iteration, batch=10)"
   ]
  },
  {
   "cell_type": "code",
   "execution_count": 26,
   "metadata": {
    "scrolled": true
   },
   "outputs": [
    {
     "data": {
      "image/png": "[encoded data removed]",
      "text/plain": [
       "<Figure size 1080x720 with 4 Axes>"
      ]
     },
     "metadata": {
      "needs_background": "light"
     },
     "output_type": "display_data"
    }
   ],
   "source": [
    "plt.figure(figsize = (15, 10))\n",
    "\n",
    "plt.subplot(221)\n",
    "\n",
    "x = np.array([i for i in range(iteration)])\n",
    "y = np.array(Entropie_Train)\n",
    "w = np.array(Entropie_Test)\n",
    "plt.plot(x, y, label='Train')\n",
    "plt.plot(x, w, label='Test')\n",
    "plt.legend()\n",
    "plt.title(\"Entropie\")\n",
    "\n",
    "plt.subplot(222)\n",
    "\n",
    "y = np.array(Entropie_Train_St)\n",
    "w = np.array(Entropie_Test_St)\n",
    "plt.plot(x, y, label='Train')\n",
    "plt.plot(x, w, label='Test')\n",
    "plt.legend()\n",
    "plt.title(\"Entropie Stochastique\")\n",
    "\n",
    "plt.subplot(223)\n",
    "\n",
    "y = np.array(score_train)\n",
    "w = np.array(score_test)\n",
    "plt.plot(x, y, label='Train')\n",
    "plt.plot(x, w, label='Test')\n",
    "plt.legend()\n",
    "plt.title(\"Scores\")\n",
    "\n",
    "plt.subplot(224)\n",
    "\n",
    "y = np.array(score_train_St)\n",
    "w = np.array(score_test_St)\n",
    "plt.plot(x, y, label='Train')\n",
    "plt.plot(x, w, label='Test')\n",
    "plt.legend()\n",
    "plt.title(\"Scores Stochastique\")\n",
    "\n",
    "\n",
    "\n",
    "plt.show()\n"
   ]
  },
  {
   "cell_type": "markdown",
   "metadata": {},
   "source": [
    "---\n",
    "On peut observer que la fonction de perte diminue plus rapidement dans le cas d'un gradient stochastique (mini-batch) avec peu de données. Le score atteint avec le gradient stochastique est bien meilleur que le gradient classique. Néanmomins ces courbes montrent clairement un overfitting du au nombre trop restreint de données. \n",
    "\n",
    "Afin d'avoir de meilleurs résultats il serait interessant d'integrer un terme de régularisation au gradient ou de bruité les données. \n",
    "\n",
    "---"
   ]
  },
  {
   "cell_type": "markdown",
   "metadata": {},
   "source": [
    "## 6. Régression multinomiale en keras."
   ]
  },
  {
   "cell_type": "markdown",
   "metadata": {},
   "source": [
    "**Exercice 5.** Mettre en oeuvre en keras le modèle de régression multinomiale. L'appliquer aux données MNIST. Tracer et commenter l'historique de l'apprentissage.\n"
   ]
  },
  {
   "cell_type": "code",
   "execution_count": 27,
   "metadata": {},
   "outputs": [],
   "source": [
    "import numpy as np\n",
    "from tensorflow import keras\n",
    "from tensorflow.keras import layers"
   ]
  },
  {
   "cell_type": "code",
   "execution_count": 28,
   "metadata": {},
   "outputs": [],
   "source": [
    "num_classes = 10\n",
    "input_shape = (784,1)"
   ]
  },
  {
   "cell_type": "code",
   "execution_count": 29,
   "metadata": {},
   "outputs": [],
   "source": [
    "y_train = keras.utils.to_categorical(Y0, num_classes) #Le vecteur labels est transformé en matrice (n x k) \n",
    "#où y_nk = 1 quand y_n = k, 0 sinon \n",
    "y_test = keras.utils.to_categorical(Y1, num_classes)"
   ]
  },
  {
   "cell_type": "code",
   "execution_count": 30,
   "metadata": {},
   "outputs": [
    {
     "data": {
      "text/plain": [
       "(60000, 10)"
      ]
     },
     "execution_count": 30,
     "metadata": {},
     "output_type": "execute_result"
    }
   ],
   "source": [
    "y_train.shape"
   ]
  },
  {
   "cell_type": "code",
   "execution_count": 31,
   "metadata": {},
   "outputs": [
    {
     "name": "stdout",
     "output_type": "stream",
     "text": [
      "Model: \"sequential\"\n",
      "_________________________________________________________________\n",
      " Layer (type)                Output Shape              Param #   \n",
      "=================================================================\n",
      " flatten (Flatten)           (None, 784)               0         \n",
      "                                                                 \n",
      " dense (Dense)               (None, 10)                7850      \n",
      "                                                                 \n",
      "=================================================================\n",
      "Total params: 7,850\n",
      "Trainable params: 7,850\n",
      "Non-trainable params: 0\n",
      "_________________________________________________________________\n"
     ]
    }
   ],
   "source": [
    "model = keras.Sequential(\n",
    "    [\n",
    "        keras.Input(shape=(784,1)), #shape de chaque vecteur d'entrée \n",
    "        layers.Flatten(), # Applatissement de la matrice (784 x 10) \n",
    "        layers.Dense(num_classes, activation=\"softmax\"), #Couche dense applicant la fonction d'acitivation softmax\n",
    "    ]\n",
    ")\n",
    "\n",
    "model.summary()"
   ]
  },
  {
   "cell_type": "code",
   "execution_count": 32,
   "metadata": {},
   "outputs": [],
   "source": [
    "model.compile(loss=\"categorical_crossentropy\", metrics=[\"accuracy\"]) #  Fonction de perte cossentropy et score \n"
   ]
  },
  {
   "cell_type": "code",
   "execution_count": 33,
   "metadata": {},
   "outputs": [],
   "source": [
    "iteration = 20"
   ]
  },
  {
   "cell_type": "code",
   "execution_count": 34,
   "metadata": {},
   "outputs": [
    {
     "name": "stdout",
     "output_type": "stream",
     "text": [
      "Epoch 1/20\n",
      "1500/1500 [==============================] - 2s 878us/step - loss: 0.4732 - accuracy: 0.8752 - val_loss: 0.3032 - val_accuracy: 0.9163\n",
      "Epoch 2/20\n",
      "1500/1500 [==============================] - 1s 785us/step - loss: 0.3127 - accuracy: 0.9119 - val_loss: 0.2872 - val_accuracy: 0.9208\n",
      "Epoch 3/20\n",
      "1500/1500 [==============================] - 1s 756us/step - loss: 0.2966 - accuracy: 0.9180 - val_loss: 0.2779 - val_accuracy: 0.9242\n",
      "Epoch 4/20\n",
      "1500/1500 [==============================] - 1s 753us/step - loss: 0.2900 - accuracy: 0.9209 - val_loss: 0.2762 - val_accuracy: 0.9262\n",
      "Epoch 5/20\n",
      "1500/1500 [==============================] - 1s 762us/step - loss: 0.2856 - accuracy: 0.9223 - val_loss: 0.2742 - val_accuracy: 0.9274\n",
      "Epoch 6/20\n",
      "1500/1500 [==============================] - 1s 783us/step - loss: 0.2831 - accuracy: 0.9243 - val_loss: 0.2752 - val_accuracy: 0.9267\n",
      "Epoch 7/20\n",
      "1500/1500 [==============================] - 1s 755us/step - loss: 0.2820 - accuracy: 0.9253 - val_loss: 0.2779 - val_accuracy: 0.9282\n",
      "Epoch 8/20\n",
      "1500/1500 [==============================] - 1s 749us/step - loss: 0.2805 - accuracy: 0.9262 - val_loss: 0.2762 - val_accuracy: 0.9294\n",
      "Epoch 9/20\n",
      "1500/1500 [==============================] - 1s 785us/step - loss: 0.2808 - accuracy: 0.9266 - val_loss: 0.2804 - val_accuracy: 0.9280\n",
      "Epoch 10/20\n",
      "1500/1500 [==============================] - 1s 764us/step - loss: 0.2799 - accuracy: 0.9271 - val_loss: 0.2780 - val_accuracy: 0.9295\n",
      "Epoch 11/20\n",
      "1500/1500 [==============================] - 1s 753us/step - loss: 0.2795 - accuracy: 0.9285 - val_loss: 0.2803 - val_accuracy: 0.9294\n",
      "Epoch 12/20\n",
      "1500/1500 [==============================] - 1s 757us/step - loss: 0.2798 - accuracy: 0.9282 - val_loss: 0.2798 - val_accuracy: 0.9302\n",
      "Epoch 13/20\n",
      "1500/1500 [==============================] - 1s 772us/step - loss: 0.2798 - accuracy: 0.9286 - val_loss: 0.2828 - val_accuracy: 0.9307\n",
      "Epoch 14/20\n",
      "1500/1500 [==============================] - 1s 769us/step - loss: 0.2794 - accuracy: 0.9284 - val_loss: 0.2846 - val_accuracy: 0.9302\n",
      "Epoch 15/20\n",
      "1500/1500 [==============================] - 1s 752us/step - loss: 0.2799 - accuracy: 0.9287 - val_loss: 0.2882 - val_accuracy: 0.9307\n",
      "Epoch 16/20\n",
      "1500/1500 [==============================] - 1s 774us/step - loss: 0.2804 - accuracy: 0.9294 - val_loss: 0.2839 - val_accuracy: 0.9313\n",
      "Epoch 17/20\n",
      "1500/1500 [==============================] - 1s 763us/step - loss: 0.2790 - accuracy: 0.9306 - val_loss: 0.2862 - val_accuracy: 0.9306\n",
      "Epoch 18/20\n",
      "1500/1500 [==============================] - 1s 762us/step - loss: 0.2801 - accuracy: 0.9294 - val_loss: 0.2894 - val_accuracy: 0.9298\n",
      "Epoch 19/20\n",
      "1500/1500 [==============================] - 1s 752us/step - loss: 0.2807 - accuracy: 0.9294 - val_loss: 0.2898 - val_accuracy: 0.9295\n",
      "Epoch 20/20\n",
      "1500/1500 [==============================] - 1s 786us/step - loss: 0.2804 - accuracy: 0.9306 - val_loss: 0.2991 - val_accuracy: 0.9275\n"
     ]
    }
   ],
   "source": [
    "history = model.fit(X0, y_train, epochs=iteration, validation_split=0.2)"
   ]
  },
  {
   "cell_type": "code",
   "execution_count": 35,
   "metadata": {
    "scrolled": true
   },
   "outputs": [
    {
     "name": "stdout",
     "output_type": "stream",
     "text": [
      "Test loss: 0.31680506467819214\n",
      "Test accuracy: 0.9247000217437744\n"
     ]
    }
   ],
   "source": [
    "score = model.evaluate(X1, y_test, verbose=0)\n",
    "print(\"Test loss:\", score[0])\n",
    "print(\"Test accuracy:\", score[1])"
   ]
  },
  {
   "cell_type": "code",
   "execution_count": 36,
   "metadata": {},
   "outputs": [
    {
     "data": {
      "image/png": "[encoded data removed]",
      "text/plain": [
       "<Figure size 1080x720 with 2 Axes>"
      ]
     },
     "metadata": {
      "needs_background": "light"
     },
     "output_type": "display_data"
    }
   ],
   "source": [
    "plt.figure(figsize = (15, 10))\n",
    "\n",
    "plt.subplot(221)\n",
    "\n",
    "x = np.array([i for i in range(iteration)])\n",
    "y = np.array(history.history['loss'])\n",
    "w = np.array(history.history['val_loss'])\n",
    "plt.plot(x, y, label='Train')\n",
    "plt.plot(x, w, label='Test')\n",
    "plt.legend()\n",
    "plt.title(\"Loss\")\n",
    "\n",
    "plt.subplot(222)\n",
    "\n",
    "y = np.array(history.history['accuracy'])\n",
    "w = np.array(history.history['val_accuracy'])\n",
    "plt.plot(x, y, label='Train')\n",
    "plt.plot(x, w, label='Test')\n",
    "plt.legend()\n",
    "plt.title(\"Accuracy\")\n",
    "\n",
    "plt.show()"
   ]
  },
  {
   "cell_type": "markdown",
   "metadata": {},
   "source": [
    "--- \n",
    "Ici on observe un bon entrainement sur les données. Le classifieur est entrainé sur 6000 données où 1200 servent de cross validation. Il est tout de même testé à chaque tour sur 1000 données séparées. \n",
    "\n",
    "La fonction de perte commence à augmenter à partir de 10 epochs, cela nous renseigne sur le moment où nous aurions pu arrêter l'entrainement. \n",
    "\n",
    "Nous pouvons aussi se rendre compte que Keras est bien mieux optimisé que notre premier code, le temps de traitement est significativement plus court. \n",
    "\n",
    "---"
   ]
  },
  {
   "cell_type": "markdown",
   "metadata": {},
   "source": [
    "**Exercice 6.** Mettre en oeuvre en Keras le réseau de neurones convolutionnel inspiré de LeNet-5 dont les couches sont décrites dans le tableau ci-dessous:\n",
    "\n",
    "| Type | Cartes | Noyau | Pas | Activation |\n",
    "|------|--------|-------|-----|-------|\n",
    "| Conv.| 6      | 5x5   | 1   | tanh  |\n",
    "| Av. Pooling | 6 | 2x2 | 2 | - | \n",
    "|Conv. | 12 | 5x5 | 1 | tanh |\n",
    "| Av. Pooling | 12 | 2x2 | 4 | - | \n",
    "| Dense | - | 10 | - | softmax|\n",
    "\n",
    "1. Indiquer la dimension des images et le nombre de paramètres à chaque couche. Comparer avec le modèle dense de la régression multinomiale.\n",
    "\n",
    "2. Appliquer le modèle aux données MNIST. Comparer les résultats avec ceux de la régression multinomiale.\n",
    "\n",
    "3. Visualiser les noyaux de convolution et apporter quelques éléments d'interprétation.\n",
    "\n",
    "4. Faire l'apprentissage du réseau sur 6000 exemples. Comparer ses performances avec le réseau dense appris dans les mêmes conditions. Discuter.\n",
    "\n"
   ]
  },
  {
   "cell_type": "markdown",
   "metadata": {},
   "source": [
    "### Vecteur"
   ]
  },
  {
   "cell_type": "code",
   "execution_count": 37,
   "metadata": {},
   "outputs": [],
   "source": [
    "keras.backend.clear_session()"
   ]
  },
  {
   "cell_type": "code",
   "execution_count": 38,
   "metadata": {
    "scrolled": true
   },
   "outputs": [
    {
     "name": "stdout",
     "output_type": "stream",
     "text": [
      "x_train shape: (60000, 784, 1)\n",
      "60000 train samples\n",
      "10000 test samples\n"
     ]
    }
   ],
   "source": [
    "x_train = np.expand_dims(X0, -1)\n",
    "x_test = np.expand_dims(X1, -1)\n",
    "print(\"x_train shape:\", x_train.shape)\n",
    "print(x_train.shape[0], \"train samples\")\n",
    "print(x_test.shape[0], \"test samples\")"
   ]
  },
  {
   "cell_type": "code",
   "execution_count": 39,
   "metadata": {},
   "outputs": [],
   "source": [
    "iteration = 20\n",
    "input_shape = (784, 1)\n",
    "num_classes = 10"
   ]
  },
  {
   "cell_type": "code",
   "execution_count": 40,
   "metadata": {},
   "outputs": [],
   "source": [
    "y_train = keras.utils.to_categorical(Y0, num_classes)\n",
    "y_test = keras.utils.to_categorical(Y1, num_classes)"
   ]
  },
  {
   "cell_type": "code",
   "execution_count": 41,
   "metadata": {
    "scrolled": true
   },
   "outputs": [
    {
     "name": "stdout",
     "output_type": "stream",
     "text": [
      "Model: \"sequential\"\n",
      "_________________________________________________________________\n",
      " Layer (type)                Output Shape              Param #   \n",
      "=================================================================\n",
      " conv1d (Conv1D)             (None, 780, 6)            36        \n",
      "                                                                 \n",
      " average_pooling1d (AverageP  (None, 389, 6)           0         \n",
      " ooling1D)                                                       \n",
      "                                                                 \n",
      " conv1d_1 (Conv1D)           (None, 385, 12)           372       \n",
      "                                                                 \n",
      " average_pooling1d_1 (Averag  (None, 96, 12)           0         \n",
      " ePooling1D)                                                     \n",
      "                                                                 \n",
      " flatten (Flatten)           (None, 1152)              0         \n",
      "                                                                 \n",
      " dense (Dense)               (None, 10)                11530     \n",
      "                                                                 \n",
      "=================================================================\n",
      "Total params: 11,938\n",
      "Trainable params: 11,938\n",
      "Non-trainable params: 0\n",
      "_________________________________________________________________\n"
     ]
    }
   ],
   "source": [
    "model = keras.Sequential(\n",
    "    [\n",
    "        keras.Input(shape=input_shape), \n",
    "        keras.layers.Conv1D(filters=6, kernel_size=5, strides=1, activation=\"tanh\"),\n",
    "        keras.layers.AveragePooling1D(2*2, strides=2),\n",
    "        keras.layers.Conv1D(filters=12, kernel_size=5, strides=1, activation=\"tanh\"),\n",
    "        keras.layers.AveragePooling1D(2*2, strides=4),\n",
    "        keras.layers.Flatten(),\n",
    "        keras.layers.Dense(units=num_classes, activation=\"softmax\"),\n",
    "    ]\n",
    ")\n",
    "\n",
    "model.summary()"
   ]
  },
  {
   "cell_type": "code",
   "execution_count": 42,
   "metadata": {},
   "outputs": [
    {
     "name": "stdout",
     "output_type": "stream",
     "text": [
      "Epoch 1/20\n",
      "1500/1500 [==============================] - 10s 6ms/step - loss: 0.3963 - accuracy: 0.8871 - val_loss: 0.2457 - val_accuracy: 0.9278\n",
      "Epoch 2/20\n",
      "1500/1500 [==============================] - 10s 7ms/step - loss: 0.2403 - accuracy: 0.9265 - val_loss: 0.2154 - val_accuracy: 0.9358\n",
      "Epoch 3/20\n",
      "1500/1500 [==============================] - 9s 6ms/step - loss: 0.1986 - accuracy: 0.9397 - val_loss: 0.1722 - val_accuracy: 0.9498\n",
      "Epoch 4/20\n",
      "1500/1500 [==============================] - 9s 6ms/step - loss: 0.1747 - accuracy: 0.9473 - val_loss: 0.1690 - val_accuracy: 0.9512\n",
      "Epoch 5/20\n",
      "1500/1500 [==============================] - 9s 6ms/step - loss: 0.1598 - accuracy: 0.9515 - val_loss: 0.1632 - val_accuracy: 0.9525\n",
      "Epoch 6/20\n",
      "1500/1500 [==============================] - 9s 6ms/step - loss: 0.1500 - accuracy: 0.9544 - val_loss: 0.1496 - val_accuracy: 0.9576\n",
      "Epoch 7/20\n",
      "1500/1500 [==============================] - 9s 6ms/step - loss: 0.1411 - accuracy: 0.9580 - val_loss: 0.1528 - val_accuracy: 0.9549\n",
      "Epoch 8/20\n",
      "1500/1500 [==============================] - 10s 6ms/step - loss: 0.1359 - accuracy: 0.9585 - val_loss: 0.1414 - val_accuracy: 0.9603\n",
      "Epoch 9/20\n",
      "1500/1500 [==============================] - 10s 7ms/step - loss: 0.1314 - accuracy: 0.9601 - val_loss: 0.1454 - val_accuracy: 0.9597\n",
      "Epoch 10/20\n",
      "1500/1500 [==============================] - 10s 6ms/step - loss: 0.1262 - accuracy: 0.9612 - val_loss: 0.1344 - val_accuracy: 0.9629\n",
      "Epoch 11/20\n",
      "1500/1500 [==============================] - 9s 6ms/step - loss: 0.1214 - accuracy: 0.9633 - val_loss: 0.1401 - val_accuracy: 0.9624\n",
      "Epoch 12/20\n",
      "1500/1500 [==============================] - 9s 6ms/step - loss: 0.1180 - accuracy: 0.9643 - val_loss: 0.1272 - val_accuracy: 0.9647\n",
      "Epoch 13/20\n",
      "1500/1500 [==============================] - 10s 7ms/step - loss: 0.1146 - accuracy: 0.9656 - val_loss: 0.1394 - val_accuracy: 0.9612\n",
      "Epoch 14/20\n",
      "1500/1500 [==============================] - 9s 6ms/step - loss: 0.1115 - accuracy: 0.9663 - val_loss: 0.1295 - val_accuracy: 0.9643\n",
      "Epoch 15/20\n",
      "1500/1500 [==============================] - 10s 6ms/step - loss: 0.1095 - accuracy: 0.9672 - val_loss: 0.1384 - val_accuracy: 0.9626\n",
      "Epoch 16/20\n",
      "1500/1500 [==============================] - 9s 6ms/step - loss: 0.1062 - accuracy: 0.9680 - val_loss: 0.1454 - val_accuracy: 0.9617\n",
      "Epoch 17/20\n",
      "1500/1500 [==============================] - 10s 7ms/step - loss: 0.1037 - accuracy: 0.9690 - val_loss: 0.1191 - val_accuracy: 0.9672\n",
      "Epoch 18/20\n",
      "1500/1500 [==============================] - 10s 7ms/step - loss: 0.1023 - accuracy: 0.9688 - val_loss: 0.1239 - val_accuracy: 0.9663\n",
      "Epoch 19/20\n",
      "1500/1500 [==============================] - 10s 6ms/step - loss: 0.0990 - accuracy: 0.9699 - val_loss: 0.1268 - val_accuracy: 0.9653\n",
      "Epoch 20/20\n",
      "1500/1500 [==============================] - 10s 6ms/step - loss: 0.0981 - accuracy: 0.9707 - val_loss: 0.1192 - val_accuracy: 0.9682\n"
     ]
    }
   ],
   "source": [
    "model.compile(loss=\"categorical_crossentropy\", metrics=[\"accuracy\"])\n",
    "\n",
    "history = model.fit(x_train, y_train, epochs=iteration, validation_split=0.2)"
   ]
  },
  {
   "cell_type": "code",
   "execution_count": 43,
   "metadata": {},
   "outputs": [
    {
     "name": "stdout",
     "output_type": "stream",
     "text": [
      "Test loss: 0.1090637594461441\n",
      "Test accuracy: 0.96670001745224\n"
     ]
    }
   ],
   "source": [
    "score = model.evaluate(x_test, y_test, verbose=0)\n",
    "print(\"Test loss:\", score[0])\n",
    "print(\"Test accuracy:\", score[1])"
   ]
  },
  {
   "cell_type": "code",
   "execution_count": 44,
   "metadata": {
    "scrolled": true
   },
   "outputs": [
    {
     "data": {
      "image/png": "[encoded data removed]",
      "text/plain": [
       "<Figure size 1080x720 with 2 Axes>"
      ]
     },
     "metadata": {
      "needs_background": "light"
     },
     "output_type": "display_data"
    }
   ],
   "source": [
    "plt.figure(figsize = (15, 10))\n",
    "\n",
    "plt.subplot(221)\n",
    "\n",
    "x = np.array([i for i in range(iteration)])\n",
    "y = np.array(history.history['loss'])\n",
    "w = np.array(history.history['val_loss'])\n",
    "plt.plot(x, y, label='Train')\n",
    "plt.plot(x, w, label='Test')\n",
    "plt.legend()\n",
    "plt.title(\"Loss\")\n",
    "\n",
    "plt.subplot(222)\n",
    "\n",
    "y = np.array(history.history['accuracy'])\n",
    "w = np.array(history.history['val_accuracy'])\n",
    "plt.plot(x, y, label='Train')\n",
    "plt.plot(x, w, label='Test')\n",
    "plt.legend()\n",
    "plt.title(\"Accuracy\")\n",
    "\n",
    "plt.show()"
   ]
  },
  {
   "cell_type": "markdown",
   "metadata": {},
   "source": [
    "--- \n",
    "Ici le modèle en 1D est assez efficace mais les courbes varient ce qui évoque une instabilité de l'apprentissage. En effet, les images étant en 2D, l'apprentissage en 1D n'est pas naturelle. L'information spatiale est perdue. \n",
    "\n",
    "---"
   ]
  },
  {
   "cell_type": "markdown",
   "metadata": {},
   "source": [
    "### Matrice"
   ]
  },
  {
   "cell_type": "code",
   "execution_count": 45,
   "metadata": {},
   "outputs": [],
   "source": [
    "keras.backend.clear_session()"
   ]
  },
  {
   "cell_type": "code",
   "execution_count": 46,
   "metadata": {},
   "outputs": [
    {
     "name": "stdout",
     "output_type": "stream",
     "text": [
      "x_train shape: (60000, 28, 28, 1)\n",
      "60000 train samples\n",
      "10000 test samples\n"
     ]
    }
   ],
   "source": [
    "X0 = X0.reshape(60000, 28, 28)\n",
    "X1 = X1.reshape(10000, 28, 28)\n",
    "# Make sure images have shape (28, 28, 1)\n",
    "x_train = np.expand_dims(X0, -1)\n",
    "x_test = np.expand_dims(X1, -1)\n",
    "print(\"x_train shape:\", x_train.shape)\n",
    "print(x_train.shape[0], \"train samples\")\n",
    "print(x_test.shape[0], \"test samples\")"
   ]
  },
  {
   "cell_type": "code",
   "execution_count": 47,
   "metadata": {},
   "outputs": [],
   "source": [
    "iteration = 20\n",
    "num_classes = 10"
   ]
  },
  {
   "cell_type": "code",
   "execution_count": 48,
   "metadata": {},
   "outputs": [],
   "source": [
    "y_train = keras.utils.to_categorical(Y0, num_classes)\n",
    "y_test = keras.utils.to_categorical(Y1, num_classes)"
   ]
  },
  {
   "cell_type": "code",
   "execution_count": 49,
   "metadata": {},
   "outputs": [],
   "source": [
    "input_shape = (28, 28,1)\n",
    "num_classes = 10"
   ]
  },
  {
   "cell_type": "code",
   "execution_count": 50,
   "metadata": {
    "scrolled": false
   },
   "outputs": [
    {
     "name": "stdout",
     "output_type": "stream",
     "text": [
      "Model: \"sequential\"\n",
      "_________________________________________________________________\n",
      " Layer (type)                Output Shape              Param #   \n",
      "=================================================================\n",
      " conv2d (Conv2D)             (None, 24, 24, 6)         156       \n",
      "                                                                 \n",
      " average_pooling2d (AverageP  (None, 11, 11, 6)        0         \n",
      " ooling2D)                                                       \n",
      "                                                                 \n",
      " conv2d_1 (Conv2D)           (None, 7, 7, 12)          1812      \n",
      "                                                                 \n",
      " average_pooling2d_1 (Averag  (None, 3, 3, 12)         0         \n",
      " ePooling2D)                                                     \n",
      "                                                                 \n",
      " flatten (Flatten)           (None, 108)               0         \n",
      "                                                                 \n",
      " dense (Dense)               (None, 10)                1090      \n",
      "                                                                 \n",
      "=================================================================\n",
      "Total params: 3,058\n",
      "Trainable params: 3,058\n",
      "Non-trainable params: 0\n",
      "_________________________________________________________________\n"
     ]
    }
   ],
   "source": [
    "model = keras.Sequential(\n",
    "    [\n",
    "        keras.Input(shape=input_shape),\n",
    "        keras.layers.Conv2D(filters=6, kernel_size=(5, 5), strides=1, activation=\"tanh\"),\n",
    "        keras.layers.AveragePooling2D(2*2, strides=2),\n",
    "        keras.layers.Conv2D(filters=12, kernel_size=(5, 5), strides=1, activation=\"tanh\"),\n",
    "        keras.layers.AveragePooling2D(),\n",
    "        keras.layers.Flatten(),\n",
    "        keras.layers.Dense(num_classes, activation=\"softmax\"),\n",
    "    ]\n",
    ")\n",
    "\n",
    "model.summary()"
   ]
  },
  {
   "cell_type": "code",
   "execution_count": 51,
   "metadata": {
    "scrolled": true
   },
   "outputs": [
    {
     "name": "stdout",
     "output_type": "stream",
     "text": [
      "Epoch 1/20\n",
      "1500/1500 [==============================] - 9s 6ms/step - loss: 0.5054 - accuracy: 0.8586 - val_loss: 0.2382 - val_accuracy: 0.9322\n",
      "Epoch 2/20\n",
      "1500/1500 [==============================] - 9s 6ms/step - loss: 0.1987 - accuracy: 0.9426 - val_loss: 0.1407 - val_accuracy: 0.9593\n",
      "Epoch 3/20\n",
      "1500/1500 [==============================] - 9s 6ms/step - loss: 0.1311 - accuracy: 0.9614 - val_loss: 0.1060 - val_accuracy: 0.9693\n",
      "Epoch 4/20\n",
      "1500/1500 [==============================] - 9s 6ms/step - loss: 0.1022 - accuracy: 0.9706 - val_loss: 0.0878 - val_accuracy: 0.9745\n",
      "Epoch 5/20\n",
      "1500/1500 [==============================] - 9s 6ms/step - loss: 0.0870 - accuracy: 0.9743 - val_loss: 0.0788 - val_accuracy: 0.9769\n",
      "Epoch 6/20\n",
      "1500/1500 [==============================] - 9s 6ms/step - loss: 0.0768 - accuracy: 0.9764 - val_loss: 0.0707 - val_accuracy: 0.9797\n",
      "Epoch 7/20\n",
      "1500/1500 [==============================] - 9s 6ms/step - loss: 0.0696 - accuracy: 0.9787 - val_loss: 0.0718 - val_accuracy: 0.9791\n",
      "Epoch 8/20\n",
      "1500/1500 [==============================] - 9s 6ms/step - loss: 0.0646 - accuracy: 0.9810 - val_loss: 0.0631 - val_accuracy: 0.9811\n",
      "Epoch 9/20\n",
      "1500/1500 [==============================] - 9s 6ms/step - loss: 0.0605 - accuracy: 0.9815 - val_loss: 0.0641 - val_accuracy: 0.9805\n",
      "Epoch 10/20\n",
      "1500/1500 [==============================] - 9s 6ms/step - loss: 0.0570 - accuracy: 0.9827 - val_loss: 0.0605 - val_accuracy: 0.9827\n",
      "Epoch 11/20\n",
      "1500/1500 [==============================] - 9s 6ms/step - loss: 0.0545 - accuracy: 0.9831 - val_loss: 0.0549 - val_accuracy: 0.9837\n",
      "Epoch 12/20\n",
      "1500/1500 [==============================] - 9s 6ms/step - loss: 0.0522 - accuracy: 0.9841 - val_loss: 0.0566 - val_accuracy: 0.9825\n",
      "Epoch 13/20\n",
      "1500/1500 [==============================] - 9s 6ms/step - loss: 0.0504 - accuracy: 0.9846 - val_loss: 0.0539 - val_accuracy: 0.9840\n",
      "Epoch 14/20\n",
      "1500/1500 [==============================] - 9s 6ms/step - loss: 0.0485 - accuracy: 0.9847 - val_loss: 0.0577 - val_accuracy: 0.9827\n",
      "Epoch 15/20\n",
      "1500/1500 [==============================] - 9s 6ms/step - loss: 0.0472 - accuracy: 0.9856 - val_loss: 0.0533 - val_accuracy: 0.9843\n",
      "Epoch 16/20\n",
      "1500/1500 [==============================] - 9s 6ms/step - loss: 0.0456 - accuracy: 0.9859 - val_loss: 0.0508 - val_accuracy: 0.9843\n",
      "Epoch 17/20\n",
      "1500/1500 [==============================] - 9s 6ms/step - loss: 0.0441 - accuracy: 0.9866 - val_loss: 0.0623 - val_accuracy: 0.9815\n",
      "Epoch 18/20\n",
      "1500/1500 [==============================] - 9s 6ms/step - loss: 0.0437 - accuracy: 0.9866 - val_loss: 0.0502 - val_accuracy: 0.9851\n",
      "Epoch 19/20\n",
      "1500/1500 [==============================] - 9s 6ms/step - loss: 0.0429 - accuracy: 0.9870 - val_loss: 0.0496 - val_accuracy: 0.9858\n",
      "Epoch 20/20\n",
      "1500/1500 [==============================] - 9s 6ms/step - loss: 0.0416 - accuracy: 0.9873 - val_loss: 0.0489 - val_accuracy: 0.9859\n"
     ]
    }
   ],
   "source": [
    "model.compile(loss=\"categorical_crossentropy\", metrics=[\"accuracy\"])\n",
    "\n",
    "history = model.fit(x_train, y_train, epochs=iteration, validation_split=0.2)"
   ]
  },
  {
   "cell_type": "code",
   "execution_count": 52,
   "metadata": {},
   "outputs": [
    {
     "name": "stdout",
     "output_type": "stream",
     "text": [
      "Test loss: 0.04206538200378418\n",
      "Test accuracy: 0.9861000180244446\n"
     ]
    }
   ],
   "source": [
    "score = model.evaluate(x_test, y_test, verbose=0)\n",
    "print(\"Test loss:\", score[0])\n",
    "print(\"Test accuracy:\", score[1])"
   ]
  },
  {
   "cell_type": "code",
   "execution_count": 53,
   "metadata": {
    "scrolled": false
   },
   "outputs": [
    {
     "data": {
      "image/png": "[encoded data removed]",
      "text/plain": [
       "<Figure size 1080x720 with 2 Axes>"
      ]
     },
     "metadata": {
      "needs_background": "light"
     },
     "output_type": "display_data"
    }
   ],
   "source": [
    "plt.figure(figsize = (15, 10))\n",
    "\n",
    "plt.subplot(221)\n",
    "\n",
    "x = np.array([i for i in range(iteration)])\n",
    "y = np.array(history.history['loss'])\n",
    "w = np.array(history.history['val_loss'])\n",
    "plt.plot(x, y, label='Train')\n",
    "plt.plot(x, w, label='Test')\n",
    "plt.legend()\n",
    "plt.title(\"Loss\")\n",
    "\n",
    "plt.subplot(222)\n",
    "\n",
    "y = np.array(history.history['accuracy'])\n",
    "w = np.array(history.history['val_accuracy'])\n",
    "plt.plot(x, y, label='Train')\n",
    "plt.plot(x, w, label='Test')\n",
    "plt.legend()\n",
    "plt.title(\"Accuracy\")\n",
    "\n",
    "plt.show()"
   ]
  },
  {
   "cell_type": "markdown",
   "metadata": {},
   "source": [
    "--- \n",
    "Nous pouvons observer que les résultats du mdèles en 2D est meilleur qu'en une seule dimension, en effet, l'information spatiale est conservée. Nous puvons aussi voir que l'entrainement pourrait s'arreter au bout de 5 epochs ce qui est très rapide. \n",
    "\n",
    "---"
   ]
  },
  {
   "cell_type": "markdown",
   "metadata": {},
   "source": [
    "### Visualisation des couches "
   ]
  },
  {
   "cell_type": "code",
   "execution_count": 54,
   "metadata": {},
   "outputs": [],
   "source": [
    "keras.backend.clear_session()"
   ]
  },
  {
   "cell_type": "code",
   "execution_count": 55,
   "metadata": {
    "scrolled": true
   },
   "outputs": [
    {
     "name": "stdout",
     "output_type": "stream",
     "text": [
      "Model: \"sequential\"\n",
      "_________________________________________________________________\n",
      " Layer (type)                Output Shape              Param #   \n",
      "=================================================================\n",
      " conv2d (Conv2D)             (None, 24, 24, 6)         156       \n",
      "                                                                 \n",
      " average_pooling2d (AverageP  (None, 11, 11, 6)        0         \n",
      " ooling2D)                                                       \n",
      "                                                                 \n",
      " conv2d_1 (Conv2D)           (None, 7, 7, 12)          1812      \n",
      "                                                                 \n",
      " average_pooling2d_1 (Averag  (None, 3, 3, 12)         0         \n",
      " ePooling2D)                                                     \n",
      "                                                                 \n",
      " flatten (Flatten)           (None, 108)               0         \n",
      "                                                                 \n",
      " dense (Dense)               (None, 10)                1090      \n",
      "                                                                 \n",
      "=================================================================\n",
      "Total params: 3,058\n",
      "Trainable params: 3,058\n",
      "Non-trainable params: 0\n",
      "_________________________________________________________________\n"
     ]
    }
   ],
   "source": [
    "model = keras.Sequential()\n",
    "model.add(keras.Input(shape=input_shape))\n",
    "model.add(keras.layers.Conv2D(filters=6, kernel_size=(5, 5), strides=1, activation=\"tanh\"))\n",
    "model.add(keras.layers.AveragePooling2D(2*2, strides=2))\n",
    "model.add(keras.layers.Conv2D(filters=12, kernel_size=(5, 5), strides=1, activation=\"tanh\"))\n",
    "model.add(keras.layers.AveragePooling2D())\n",
    "model.add(keras.layers.Flatten())\n",
    "model.add(keras.layers.Dense(num_classes, activation=\"softmax\"))\n",
    "\n",
    "\n",
    "model.summary()"
   ]
  },
  {
   "cell_type": "code",
   "execution_count": 56,
   "metadata": {},
   "outputs": [
    {
     "name": "stdout",
     "output_type": "stream",
     "text": [
      "Epoch 1/20\n",
      "1500/1500 [==============================] - 9s 6ms/step - loss: 0.5185 - accuracy: 0.8571 - val_loss: 0.2173 - val_accuracy: 0.9370\n",
      "Epoch 2/20\n",
      "1500/1500 [==============================] - 9s 6ms/step - loss: 0.1727 - accuracy: 0.9500 - val_loss: 0.1334 - val_accuracy: 0.9633\n",
      "Epoch 3/20\n",
      "1500/1500 [==============================] - 9s 6ms/step - loss: 0.1149 - accuracy: 0.9663 - val_loss: 0.0964 - val_accuracy: 0.9726\n",
      "Epoch 4/20\n",
      "1500/1500 [==============================] - 9s 6ms/step - loss: 0.0932 - accuracy: 0.9720 - val_loss: 0.0859 - val_accuracy: 0.9746\n",
      "Epoch 5/20\n",
      "1500/1500 [==============================] - 9s 6ms/step - loss: 0.0811 - accuracy: 0.9756 - val_loss: 0.0756 - val_accuracy: 0.9786\n",
      "Epoch 6/20\n",
      "1500/1500 [==============================] - 9s 6ms/step - loss: 0.0725 - accuracy: 0.9778 - val_loss: 0.0697 - val_accuracy: 0.9791\n",
      "Epoch 7/20\n",
      "1500/1500 [==============================] - 9s 6ms/step - loss: 0.0666 - accuracy: 0.9794 - val_loss: 0.0671 - val_accuracy: 0.9803\n",
      "Epoch 8/20\n",
      "1500/1500 [==============================] - 9s 6ms/step - loss: 0.0617 - accuracy: 0.9809 - val_loss: 0.0622 - val_accuracy: 0.9813\n",
      "Epoch 9/20\n",
      "1500/1500 [==============================] - 9s 6ms/step - loss: 0.0583 - accuracy: 0.9820 - val_loss: 0.0603 - val_accuracy: 0.9822\n",
      "Epoch 10/20\n",
      "1500/1500 [==============================] - 9s 6ms/step - loss: 0.0549 - accuracy: 0.9831 - val_loss: 0.0582 - val_accuracy: 0.9845\n",
      "Epoch 11/20\n",
      "1500/1500 [==============================] - 9s 6ms/step - loss: 0.0524 - accuracy: 0.9839 - val_loss: 0.0556 - val_accuracy: 0.9850\n",
      "Epoch 12/20\n",
      "1500/1500 [==============================] - 9s 6ms/step - loss: 0.0498 - accuracy: 0.9844 - val_loss: 0.0556 - val_accuracy: 0.9843\n",
      "Epoch 13/20\n",
      "1500/1500 [==============================] - 9s 6ms/step - loss: 0.0482 - accuracy: 0.9849 - val_loss: 0.0523 - val_accuracy: 0.9850\n",
      "Epoch 14/20\n",
      "1500/1500 [==============================] - 9s 6ms/step - loss: 0.0460 - accuracy: 0.9858 - val_loss: 0.0513 - val_accuracy: 0.9859\n",
      "Epoch 15/20\n",
      "1500/1500 [==============================] - 9s 6ms/step - loss: 0.0446 - accuracy: 0.9866 - val_loss: 0.0512 - val_accuracy: 0.9858\n",
      "Epoch 16/20\n",
      "1500/1500 [==============================] - 9s 6ms/step - loss: 0.0428 - accuracy: 0.9866 - val_loss: 0.0513 - val_accuracy: 0.9861\n",
      "Epoch 17/20\n",
      "1500/1500 [==============================] - 9s 6ms/step - loss: 0.0423 - accuracy: 0.9868 - val_loss: 0.0527 - val_accuracy: 0.9856\n",
      "Epoch 18/20\n",
      "1500/1500 [==============================] - 9s 6ms/step - loss: 0.0405 - accuracy: 0.9876 - val_loss: 0.0476 - val_accuracy: 0.9868\n",
      "Epoch 19/20\n",
      "1500/1500 [==============================] - 9s 6ms/step - loss: 0.0395 - accuracy: 0.9881 - val_loss: 0.0495 - val_accuracy: 0.9864\n",
      "Epoch 20/20\n",
      "1500/1500 [==============================] - 10s 6ms/step - loss: 0.0385 - accuracy: 0.9880 - val_loss: 0.0503 - val_accuracy: 0.9862\n"
     ]
    }
   ],
   "source": [
    "model.compile(loss=\"categorical_crossentropy\", metrics=[\"accuracy\"])\n",
    "\n",
    "history = model.fit(x_train, y_train, epochs=iteration, validation_split=0.2)"
   ]
  },
  {
   "cell_type": "code",
   "execution_count": 57,
   "metadata": {},
   "outputs": [
    {
     "name": "stdout",
     "output_type": "stream",
     "text": [
      "Test loss: 0.03871733695268631\n",
      "Test accuracy: 0.9878000020980835\n"
     ]
    }
   ],
   "source": [
    "score = model.evaluate(x_test, y_test, verbose=0)\n",
    "print(\"Test loss:\", score[0])\n",
    "print(\"Test accuracy:\", score[1])"
   ]
  },
  {
   "cell_type": "code",
   "execution_count": 58,
   "metadata": {},
   "outputs": [
    {
     "name": "stdout",
     "output_type": "stream",
     "text": [
      "(28, 28)\n",
      "(28, 28, 1)\n",
      "(1, 28, 28, 1)\n",
      "(1, 28, 28, 1)\n"
     ]
    }
   ],
   "source": [
    "img_tensor = X1[1].reshape(28, 28)\n",
    "print(img_tensor.shape)\n",
    "img_tensor = image.img_to_array(img_tensor)\n",
    "print(img_tensor.shape)\n",
    "img_tensor = np.expand_dims(img_tensor, axis=0)\n",
    "img_tensor /= 255.\n",
    "print(img_tensor.shape)\n",
    "#plt.imshow(img_tensor)\n",
    "#plt.show()\n",
    "print(img_tensor.shape)"
   ]
  },
  {
   "cell_type": "code",
   "execution_count": 59,
   "metadata": {},
   "outputs": [],
   "source": [
    "layer_outputs = [layer.output for layer in model.layers[:7]] \n",
    "# Extracts the outputs of the top 12 layers\n",
    "activation_model = models.Model(inputs=model.input, outputs=layer_outputs) \n",
    "# Creates a model that will return these outputs, given the model input"
   ]
  },
  {
   "cell_type": "code",
   "execution_count": 60,
   "metadata": {},
   "outputs": [],
   "source": [
    "activations = activation_model.predict(img_tensor) \n",
    "# Returns a list of five Numpy arrays: one array per layer activation"
   ]
  },
  {
   "cell_type": "markdown",
   "metadata": {},
   "source": [
    "**Image d'entrée**"
   ]
  },
  {
   "cell_type": "code",
   "execution_count": 61,
   "metadata": {},
   "outputs": [
    {
     "data": {
      "image/png": "[encoded data removed]",
      "text/plain": [
       "<Figure size 432x288 with 1 Axes>"
      ]
     },
     "metadata": {
      "needs_background": "light"
     },
     "output_type": "display_data"
    }
   ],
   "source": [
    "plt.imshow(X1[1, :].reshape(28, 28), cmap=\"gray\")\n",
    "plt.show()"
   ]
  },
  {
   "cell_type": "markdown",
   "metadata": {},
   "source": [
    "**1ere couche de convolution** "
   ]
  },
  {
   "cell_type": "code",
   "execution_count": 62,
   "metadata": {},
   "outputs": [
    {
     "name": "stdout",
     "output_type": "stream",
     "text": [
      "(1, 24, 24, 6)\n"
     ]
    }
   ],
   "source": [
    "first_layer_activation = activations[0]\n",
    "print(first_layer_activation.shape)"
   ]
  },
  {
   "cell_type": "code",
   "execution_count": 63,
   "metadata": {
    "scrolled": true
   },
   "outputs": [
    {
     "data": {
      "image/png": "[encoded data removed]",
      "text/plain": [
       "<Figure size 432x288 with 6 Axes>"
      ]
     },
     "metadata": {
      "needs_background": "light"
     },
     "output_type": "display_data"
    }
   ],
   "source": [
    "ncols = 6\n",
    "nrows = 1\n",
    "grid = GridSpec(nrows, ncols,left=0.1, bottom=0.05, right=10, top=10)\n",
    "fig = plt.figure(0)\n",
    "fig.clf()\n",
    "\n",
    "\n",
    "ax = []\n",
    "for i in range(ncols) : \n",
    "    ax.append(fig.add_subplot(grid[0, i]))\n",
    "for i in range(ncols) : \n",
    "    ax[i].matshow(first_layer_activation[0, :, :, i], cmap='viridis')\n",
    "    \n",
    "plt.show()"
   ]
  },
  {
   "cell_type": "markdown",
   "metadata": {},
   "source": [
    "---\n",
    "Ici nous pouvons observer le filtrage oppéré sur les images à la première couche de convltion. Certaines images recrééent soulignent l'importance apportée à la direction des trais (1,2,6 ièmes images) ou le contraste (5ième image). \n",
    "\n",
    "---"
   ]
  },
  {
   "cell_type": "markdown",
   "metadata": {},
   "source": [
    "**2eme couche**"
   ]
  },
  {
   "cell_type": "code",
   "execution_count": 64,
   "metadata": {},
   "outputs": [
    {
     "name": "stdout",
     "output_type": "stream",
     "text": [
      "(1, 11, 11, 6)\n"
     ]
    }
   ],
   "source": [
    "first_layer_activation = activations[1]\n",
    "print(first_layer_activation.shape)"
   ]
  },
  {
   "cell_type": "code",
   "execution_count": 65,
   "metadata": {
    "scrolled": false
   },
   "outputs": [
    {
     "data": {
      "image/png": "[encoded data removed]",
      "text/plain": [
       "<Figure size 432x288 with 6 Axes>"
      ]
     },
     "metadata": {
      "needs_background": "light"
     },
     "output_type": "display_data"
    }
   ],
   "source": [
    "ncols = 6\n",
    "nrows = 1\n",
    "grid = GridSpec(nrows, ncols,left=0.1, bottom=0.05, right=10, top=10)\n",
    "fig = plt.figure(0)\n",
    "fig.clf()\n",
    "\n",
    "\n",
    "ax = []\n",
    "for i in range(ncols) : \n",
    "    ax.append(fig.add_subplot(grid[0, i]))\n",
    "for i in range(ncols) : \n",
    "    ax[i].matshow(first_layer_activation[0, :, :, i], cmap='viridis')\n",
    "    \n",
    "plt.show()"
   ]
  },
  {
   "cell_type": "markdown",
   "metadata": {},
   "source": [
    "---\n",
    "La seconde couche correspond à la réduction de l'image par moyenne. Ainsi les mêmes informations que la première couche sont représentés mais en condensées.\n",
    "\n",
    "---"
   ]
  },
  {
   "cell_type": "markdown",
   "metadata": {},
   "source": [
    "**3eme couche**"
   ]
  },
  {
   "cell_type": "code",
   "execution_count": 66,
   "metadata": {},
   "outputs": [
    {
     "name": "stdout",
     "output_type": "stream",
     "text": [
      "(1, 7, 7, 12)\n"
     ]
    }
   ],
   "source": [
    "first_layer_activation = activations[2]\n",
    "print(first_layer_activation.shape)"
   ]
  },
  {
   "cell_type": "code",
   "execution_count": 67,
   "metadata": {
    "scrolled": true
   },
   "outputs": [
    {
     "data": {
      "image/png": "[encoded data removed]",
      "text/plain": [
       "<Figure size 432x288 with 12 Axes>"
      ]
     },
     "metadata": {
      "needs_background": "light"
     },
     "output_type": "display_data"
    }
   ],
   "source": [
    "ncols = 12\n",
    "nrows = 1\n",
    "grid = GridSpec(nrows, ncols,left=0.1, bottom=0.05, right=10, top=10)\n",
    "fig = plt.figure(0)\n",
    "fig.clf()\n",
    "\n",
    "\n",
    "ax = []\n",
    "for i in range(ncols) : \n",
    "    ax.append(fig.add_subplot(grid[0, i]))\n",
    "for i in range(ncols) : \n",
    "    ax[i].matshow(first_layer_activation[0, :, :, i], cmap='viridis')\n",
    "    \n",
    "plt.show()"
   ]
  },
  {
   "cell_type": "markdown",
   "metadata": {},
   "source": [
    "---\n",
    "Cette seconde couche de convolution est plus abstraite et il est difficile d'en donner une interprétation. \n",
    "\n",
    "---"
   ]
  },
  {
   "cell_type": "markdown",
   "metadata": {},
   "source": [
    "**4eme couche**"
   ]
  },
  {
   "cell_type": "code",
   "execution_count": 68,
   "metadata": {},
   "outputs": [
    {
     "name": "stdout",
     "output_type": "stream",
     "text": [
      "(1, 3, 3, 12)\n"
     ]
    }
   ],
   "source": [
    "first_layer_activation = activations[3]\n",
    "print(first_layer_activation.shape)"
   ]
  },
  {
   "cell_type": "code",
   "execution_count": 69,
   "metadata": {
    "scrolled": false
   },
   "outputs": [
    {
     "data": {
      "image/png": "[encoded data removed]",
      "text/plain": [
       "<Figure size 432x288 with 12 Axes>"
      ]
     },
     "metadata": {
      "needs_background": "light"
     },
     "output_type": "display_data"
    }
   ],
   "source": [
    "ncols = 12\n",
    "nrows = 1\n",
    "grid = GridSpec(nrows, ncols,left=0.1, bottom=0.05, right=10, top=10)\n",
    "fig = plt.figure(0)\n",
    "fig.clf()\n",
    "\n",
    "\n",
    "ax = []\n",
    "for i in range(ncols) : \n",
    "    ax.append(fig.add_subplot(grid[0, i]))\n",
    "for i in range(ncols) : \n",
    "    ax[i].matshow(first_layer_activation[0, :, :, i], cmap='viridis')\n",
    "    \n",
    "plt.show()"
   ]
  },
  {
   "cell_type": "markdown",
   "metadata": {},
   "source": [
    "---\n",
    "Nous avons ainsi pu voir les images reconstituées à chaque couche et ainsi voir ce qui permet au modèle de reconaitre les chiffres. Pour mieux comprendre il faudrait comparer ces différentes couches avec différents chiffres. \n",
    "\n",
    "---"
   ]
  },
  {
   "cell_type": "markdown",
   "metadata": {},
   "source": [
    "Il existe un site internet permetant de visualiser un réseau de neurone entrainé sur les données MNIST, voici le lien : https://www.cs.ryerson.ca/~aharley/vis/conv/"
   ]
  }
 ],
 "metadata": {
  "kernelspec": {
   "display_name": "Python 3",
   "language": "python",
   "name": "python3"
  },
  "language_info": {
   "codemirror_mode": {
    "name": "ipython",
    "version": 3
   },
   "file_extension": ".py",
   "mimetype": "text/x-python",
   "name": "python",
   "nbconvert_exporter": "python",
   "pygments_lexer": "ipython3",
   "version": "3.8.3"
  }
 },
 "nbformat": 4,
 "nbformat_minor": 4
}
